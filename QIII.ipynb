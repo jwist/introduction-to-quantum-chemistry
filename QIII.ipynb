{
 "cells": [
  {
   "cell_type": "markdown",
   "metadata": {
    "slideshow": {
     "slide_type": "slide"
    }
   },
   "source": [
    "# QIII\n",
    "\n",
    "Julien Wist --- Univalle\n"
   ]
  },
  {
   "cell_type": "markdown",
   "metadata": {
    "slideshow": {
     "slide_type": "slide"
    }
   },
   "source": [
    "## quantum preliminaries"
   ]
  },
  {
   "cell_type": "markdown",
   "metadata": {
    "slideshow": {
     "slide_type": "slide"
    }
   },
   "source": [
    "## Expected values:\n",
    "\n",
    "The expected value is the value we obtain when repeating several time a measurement. \n",
    "If we measure the length of a table several time, the expected value is simply the average \n",
    "of the measurements. In the case of a random measurement, a dice, then the theory of probability\n",
    "should provide with a model to find out the result\n",
    "\n",
    "For a dice this would be:\n",
    "$$ \n",
    "E_x=1\\frac{1}{6}+2\\frac{1}{6}+3\\frac{1}{6}+...=\\frac{1}{6}+\\frac{2}{6}+\\frac{3}{6}+...\n",
    "$$\n",
    "\n"
   ]
  },
  {
   "cell_type": "markdown",
   "metadata": {
    "slideshow": {
     "slide_type": "slide"
    }
   },
   "source": [
    "## Expected values\n",
    "\n",
    "In the case we have discrete measurement we can write:\n",
    "$$\n",
    "E(x) = \\int_{-\\infty}^\\infty xf(x)dx\n",
    "$$\n",
    "\n",
    "For continous measurement we need to recast it as:\n",
    "$$\n",
    "E(x) = \\sum_{i=1}^\\infty x_ip_i\\\n",
    "$$\n",
    "\n",
    "This equation might be used to find out the mass of an object with inhomogeneous density, or \n",
    "the temperature of an object that is connected to two heat sources that have different temperatures $T_1$ and $T_2$.\n"
   ]
  },
  {
   "cell_type": "markdown",
   "metadata": {
    "slideshow": {
     "slide_type": "slide"
    }
   },
   "source": [
    "## a simple example - a coin\n",
    "\n",
    "<img src=\"../congo-soccer-big.jpg\" width=\"200\" >\n",
    "\n",
    "Can we find differente representation for the expected values of head and tail?\n",
    "\n",
    "We can associate a value for both sides of the coin: 1 and -1.\n",
    "Then a solution is trivial: $$ E=-1\\frac{1}{2} + 1\\frac{1}{2} = 0 $$\n"
   ]
  },
  {
   "cell_type": "markdown",
   "metadata": {
    "slideshow": {
     "slide_type": "slide"
    }
   },
   "source": [
    "## initial and final state\n",
    "we can assign the following mathematical object to both initial state \"head\" and \"tail\":\n",
    "\n",
    "$$\n",
    "z_p=\\left( \\begin{array}{c} 1 \\\\ 0 \\end{array} \\right)\n",
    "$$\n",
    "\n",
    "$$\n",
    "z_m = \\left( \\begin{array}{c} 0 \\\\ 1 \\end{array} \\right)\n",
    "$$\n",
    "\n"
   ]
  },
  {
   "cell_type": "markdown",
   "metadata": {
    "slideshow": {
     "slide_type": "slide"
    }
   },
   "source": [
    "## Stern and Gerlach\n",
    "\n",
    "<img src=\"../Sg-seq.1.svg\" width=\"400\">"
   ]
  },
  {
   "cell_type": "markdown",
   "metadata": {
    "slideshow": {
     "slide_type": "subslide"
    }
   },
   "source": [
    "## Stern and Gerlach\n",
    "\n",
    "<img src=\"../Sg-seq.2.svg\" width=\"400\">"
   ]
  },
  {
   "cell_type": "markdown",
   "metadata": {
    "slideshow": {
     "slide_type": "subslide"
    }
   },
   "source": [
    "## Stern and Gerlach\n",
    "\n",
    "<img src=\"../Sg-seq.3.svg\" width=\"400\">"
   ]
  },
  {
   "cell_type": "markdown",
   "metadata": {
    "slideshow": {
     "slide_type": "subslide"
    }
   },
   "source": [
    "## Stern and Gerlach\n",
    "\n",
    "<img src=\"../Sg-seq.4.svg\" width=\"400\">"
   ]
  },
  {
   "cell_type": "markdown",
   "metadata": {
    "slideshow": {
     "slide_type": "subslide"
    }
   },
   "source": [
    "## Stern and Gerlach\n",
    "\n",
    "<img src=\"../Sg-seq.5.svg\" width=\"400\">"
   ]
  },
  {
   "cell_type": "markdown",
   "metadata": {
    "slideshow": {
     "slide_type": "subslide"
    }
   },
   "source": [
    "## Stern and Gerlach\n",
    "\n",
    "<img src=\"../Sg-seq.6.svg\" width=\"400\">"
   ]
  },
  {
   "cell_type": "markdown",
   "metadata": {
    "slideshow": {
     "slide_type": "subslide"
    }
   },
   "source": [
    "## Stern and Gerlach\n",
    "\n",
    "<img src=\"../Sg-seq.7.svg\" width=\"400\">"
   ]
  },
  {
   "cell_type": "markdown",
   "metadata": {
    "slideshow": {
     "slide_type": "slide"
    }
   },
   "source": [
    "# S-G model"
   ]
  },
  {
   "cell_type": "markdown",
   "metadata": {
    "slideshow": {
     "slide_type": "slide"
    }
   },
   "source": [
    "## can we use these objects to predict the outcome of the S-G experiment? \n",
    "\n",
    "We know that the outcome should be $z_p$ if the initial state is $z_p$ and the outcome is $z_m$ if the initial state is $z_m$. \n",
    "\n",
    "We also know from the experiment that if the initial state is not $z_p$ or $z_m$ but a superposition of them, then the outcome might be either $z_p$ or $z_m$ with a certain probability which depends on the superposition.\n",
    "\n",
    "Think again of the \"head and tail\" experiment. If the coin is oriented in the head position before droping it, the we can assume that the probability to find it in the head orientation is 1. The same argument apply for the tail orientation. Now, if you oriente the coin vertically, that is neither in the tail or head orientation, you expect to have 0.5 probability to observe it in the head orientation and 0.5 in the tail position."
   ]
  },
  {
   "cell_type": "markdown",
   "metadata": {
    "slideshow": {
     "slide_type": "slide"
    }
   },
   "source": [
    "## superposition of states\n",
    "\n",
    "Let's construct a superposition of $z_p$ and $z_m$ as:\n",
    "\n",
    "$$\n",
    "x_{p} = \\frac{1}{\\sqrt{2}}(z_p + z_m)= \\frac{1}{\\sqrt{2}}\\left( \\begin{array}{c} 1 \\\\ 1 \\end{array} \\right)\n",
    "$$\n",
    "\n",
    "$$\n",
    "x_{m} = \\frac{1}{\\sqrt{2}}(z_p - z_m)= \\frac{1}{\\sqrt{2}}\\left( \\begin{array}{c} 1 \\\\ -1 \\end{array} \\right)\n",
    "$$\n",
    "\n",
    "You can imagine vectors in the 2D space, where $z_p$ and $z_m$ are the basis vector $i$ and $j$, while $x_p$ is a vector oriented at 45 degree between them. \n",
    "The factor $\\frac{1}{\\sqrt{2}}$ is only there to ensure the length of the vector is the same.\n"
   ]
  },
  {
   "cell_type": "markdown",
   "metadata": {
    "slideshow": {
     "slide_type": "slide"
    }
   },
   "source": [
    "## probability\n",
    "\n",
    "What is the probability $p_{p,p}$ of observing the final state $z_p$ if the initial state is $z_p$?\n",
    "\n",
    "How to obtain a scalar from 2 vectors?\n",
    "\n",
    "$$\n",
    "p_{p,p} = \\left(\\begin{array}{c} 1 \\\\ 0 \\end{array} \\right)\\left(\\begin{array}{c} 1 \\\\ 0 \\end{array} \\right)=1\n",
    "$$\n",
    "\n",
    "$$\n",
    "p_{m,m} = \\left(\\begin{array}{c} 0 \\\\ 1 \\end{array} \\right)\\left(\\begin{array}{c} 0 \\\\ 1 \\end{array} \\right)=1\n",
    "$$\n",
    "\n",
    "This looks good! Check what happens if the initial state is $x_p$\n",
    "\n",
    "$$\n",
    "p_{p,x_p} = \\left(\\begin{array}{c} 1 \\\\\\\\ 0 \\end{array} \\right) \\frac{1}{\\sqrt{2}} \\left(\\begin{array}{c} 1 \\\\\\\\ 1 \\end{array} \\right)=\\frac{1}{\\sqrt{2}}\n",
    "$$\n",
    "\n",
    "This looks wrong!"
   ]
  },
  {
   "cell_type": "markdown",
   "metadata": {
    "slideshow": {
     "slide_type": "slide"
    }
   },
   "source": [
    "## Check this:\n",
    "\n",
    "$$\n",
    "p_{p,p} = \\Big |\\left(\\begin{array}{cc} 1 & 0 \\end{array} \\right)\\left(\\begin{array}{cc} 1 \\\\ 0 \\end{array} \\right)\\Big |^2=1\n",
    "$$\n",
    "\n",
    "$$\n",
    "p_{p,p} = \\Big |\\left(\\begin{array}{cc} 0 & 1 \\end{array} \\right)\\left(\\begin{array}{c} 0 \\\\ 1 \\end{array} \\right)\\Big |^2=1\n",
    "$$\n",
    "\n",
    "$$\n",
    "p_{p,p_p} = \\Big |\\left(\\begin{array}{cc} 1 & 0 \\end{array} \\right) \\frac{1}{\\sqrt{2}} \\left(\\begin{array}{c} 1 \\\\ 1 \\end{array} \\right)\\Big |^2=\\frac{1}{2}\n",
    "$$\n",
    "\n",
    "and\n",
    "\n",
    "$$\n",
    "p_{p,p_m} = \\Big |\\left(\\begin{array}{cc} 1 & 0 \\end{array} \\right) \\frac{1}{\\sqrt{2}} \\left(\\begin{array}{c} 1 \\\\\\\\ -1 \\end{array} \\right)\\Big |^2=\\frac{1}{2}\n",
    "$$\n",
    "\n",
    "We just have to be sure that it works for $p_{x_p,x_p}$\n",
    "\n",
    "$$\n",
    "p_{x_p,x_p} = \\Big |\\frac{1}{\\sqrt{2}}\\left(\\begin{array}{cc} 1 & 1 \\end{array} \\right) \\frac{1}{\\sqrt{2}} \\left(\\begin{array}{c} 1 \\\\\\\\ 1 \\end{array} \\right)\\Big |^2= 1\n",
    "$$\n"
   ]
  },
  {
   "cell_type": "markdown",
   "metadata": {
    "slideshow": {
     "slide_type": "slide"
    }
   },
   "source": [
    "## measurement\n",
    "\n",
    "How can we describe the measurement in the z-axis or the measurement in the x-axis?\n",
    "\n"
   ]
  },
  {
   "cell_type": "markdown",
   "metadata": {
    "slideshow": {
     "slide_type": "slide"
    }
   },
   "source": [
    "## Postulate\n",
    "\n",
    "We saw using our simple model for \"tail\" and \"head\" and our model for the S-G experiment\n",
    "that we can use mathematical object that behaves similarly as our system of interest. Therefore\n",
    "we can use these objects as a **representation** of the **system**.\n",
    "\n",
    "1. *The system is defined as a portion of the reality (nature)*\n",
    "2. *The model is a representation (mathematical or not) of the nature*\n"
   ]
  },
  {
   "cell_type": "markdown",
   "metadata": {
    "slideshow": {
     "slide_type": "slide"
    }
   },
   "source": [
    "## Postulates\n",
    "\n",
    "In order to model the S-G experiment we agreed that:\n",
    "\n",
    "1. We can describe the state of the system using a function (or a vector)\n",
    "2. We can use an operator (or a matrix) to represent the measurement. The measurement affects (or not)\n",
    "the state of the system. **this is a quantum effect**\n",
    "3. Under certain circumstances, the measure does't affect the state of the system. In that case\n",
    "the system is in a so called **stationary state** (eigenstate). Schrödinger postulate that\n",
    "the energy of the system is $H\\Psi = E\\Psi$\n",
    "4. In most cases, we can only predict the probability of the outcome (interference pattern)... that is the \n",
    "expected value. Schrödinger proposed to define it as:\n",
    "\n",
    "$$\n",
    "\\langle \\hat{O} \\rangle = \\frac{O}{S}\n",
    "$$\n",
    "\n",
    "$$\n",
    "O = \\int_{-\\infty}^{\\infty} \\Psi^*(R) \\hat{O} \\Psi(R) \n",
    "$$\n",
    "\n",
    "$$\n",
    "S = \\int_{-\\infty}^{\\infty} \\Psi^*(R)\\Psi(R)\n",
    "$$"
   ]
  },
  {
   "cell_type": "markdown",
   "metadata": {
    "slideshow": {
     "slide_type": "slide"
    }
   },
   "source": [
    "## Some mathematical considerations\n",
    "\n",
    "Because mathematical object represent \"real physical\" object, not all functions are allowed to represent\n",
    "the state of the system. And not all operators are acceptable neither.\n",
    "\n",
    " - continuous functions\n",
    " - finite functions\n",
    " \n",
    " \n",
    " - linear operators\n",
    " \n",
    " $$\n",
    " \\hat{O}\\alpha f(x) = \\alpha\\hat{O} f(x)\n",
    " $$\n",
    " $$\n",
    " \\hat{O}(f(x)+g(x)) = \\hat{0}f(x)+\\hat{O}g(x)\n",
    " $$\n",
    " \n"
   ]
  },
  {
   "cell_type": "markdown",
   "metadata": {
    "slideshow": {
     "slide_type": "slide"
    }
   },
   "source": [
    "## Example - Particle in a 1D Box\n",
    " \n",
    "In order to test the idea of Schrödinger we should test the postulate to the simplest system. A single\n",
    "electron in a 1D Box. Then, it will be easy to extend the method to solve a real problem, such as the \n",
    "atom of hydrogen.\n",
    " \n",
    "System: 1 electron\n",
    " - charge: -e\n",
    " - spin: $S=\\frac{1}{2}$\n",
    " - mass: $m_e$\n",
    "\n",
    "Only one degree of freedom, $x$, thus $\\Psi(x)$ defines the state of the system and $\\hat{H}$ is the Hamiltonian\n",
    "that describes the energy of the particle."
   ]
  },
  {
   "cell_type": "markdown",
   "metadata": {
    "slideshow": {
     "slide_type": "subslide"
    }
   },
   "source": [
    "## Example - Particle in a 1D Box\n",
    "\n",
    "In order to build the Hamiltonian we need an additional rule given by Schrödinger:\n",
    "\n",
    "$$\n",
    "\\hat{p_x}=-i\\hbar\\frac{\\partial}{\\partial x}\n",
    "$$\n",
    "\n",
    "Then we can substitute this operator into the classical relation for the energy. But first\n",
    "we have to find out what contribution to the energy we should introduce.\n",
    "\n",
    "If no potencial energy is present, then only kinetic energy should be taken into account. \n",
    "Replacing the operator $\\hat{p_x}$ into \n",
    "\n",
    "$$E_{c}=\\frac{mv^2}{2} = \\frac{p^2}{2m}$$\n",
    "\n",
    "gives us our quantum operator for energy:\n",
    "\n",
    "$$\n",
    "\\hat{H} = \\frac{-\\hbar^2}{2m_e}\\frac{\\partial^2}{\\partial x^2}\n",
    "$$\n",
    "\n"
   ]
  },
  {
   "cell_type": "markdown",
   "metadata": {
    "slideshow": {
     "slide_type": "slide"
    }
   },
   "source": [
    "## The Schrödinger equation\n",
    "\n",
    "We can then make use of the third postulate to find out the energy of our system. We have\n",
    "to solve the SE that is to find the eigenfunction of the Hamiltonian. There are several methods to find\n",
    "the eigenfunctions of an operator, but for this particular $\\hat{H}$ it is easy to propose some eigen functions.\n",
    "\n",
    "Right?\n"
   ]
  },
  {
   "cell_type": "markdown",
   "metadata": {
    "slideshow": {
     "slide_type": "subslide"
    }
   },
   "source": [
    "## The Schrödinger equation\n",
    "\n",
    "We can show that the following functions ( a family of functions )  are eigenfunctions of $\\hat{H}$\n",
    "\n",
    "$$\n",
    "\\Psi(x) = A sin(kx) + B cos(kx)\n",
    "$$\n",
    "\n",
    "by applying the operator on it (deriving two times) and we obtain\n",
    "\n",
    "$$\n",
    "\\Psi''(x) = -k^2 \\Psi(x)\n",
    "$$"
   ]
  },
  {
   "cell_type": "markdown",
   "metadata": {
    "slideshow": {
     "slide_type": "subslide"
    }
   },
   "source": [
    "## The Schrödinger equation\n",
    "\n",
    "Although $\\Psi(x)$ is a good candidate, we must ensure a few more things. For instance we\n",
    "have to ensure that the function is continuous over the whole space. This implies that:\n",
    "\n",
    " - $\\Psi(0) = 0$\n",
    " - $\\Psi(a) = 0$\n",
    " \n",
    "and thus \n",
    "\n",
    "- $B=0$\n",
    "- $ka = n\\pi$\n",
    "\n",
    "So we can write $\\Psi(x) = A sin(n\\pi x / a)$\n",
    "\n",
    "Finally we can require that \n",
    "\n",
    "$$\n",
    "\\int_{0}^a\\Psi^*(x)\\Psi(x)dx = 1\n",
    "$$\n",
    "\n",
    "and thus $A=\\sqrt{2/a}$ and our wave function is\n",
    "\n",
    "$$\n",
    "\\Psi(x) = \\sqrt{\\frac{2}{a}} sin\\left(\\frac{n\\pi x}{a}\\right)\n",
    "$$"
   ]
  },
  {
   "cell_type": "markdown",
   "metadata": {
    "slideshow": {
     "slide_type": "slide"
    }
   },
   "source": [
    "## Energy is quantized!\n",
    "\n",
    "Finding the energy is done by applying the Hamiltonian to the wave function.\n",
    "\n",
    "We find that \n",
    "\n",
    "$$\n",
    "\\frac{-\\hbar^2}{2m}\\frac{\\partial^2}{\\partial x^2}\\sqrt{\\frac{2}{a}} sin(\\frac{n\\pi x}{a})\n",
    "= \\frac{-\\hbar^2}{2m}\\frac{n^2\\pi^2}{a^2}\\sqrt{\\frac{2}{a}} sin(\\frac{n\\pi x}{a})\n",
    "$$\n",
    "\n",
    "and thus \n",
    "\n",
    "$$\n",
    "E = \\frac{-\\hbar^2}{2m}\\frac{n^2\\pi^2}{a^2} = \\frac{-h^2 n^2}{8 m a^2}\n",
    "$$\n",
    "\n",
    "<center>\n",
    "<img src=\"../energyLevels.svg\" width=\"100\">\n",
    "</center>\n"
   ]
  },
  {
   "cell_type": "markdown",
   "metadata": {
    "slideshow": {
     "slide_type": "slide"
    }
   },
   "source": [
    "## n, the quantum number\n",
    "\n",
    "- Why do we chose the quantum number to be $n=1,2,3, \\ldots$?\n",
    "- n appears first when we applied the boundary condition $\\Psi(a)=\\Psi(0)=0$\n",
    "- Would n exists for a free particle?\n"
   ]
  },
  {
   "cell_type": "markdown",
   "metadata": {},
   "source": [
    "# the hydrogen atom"
   ]
  },
  {
   "cell_type": "markdown",
   "metadata": {
    "slideshow": {
     "slide_type": "slide"
    }
   },
   "source": [
    "## the hydrogen atom\n",
    "\n",
    "Now we have seen that we can apply the schrödinger postulates to a very simple system we\n",
    "can apply it to a real problem, **find a model for the atom of hydrogen**\n",
    "\n",
    "In this case the system would be made of:\n",
    " 1. an electron (mass, spin, charge)\n",
    " 2. an nucleus (mass, spin, charge)\n",
    " \n",
    "We have thus 2 particles that can move into 3 directions, x,y and z. This means we have 6\n",
    "degree of freedom.\n",
    "\n",
    "Postulate 1 tells us that the state of the system will be described by\n",
    "\n",
    "$$\n",
    "\\Psi(x_N, y_N, z_N, x_e, y_e, z_e)\n",
    "$$\n",
    "\n",
    "Postulate 2 tells us how to write the Hamiltonian of the system:\n",
    "\n",
    "$$\n",
    "\\hat{H}=\\hat{K}_N+\\hat{K}_e+\\hat{V}_Ne\n",
    "$$\n"
   ]
  },
  {
   "cell_type": "markdown",
   "metadata": {
    "slideshow": {
     "slide_type": "slide"
    }
   },
   "source": [
    "## The Hamiltonian of the hydrogen atom\n",
    "\n",
    "We can thus write the Hamiltonian as:\n",
    "\n",
    "$$\n",
    "\\hat{H}=\\frac{-\\hbar^2}{2m_N}\\left(\\frac{\\partial^2}{\\partial x_N^2}+\n",
    "\\frac{\\partial^2}{\\partial y_N^2}+\n",
    "\\frac{\\partial^2}{\\partial z_N^2}\\right)\n",
    "$$\n",
    "$$\n",
    "+\\frac{-\\hbar^2}{2m_e}\\left(\\frac{\\partial^2}{\\partial x_e^2}+\n",
    "\\frac{\\partial^2}{\\partial y_e^2}+\n",
    "\\frac{\\partial^2}{\\partial z_e^2}\\right)\n",
    "$$\n",
    "$$\n",
    "-\\frac{\\kappa Z e^2}{\\sqrt{(x_N-x_e)^2+(y_N-y_e)^2+(z_N-z_e)^2}}\n",
    "$$\n",
    "\n",
    "which looks more complex that our first *Hamiltonian*.\n"
   ]
  },
  {
   "cell_type": "markdown",
   "metadata": {
    "slideshow": {
     "slide_type": "slide"
    }
   },
   "source": [
    "## independant variables, independant particles\n",
    "\n",
    "If a particle moves in the $x$ direction its velocity is not at all affected by any change\n",
    "in velocity in the $y$ direction. This means that we can write the velocity as a vector of\n",
    "three components, each of which is independant. The consequence is that the cinetic energy\n",
    "is thus the sum of the cinetic energy in the three dimensions.\n",
    "\n",
    "If the variable, the particle, are independant, we can always re-write the problem of more \n",
    "than one dimension into several one-dimensional problems that we can resolve readily.\n",
    "\n",
    "\n",
    "<center>\n",
    "<img src=\"../particle-01.svg\" width=\"100\">\n",
    "</center>\n",
    "\n",
    "if $x$ and $y$ are independent then $E=E_x+Ey$\n"
   ]
  },
  {
   "cell_type": "markdown",
   "metadata": {
    "slideshow": {
     "slide_type": "slide"
    }
   },
   "source": [
    "## the center of mass\n",
    "\n",
    "<center>\n",
    "<img src=\"../referencial-01.svg\" width=\"250\">\n",
    "</center>\n",
    "\n",
    "<div class=\"rcol\">\n",
    "We want to write our *Hamiltonian* using the new coordinates. So we have to write\n",
    "$$\n",
    "\\left(\\frac{\\partial^2}{\\partial x_N^2}+\n",
    "\\frac{\\partial^2}{\\partial y_N^2}+\n",
    "\\frac{\\partial^2}{\\partial z_N^2}\\right)\n",
    "$$\n",
    "\n",
    "and\n",
    "\n",
    "$$\n",
    "\\left(\\frac{\\partial^2}{\\partial x_e^2}+\n",
    "\\frac{\\partial^2}{\\partial y_e^2}+\n",
    "\\frac{\\partial^2}{\\partial z_e^2}\\right)\n",
    "$$\n",
    "\n",
    "using new coordinates\n",
    "</div>"
   ]
  },
  {
   "cell_type": "markdown",
   "metadata": {
    "slideshow": {
     "slide_type": "slide"
    }
   },
   "source": [
    "## Separation of variables\n",
    "\n",
    "The term in the *Hamiltonian* that describes the interaction between the nucleus and the electron\n",
    "(attraction) mixes variables:\n",
    "\n",
    "$$\n",
    "-\\frac{\\kappa Z e^2}{\\sqrt{(x_N-x_e)^2+(y_N-y_e)^2+(z_N-z_e)^2}}\n",
    "$$\n",
    "\n",
    "We can write the new variables ${X,Y,Z,x_i,y_i,z_i}$ as a function of the old ones\n",
    "\n",
    "\n",
    "### center of mass coordinates\n",
    "$$\n",
    "X=\\frac{m_Nx_N+m_ex_e}{m_M+m_e}\n",
    "$$\n",
    "$$\n",
    "Y=\\frac{m_Ny_N+m_ey_e}{m_M+m_e}\n",
    "$$\n",
    "$$\n",
    "Z=\\frac{m_Nz_N+m_ez_e}{m_M+m_e}\n",
    "$$\n",
    "\n",
    "### internal coordinates\n",
    "\n",
    "$$\n",
    "x_i = x_N-x_e\n",
    "$$\n",
    "\n",
    "$$\n",
    "y_i = y_N-y_e\n",
    "$$\n",
    "\n",
    "$$\n",
    "z_i = z_N-z_e\n",
    "$$\n",
    "\n",
    "\n"
   ]
  },
  {
   "cell_type": "markdown",
   "metadata": {
    "slideshow": {
     "slide_type": "slide"
    }
   },
   "source": [
    "## partial derivatives\n",
    "\n",
    "recalling that:\n",
    "\n",
    "$$\n",
    "X=\\frac{m_Nx_N+m_ex_e}{m_M+m_e}\n",
    "$$\n",
    "\n",
    "and \n",
    "\n",
    "$$\n",
    "x_i = x_N-x_e\n",
    "$$\n",
    "\n",
    "we can evaluate the partial derivatives\n",
    "\n",
    "$$\n",
    "\\frac{\\partial X}{\\partial x_N}=\\frac{\\partial Y}{\\partial y_N}=\\frac{\\partial Z}{\\partial z_N} = \\frac{m_N}{m_N+m_e}\n",
    "$$\n",
    "$$\n",
    "\\frac{\\partial X}{\\partial x_e}=\\frac{\\partial Y}{\\partial y_e}=\\frac{\\partial Z}{\\partial z_e} = \\frac{m_e}{m_N+m_e}\n",
    "$$\n",
    "$$\n",
    "\\frac{\\partial x_i}{\\partial x_N}=\\frac{\\partial y_i}{\\partial y_N}=\\frac{\\partial z_i}{\\partial z_N} = 1\n",
    "$$\n",
    "$$\n",
    "\\frac{\\partial x_i}{\\partial x_e}=\\frac{\\partial y_i}{\\partial y_e}=\\frac{\\partial z_i}{\\partial z_e} = -1\n",
    "$$"
   ]
  },
  {
   "cell_type": "markdown",
   "metadata": {},
   "source": [
    "## Chain rule\n",
    "\n",
    "using the chain rule\n",
    "\n",
    "$$\n",
    "\\frac{\\partial}{\\partial q}=\\frac{\\partial X}{\\partial q}\\frac{\\partial}{\\partial X}+\n",
    "\\frac{\\partial Y}{\\partial q}\\frac{\\partial}{\\partial Y}+\n",
    "\\frac{\\partial Z}{\\partial q}\\frac{\\partial}{\\partial Z}\n",
    "$$\n",
    "\n",
    "we can write the operators in the *Hamiltonian* in the term of the new coordinates:\n"
   ]
  },
  {
   "cell_type": "markdown",
   "metadata": {},
   "source": [
    "## first derivatives\n",
    "\n",
    "$$\n",
    "\\frac{\\partial}{\\partial x_N} = \\frac{\\partial X}{\\partial x_N}\\frac{\\partial}{\\partial X}+\n",
    "\\frac{\\partial x_i}{\\partial x_N}\\frac{\\partial}{\\partial x_i} = \\frac{m_N}{m_N+m_e}\\frac{\\partial}{\\partial X}-\\frac{\\partial}{\\partial x_i}\n",
    "$$\n",
    "$$\n",
    "\\frac{\\partial}{\\partial x_e} = \\frac{\\partial X}{\\partial x_e}\\frac{\\partial}{\\partial X}+\n",
    "\\frac{\\partial x_i}{\\partial x_N}\\frac{\\partial}{\\partial x_i} = \\frac{m_e}{m_N+m_e}\\frac{\\partial}{\\partial X}+\\frac{\\partial}{\\partial x_i}\n",
    "$$\n",
    "\n",
    "$$\n",
    "\\frac{\\partial}{\\partial y_N} = \\frac{\\partial Y}{\\partial y_N}\\frac{\\partial}{\\partial Y}+\n",
    "\\frac{\\partial y_i}{\\partial y_N}\\frac{\\partial}{\\partial y_i} = \\frac{m_N}{m_N+m_e}\\frac{\\partial}{\\partial Y}-\\frac{\\partial}{\\partial y_i}\n",
    "$$\n",
    "$$\n",
    "\\frac{\\partial}{\\partial y_e} = \\frac{\\partial Y}{\\partial y_e}\\frac{\\partial}{\\partial Y}+\n",
    "\\frac{\\partial y_i}{\\partial y_N}\\frac{\\partial}{\\partial y_i} = \\frac{m_e}{m_N+m_e}\\frac{\\partial}{\\partial Y}+\\frac{\\partial}{\\partial y_i}\n",
    "$$\n",
    "\n",
    "$$\n",
    "\\frac{\\partial}{\\partial z_N} = \\frac{\\partial Z}{\\partial z_N}\\frac{\\partial}{\\partial z}+\n",
    "\\frac{\\partial z_i}{\\partial z_N}\\frac{\\partial}{\\partial z_i} = \\frac{m_N}{m_N+m_e}\\frac{\\partial}{\\partial Z}-\\frac{\\partial}{\\partial z_i}\n",
    "$$\n",
    "$$\n",
    "\\frac{\\partial}{\\partial z_e} = \\frac{\\partial Z}{\\partial z_e}\\frac{\\partial}{\\partial z}+\n",
    "\\frac{\\partial z_i}{\\partial z_N}\\frac{\\partial}{\\partial z_i} = \\frac{m_e}{m_N+m_e}\\frac{\\partial}{\\partial Z}+\\frac{\\partial}{\\partial z_i}\n",
    "$$\n",
    "\n",
    "and second derivatives as:\n"
   ]
  },
  {
   "cell_type": "markdown",
   "metadata": {},
   "source": [
    "## second derivatives\n",
    "\n",
    "$$\n",
    "\\frac{\\partial^2}{\\partial x_N^2} = \\left( \\frac{m_N}{m_N+m_e} \\right)^2 \\frac{\\partial^2}{\\partial X^2} + \\frac{\\partial^2}{\\partial x_i^2} -2 \\frac{m_N}{m_N+m_e} \\frac{\\partial}{\\partial X} \\frac{\\partial}{\\partial x_i}\n",
    "$$\n",
    "\n",
    "$$\n",
    "\\frac{\\partial^2}{\\partial x_e^2} = \\left(\\frac{m_e}{m_N+m_e}\\right)^2 \\frac{\\partial^2}{\\partial X^2} + \\frac{\\partial^2}{\\partial x_i^2} +2\\frac{m_e}{m_N+m_e}\\frac{\\partial}{\\partial X}\\frac{\\partial}{\\partial x_i}\n",
    "$$\n",
    "\n",
    "$$\n",
    "\\frac{\\partial^2}{\\partial y_N^2} = \\left(\\frac{m_N}{m_N+m_e}\\right)^2 \\frac{\\partial^2}{\\partial Y^2} + \\frac{\\partial^2}{\\partial y_i^2} -2\\frac{m_N}{m_N+m_e}\\frac{\\partial}{\\partial Y}\\frac{\\partial}{\\partial y_i}\n",
    "$$\n",
    "\n",
    "$$\n",
    "\\frac{\\partial^2}{\\partial y_e^2} = \\left(\\frac{m_e}{m_N+m_e}\\right)^2 \\frac{\\partial^2}{\\partial Y^2} + \\frac{\\partial^2}{\\partial y_i^2} +2\\frac{m_e}{m_N+m_e}\\frac{\\partial}{\\partial Y}\\frac{\\partial}{\\partial y_i}\n",
    "$$\n",
    "\n",
    "$$\n",
    "\\frac{\\partial^2}{\\partial z_N^2} = \\left(\\frac{m_N}{m_N+m_e}\\right)^2 \\frac{\\partial^2}{\\partial Z^2} + \\frac{\\partial^2}{\\partial z_i^2} -2\\frac{m_N}{m_N+m_e}\\frac{\\partial}{\\partial Z}\\frac{\\partial}{\\partial z_i}\n",
    "$$\n",
    "\n",
    "$$\n",
    "\\frac{\\partial^2}{\\partial z_e^2} = \\left(\\frac{m_e}{m_N+m_e}\\right)^2 \\frac{\\partial^2}{\\partial Z^2} + \\frac{\\partial^2}{\\partial z_i^2} +2\\frac{m_e}{m_N+m_e}\\frac{\\partial}{\\partial Z}\\frac{\\partial}{\\partial z_i}\n",
    "$$\n"
   ]
  },
  {
   "cell_type": "markdown",
   "metadata": {
    "slideshow": {
     "slide_type": "slide"
    }
   },
   "source": [
    "## the Laplacian\n",
    "\n",
    "We can write the *old* Laplacians in term of the new coordinates:\n",
    "\n",
    "$$\n",
    "\\nabla^2_N = \\frac{\\partial^2}{\\partial x_N^2} + \\frac{\\partial^2}{\\partial y_N^2} + \\frac{\\partial^2}{\\partial z_N^2} =\n",
    "$$\n",
    "$$\n",
    "\\left( \\frac{m_N}{m_N+m_e} \\right)^2 \\left[ \\frac{\\partial^2}{\\partial X^2} + \\frac{\\partial^2}{\\partial Y^2} + \\frac{\\partial^2}{\\partial Z^2} \\right]+\n",
    "\\left[ \\frac{\\partial^2}{\\partial x_i^2} + \\frac{\\partial^2}{\\partial y_i^2} + \\frac{\\partial^2}{\\partial z_i^2} \\right]\n",
    "$$\n",
    "$$\n",
    "-2 \\frac{m_N}{m_N+m_e} \\left[ \\frac{\\partial}{\\partial X}\\frac{\\partial}{\\partial x_i} + \\frac{\\partial}{\\partial Y}\\frac{\\partial}{\\partial y_i} + \\frac{\\partial}{\\partial Z}\\frac{\\partial}{\\partial z_i} \\right]\n",
    "$$\n",
    "\n",
    "and \n",
    "\n",
    "$$\n",
    "\\nabla^2_e = \\left( \\frac{m_e}{m_N+m_e} \\right)^2 \\left[ \\frac{\\partial^2}{\\partial X^2} + \\frac{\\partial^2}{\\partial Y^2} + \\frac{\\partial^2}{\\partial Z^2} \\right]+\n",
    "\\left[ \\frac{\\partial^2}{\\partial x_i^2} + \\frac{\\partial^2}{\\partial y_i^2} + \\frac{\\partial^2}{\\partial z_i^2} \\right]\n",
    "$$\n",
    "$$\n",
    "-2 \\frac{m_e}{m_N+m_e} \\left[ \\frac{\\partial}{\\partial X}\\frac{\\partial}{\\partial x_i} + \\frac{\\partial}{\\partial Y}\\frac{\\partial}{\\partial y_i} + \\frac{\\partial}{\\partial Z}\\frac{\\partial}{\\partial z_i} \\right]\n",
    "$$"
   ]
  },
  {
   "cell_type": "markdown",
   "metadata": {
    "slideshow": {
     "slide_type": "slide"
    }
   },
   "source": [
    "## the substitution\n",
    "\n",
    "We replace the last two equation into our \"old\" *Hamiltonian*\n",
    "\n",
    "$$\n",
    "\\hat{H}=\\frac{-\\hbar^2}{2m_N}\\left(\\frac{\\partial}{\\partial x_N^2}+\n",
    "\\frac{\\partial}{\\partial y_N^2}+\n",
    "\\frac{\\partial}{\\partial z_N^2}\\right)\n",
    "$$\n",
    "$$\n",
    "+\\frac{-\\hbar^2}{2m_e}\\left(\\frac{\\partial}{\\partial x_e^2}+\n",
    "\\frac{\\partial}{\\partial y_e^2}+\n",
    "\\frac{\\partial}{\\partial z_e^2}\\right)\n",
    "$$\n",
    "$$\n",
    "+\\frac{-\\kappa Z e^2}{\\sqrt{x_i^2+y_i^2+z_i^2}}\n",
    "$$\n",
    "\n",
    "and we find:\n"
   ]
  },
  {
   "cell_type": "markdown",
   "metadata": {
    "slideshow": {
     "slide_type": "slide"
    }
   },
   "source": [
    "## the new Hamiltonian\n",
    "\n",
    "is simply\n",
    "\n",
    "$$\n",
    "\\hat{H}=\\frac{-\\hbar^2}{2} \\left[ \\frac{m_N}{(m_N+m_e)^2} \\nabla^2 + \\frac{m_e}{(m_N+m_e)^2} \\nabla^2 \\right] +\n",
    "\\frac{-\\hbar^2}{2} \\left[ \\frac{1}{m_N} \\nabla_i^2 + \\frac{1}{m_e} \\nabla_i^2 \\right]\n",
    "$$\n",
    "$$\n",
    "+\\frac{-\\kappa Z e^2}{\\sqrt{(x_N-x_e)^2+(y_N-y_e)^2+(z_N-z_e)^2}}\n",
    "$$\n",
    "\n",
    "$$\n",
    "\\hat{H}=\\frac{-\\hbar^2}{2} \\left[ \\frac{m_N+m_e}{(m_N+m_e)^2} \\nabla^2 + \\left( \\frac{1}{m_N} +\\frac{1}{m_e} \\right) \n",
    "\\nabla_i^2 \\right] +\\frac{-\\kappa Z e^2}{\\sqrt{x_i^2+y_i^2+z_i^2}}\n",
    "$$\n",
    "\n",
    "where\n",
    "\n",
    "$$\n",
    "\\mu = \\frac{m_N m_e}{m_N+m_e}, M = m_N + m_e\n",
    "$$\n",
    "\n",
    "$$\n",
    "\\hat{H}=\\frac{-\\hbar^2}{2} \\left[ \\frac{1}{M} \\nabla^2 +  \\frac{1}{\\mu}   \n",
    "\\nabla_i^2 \\right] +\\frac{-\\kappa Z e^2}{\\sqrt{x_i^2+y_i^2+z_i^2}}\n",
    "$$\n"
   ]
  },
  {
   "cell_type": "markdown",
   "metadata": {
    "slideshow": {
     "slide_type": "slide"
    }
   },
   "source": [
    "## separation of variables\n",
    "\n",
    "The new *Hamiltonian* can be separated into two part: the first $\\hat{H}_C$ depends on the coordinates of the\n",
    "center of mass, while the second part $\\hat{H}_i$ depends on the internal coordinates, only.\n",
    "\n",
    "So the SE can be written as:\n",
    "\n",
    "$$\n",
    "(\\hat{H}_{CM}+\\hat{H}_i)\\Psi(r_{CM})\\Psi(r_i) = E \\Psi(r_{CM})\\Psi(r_i)\n",
    "$$\n",
    "\n",
    "where we have replaced\n",
    "\n",
    "$$\n",
    "\\Psi(r_{CM},r_i) = \\Psi(r_{CM})\\Psi(r_i)\n",
    "$$\n",
    "\n",
    "which is only true if $r_{CM}$ and $r_i$ coordinates are independant\n"
   ]
  },
  {
   "cell_type": "markdown",
   "metadata": {
    "slideshow": {
     "slide_type": "subslide"
    }
   },
   "source": [
    "## separation of variables\n",
    "After separation the SE can be written as a system of two equations:\n",
    "\n",
    "$$\n",
    "\\hat{H}_{CM}\\Psi(r_{CM}) = \\epsilon_{CM} \\Psi(r_{CM})\n",
    "$$\n",
    "and\n",
    "$$\n",
    "\\hat{H}_i\\Psi(r_i) = \\epsilon_i \\Psi(r_i)\n",
    "$$\n",
    "\n",
    "and the total Energy $E=\\epsilon_{CM}+\\epsilon_i$.\n",
    "\n"
   ]
  },
  {
   "cell_type": "markdown",
   "metadata": {
    "slideshow": {
     "slide_type": "subslide"
    }
   },
   "source": [
    "#### the electronic approximation\n",
    "\n",
    " - the first equation corresponds to the energy of the two particle (from the center of mass vantage point)\n",
    "\n",
    " - the second equation corresponds to the electronic energy\n"
   ]
  },
  {
   "cell_type": "markdown",
   "metadata": {
    "slideshow": {
     "slide_type": "slide"
    }
   },
   "source": [
    "## summary\n",
    "\n",
    "in the arbitrary coordinate system\n",
    "$$\n",
    "\\hat{H}=\\frac{-\\hbar^2}{2m_N}\\nabla_N^2+\\frac{-\\hbar^2}{2m_e}\\nabla^2_e-\\frac{\\kappa Z e^2}{\\sqrt{(x_N-x_e)^2+(y_N-y_e)^2+(z_N-z_e)^2}}\n",
    "$$\n",
    "\n",
    "in the coordinate system of the center of mass\n",
    "$$\n",
    "\\hat{H}=\\frac{-\\hbar^2}{2} \\left[ \\frac{1}{M} \\nabla^2 +  \\frac{1}{\\mu}   \n",
    "\\nabla_i^2 \\right] +\\frac{-\\kappa Z e^2}{\\sqrt{x_i^2+y_i^2+z_i^2}}\n",
    "$$\n"
   ]
  },
  {
   "cell_type": "markdown",
   "metadata": {
    "slideshow": {
     "slide_type": "slide"
    }
   },
   "source": [
    "## still... \n",
    "\n",
    "the interaction term is mixing variables. We should go into the polar coordinate system\n",
    "\n",
    "<img src=\"../polarCoordinates-01.svg\" style=\"width:200px\">\n",
    "\n",
    "and define\n",
    "\n",
    "$$\n",
    "x=r sin\\theta cos\\phi\n",
    "$$\n",
    "$$\n",
    "y=r sin\\theta sin\\phi\n",
    "$$\n",
    "$$\n",
    "z=r cos\\theta\n",
    "$$\n",
    "$$\n",
    "r = \\sqrt{x_i^2+y_i^2+z_i^2}\n",
    "$$\n",
    "$$\n",
    "\\theta= cosz/r\n",
    "$$\n",
    "$$\n",
    "\\phi = tan^{-1}(y/x)\n",
    "$$\n",
    "\n"
   ]
  },
  {
   "cell_type": "markdown",
   "metadata": {
    "slideshow": {
     "slide_type": "slide"
    }
   },
   "source": [
    "## partial derivatives \n",
    "\n",
    "we can find the partial derivatives...\n",
    "\n",
    "\n",
    "$$\n",
    "\\frac{\\partial r}{\\partial x} = \\frac{x}{\\ldots} = \\frac{r sin \\theta cos\\phi}{r} = sin\\theta cos\\phi\n",
    "$$\n",
    "$$\n",
    "\\frac{\\partial \\theta}{\\partial x} =\\frac{ cos\\theta cos\\phi }{r}, \\frac{\\partial \\phi}{\\partial x} =\\frac{ - sin\\phi }{r sin\\phi}\n",
    "$$\n",
    "$$\n",
    "\\frac{\\partial r}{\\partial y} = sin\\theta sin\\phi, \\frac{\\partial \\theta}{\\partial y} =\\frac{ cos\\theta sin\\phi }{r}, \\frac{\\partial \\phi}{\\partial y} =\\frac{ cos\\phi }{r sin\\phi}\n",
    "$$\n",
    "$$\n",
    "\\frac{\\partial r}{\\partial z} = cos\\theta, \\frac{\\partial \\theta}{\\partial z} =\\frac{ -sin\\theta }{r}, \\frac{\\partial \\phi}{\\partial z} =0\n",
    "$$\n",
    "\n",
    "and use the chain rule\n",
    "\n",
    "$$\n",
    "\\frac{\\partial}{\\partial x}=\\frac{\\partial r}{\\partial x}\\frac{\\partial}{\\partial r}\n",
    "+\\frac{\\partial \\theta}{\\partial x}\\frac{\\partial}{\\partial \\theta}\n",
    "+\\frac{\\partial \\phi}{\\partial x}\\frac{\\partial}{\\partial \\phi}\n",
    "$$\n",
    "\n",
    "and ..."
   ]
  },
  {
   "cell_type": "markdown",
   "metadata": {
    "slideshow": {
     "slide_type": "slide"
    }
   },
   "source": [
    "\n",
    "## the *Hamiltonian* in the polar coordinates system\n",
    "\n",
    "$$\n",
    "\\hat{H} = \\frac{-\\hbar^2}{2}\\left[ \\frac{1}{M} \\nabla^2 + \\\\\\\\ \\frac{1}{\\mu} \\left(\\frac{2}{r}\\frac{\\partial}{\\partial r} +\\frac{\\partial^2}{\\partial r^2} + \\frac{cos \\theta}{r^2 sin\\theta}\\frac{\\partial}{\\partial \\theta} +\\frac{1}{r^2}\\frac{\\partial ^2}{\\partial \\theta^2} + \\frac{1}{r^2 sin^2\\theta}\\frac{\\partial^2}{\\partial \\phi^2}\\right)\\right] + \\\\\\\\ \\frac{-\\kappa Z e^2}{r}\n",
    "$$\n",
    "\n",
    "Considering only the electronic part:\n",
    "\n",
    "$$\n",
    "\\hat{H}(r,\\phi,\\theta) = \\frac{-\\hbar^2}{2}\\left[ \\frac{1}{\\mu} \\left(\\frac{2}{r}\\frac{\\partial}{\\partial r} +\\frac{\\partial^2}{\\partial r^2} + \\frac{cos \\theta}{r^2 sin\\theta}\\frac{\\partial}{\\partial \\theta} +\\frac{1}{r^2}\\frac{\\partial ^2}{\\partial \\theta^2} + \\frac{1}{r^2 sin^2\\theta}\\frac{\\partial^2}{\\partial \\phi^2}\\right)\\right] + \\\\\\\\ \\frac{-\\kappa Z e^2}{r}\n",
    "$$\n",
    "\n",
    "\n"
   ]
  },
  {
   "cell_type": "markdown",
   "metadata": {
    "slideshow": {
     "slide_type": "slide"
    }
   },
   "source": [
    "## and its wave function\n",
    "\n",
    "$$\n",
    "\\Psi(r,\\phi,\\theta) = R(r)\\Phi(\\phi)\\Theta(\\theta)\n",
    "$$\n",
    "\n",
    "where $R(r)$ is the radial part and $\\Phi(\\phi)\\Theta(\\theta)$ is referred to as the angular part.\n"
   ]
  },
  {
   "cell_type": "markdown",
   "metadata": {
    "slideshow": {
     "slide_type": "slide"
    }
   },
   "source": [
    "## separation of variable\n",
    "\n",
    "$$\n",
    "\\frac{\\partial^2}{\\partial\\phi^2} \\Phi(\\phi) + m^2 \\Phi(\\phi) = 0\n",
    "$$\n",
    "$$\n",
    "\\frac{1}{sin\\theta}\\frac{\\partial}{\\partial \\theta}\t\\left(sin\\theta \\frac{\\partial}{\\partial \\theta}\\Theta(\\theta)\\right) -\n",
    "\\frac{m^2}{sin^2\\theta}\t\\Theta(\\theta) - \\beta \\Theta(\\theta) = 0\n",
    "$$\n",
    "$$\n",
    "\\frac{1}{r^2} \\frac{\\partial}{\\partial r}\t\\left( r^2 \\frac{\\partial}{\\partial r}\tR(r)\\right) - \\frac{\\beta}{r} R(r) -\n",
    "\\frac{2\\mu}{\\hbar^2}\\left( \\frac{\\kappa Z e}{r} - E \\right) R(r) = 0\n",
    "$$\n",
    "\n",
    "the separation is only possible in that order since $m^2$ is included as a parameter into the second equation\n",
    "and $\\beta$ is included into the third one.\n",
    "\n",
    "<div class=\"comments\">Therefore the quantum numbers will be intricate</div>\n",
    "\n",
    "$$\n",
    "m = {-l, -l+1, \\ldots, l}\n",
    "$$\n",
    "$$\n",
    "l = {0, 1, \\ldots, n-1}\n",
    "$$\n",
    "$$\n",
    "n = {1,2,3, \\ldots}\n",
    "$$\n"
   ]
  },
  {
   "cell_type": "markdown",
   "metadata": {
    "slideshow": {
     "slide_type": "slide"
    }
   },
   "source": [
    "## degree of freedom\n",
    "\n",
    " - Why do we have only three quantum number? \n",
    "\n",
    " - there should be one quantum number per degree of freedom\n",
    "\n",
    "## solving the SE\n",
    "\n",
    "we have 3 equations to solve. Except the first one that can be solved easily, the remaining two\n",
    "are difficult to solve.\n"
   ]
  },
  {
   "cell_type": "markdown",
   "metadata": {
    "slideshow": {
     "slide_type": "slide"
    }
   },
   "source": [
    "## solving the SE\n",
    "\n",
    "we have 3 equations to solve. Except the first one that can be solved easily, the remaining two\n",
    "are difficult to solve.\n"
   ]
  },
  {
   "cell_type": "markdown",
   "metadata": {
    "slideshow": {
     "slide_type": "slide"
    }
   },
   "source": [
    "## the energy\n",
    "\n",
    "By solving the SE for the hydrogen atom we find that the energy can be written as:\n",
    "\n",
    "$$\n",
    "E_n = -\\frac{Z^2 \\mu e^4 \\kappa^2}{2 \\hbar^2 n^2}\n",
    "$$\n",
    "\n",
    "To check this result, try to solve the ES for the $\\Psi(1,0,0)$ that corresponds to the $1s$ orbital\n",
    "\n",
    "$$\n",
    "\\frac{1}{r^2} \\frac{\\partial}{\\partial r} r^2 \\frac{\\partial}{\\partial r} \\Psi(1,0,0) +\n",
    "\\frac{2\\mu}{\\hbar^2}\\left( -\\frac{\\kappa Z e}{r} + E \\right) \\Psi(1,0,0) = 0\n",
    "$$\n",
    "\n",
    "where \n",
    "$$\n",
    "\\Psi(1,0,0) = \\frac{Z}{a} \\left( \\frac{Z}{\\pi a} \\right)^{1/2} e^{-Zr/a} = -\\gamma \\alpha e^{-\\gamma r}\n",
    "$$\n",
    "\n",
    "and $a=\\hbar^2/\\kappa \\mu e^2$ and $\\kappa = 1/4\\pi\\epsilon_0$\n"
   ]
  },
  {
   "cell_type": "markdown",
   "metadata": {},
   "source": [
    "## selection rules\n",
    "\n",
    "$$\n",
    "\\Delta l = \\pm 1\n",
    "$$\n",
    "$$\n",
    "\\Delta m = 0, \\pm 1\n",
    "$$\n",
    "\n",
    "<img src=\"../HAtomEnergyDiagram.png\" style=\"width:400px\">\n",
    "\n",
    "Like with pool, it is difficult to measure the momentum of the ball without disturbing it\n"
   ]
  },
  {
   "cell_type": "markdown",
   "metadata": {
    "slideshow": {
     "slide_type": "slide"
    }
   },
   "source": [
    "## a first prediction!\n",
    "\n",
    "Show that the Rydberg constant is thus: \n",
    "\n",
    "$$\n",
    "\\frac{m_e e^4}{8\\epsilon^2_0h^3 c} = 109732.32 cm^{-1}\n",
    "$$\n",
    "\n",
    ".orange[so our atomic model is able to correctly predict the Rydberg constant!]\n",
    "\n",
    "<center>\n",
    "<img src=\"../atomic_spectra.png\" style=\"width:500px\"></center>\n"
   ]
  },
  {
   "cell_type": "markdown",
   "metadata": {
    "slideshow": {
     "slide_type": "slide"
    }
   },
   "source": [
    "\n",
    "## atomic units\n",
    "\n",
    "in atomic units we define\n",
    "\n",
    "$\\hbar = m_e = e = 1 (a.u)$\n",
    "\n",
    "- Length: $a_0$ ( Bohr radius ) $= 0.528 \\times 10^{-8}cm$ \n",
    "- Velocity: $v0$ =electron velocity in 1$^{st}$ Bohr orbit = $2.18 \\times 10^8 cm/s$ \n",
    "- Energy: twice of ionization potential of H = $27.21 eV$ (also referred to as Hartree: $\\hbar^2/m_ea_0$)\n",
    "- Time:  $a_0/v_0 =  2.42\\times 10^{-17}$ s =  24.2 $ since ( 1fs = 41 a.u) \n",
    "- Frequency: $v_0/a_0 =  4.13 \\times 10^{16} sec^{-1}$\n",
    "- Electric field: $e/a_0^2 = 5.14\\times 10^9 V/cm$\n",
    "\n",
    "in atomic unit the *Hamiltonian* for the atom of hydrogen is:\n",
    "\n",
    "$$\n",
    "\\hat{H}_{elec}=-\\frac{1}{2}\\nabla_e^2-\\frac{1}{r}\n",
    "$$\n",
    "\n",
    "$$\n",
    "\\hat{H}_{nuc}=-\\frac{1}{2M}\\nabla_C^2\n",
    "$$\n"
   ]
  },
  {
   "cell_type": "markdown",
   "metadata": {
    "slideshow": {
     "slide_type": "slide"
    }
   },
   "source": [
    "## and the energy of the hydrogen atom is:\n",
    "\n",
    "$$\n",
    "E_n = -\\frac{1}{2}\\frac{1}{n^2}\n",
    "$$\n",
    "\n",
    "for the ground state (in Hartree): \n",
    "\n",
    "$$\n",
    "E_{1s}=-\\frac{1}{2}\n",
    "$$\n",
    "\n",
    "\n",
    "<div class=\"comments\">\n",
    "the ground state is the state of lower energy\n",
    "</div>"
   ]
  },
  {
   "cell_type": "markdown",
   "metadata": {
    "slideshow": {
     "slide_type": "slide"
    }
   },
   "source": [
    "## the Hamiltonian of the helium atom\n",
    "\n",
    "we can continue our exploration and try do find the *Hamiltonian* for a more complex system: the atom of Helium\n",
    "\n",
    "<center><img src=\"../referentialHeAtom.svg\" width=\"300\"></center>"
   ]
  },
  {
   "cell_type": "markdown",
   "metadata": {
    "slideshow": {
     "slide_type": "slide"
    }
   },
   "source": [
    "## the Hamiltonian of the helium atom\n",
    "\n",
    "$$\n",
    "\\hat{H}=K_{nuc}+K_{elec1}+K_{elec2}+V_{Ne_1}+V_{Ne_2}+V_{e_1e_2}\n",
    "$$\n",
    "\n",
    "$$\n",
    "\\hat{H}=-\\frac{1}{2M}\\nabla^2_R-\\frac{1}{2}\\nabla^2_{r_1}-\\frac{1}{2}\\nabla^2_{r_2}\n",
    "-\\frac{2}{|r_1-R|}-\\frac{2}{|r_2-R|}+\\frac{1}{|r_1-r_2|}\n",
    "$$\n"
   ]
  },
  {
   "cell_type": "markdown",
   "metadata": {
    "slideshow": {
     "slide_type": "slide"
    }
   },
   "source": [
    "\n",
    "## the Hamiltonian for a water molecules\n",
    "\n",
    "Water contains 3 nuclei and 10 electrons ($Z_O=8$ and $Z_H=1$)\n",
    "\n",
    "$$\n",
    "\\hat{H} = -\\frac{1}{2M_O}\\nabla^2_{R_O}-\\frac{1}{2M_{H1}}\\nabla^2_{R_{H1}} -\\frac{1}{2M_{H2}}\\nabla^2_{R_{H2}}\n",
    "$$\n",
    "$$\n",
    "-\\sum_{i=1}^{10}\\frac{1}{2}\\nabla^2{r_i} -\\sum_{i=1}^{10}\\frac{8}{|r_i-R_O|} -\\sum_{i=1}^{10}\\frac{1}{|r_i-R_{H1}|} -\\sum_{i=1}^{10}\\frac{1}{|r_i-R_{H2}|} \n",
    "$$\n",
    "$$\n",
    "+\\sum_{i=1}^{10}\\sum_{j=i+1}^{10}\\frac{1}{|r_i-r_j|}+ \\sum_{I=1}^{3}\\sum_{J=I+1}^{3}\\frac{Z_I Z_J}{|R_I-R_J|}\n",
    "$$\n",
    "\n"
   ]
  },
  {
   "cell_type": "markdown",
   "metadata": {
    "slideshow": {
     "slide_type": "slide"
    }
   },
   "source": [
    "\n",
    "## the orbitals\n",
    "\n",
    "Now we have seen that we can construct the *Hamiltonian* for virtually any system, the real challange\n",
    "is to find the eigenfunction for these operators. Let's have a look to the wave functions we found for\n",
    "the hydrogen atom\n",
    "\n",
    "$$\n",
    "\\Psi_{nlm}(r,\\theta,\\phi) = R(r)_{nl}\\Theta_{ml}(\\theta)\\Phi_m(\\phi)\n",
    "$$\n",
    "\n",
    "<img src=\"../radialFunctions.png\" style=\"width:400px\">\n",
    "<img src=\"../angularFunctions.png\" style=\"width:250px\">\n",
    "<img src=\"../bohrRadius.png\" style=\"width:250px\">\n",
    "\n",
    "<div class=\"comments\">\n",
    "the orbitals are defined as the wave functions for the hydrogen atom\n",
    "<div>\n",
    "\n"
   ]
  },
  {
   "cell_type": "markdown",
   "metadata": {
    "slideshow": {
     "slide_type": "slide"
    }
   },
   "source": [
    "## n, m, l and s, p, f ...\n",
    "\n",
    "<img src=\"../spdf.png\" style=\"width:400px\">\n",
    "\n"
   ]
  },
  {
   "cell_type": "markdown",
   "metadata": {
    "slideshow": {
     "slide_type": "slide"
    }
   },
   "source": [
    "## the radial part\n",
    "\n",
    "<img src=\"../s-p.orbital.svg\" style=\"width:350px\">\n",
    "<img src=\"../radialFunctions.png\" style=\"width:350px\">\n"
   ]
  },
  {
   "cell_type": "markdown",
   "metadata": {
    "slideshow": {
     "slide_type": "slide"
    }
   },
   "source": [
    "## probabilities and the radial distribution function\n",
    "\n",
    "the probability to find an electron a sphere of radius $r$ is given by\n",
    "\n",
    "$$\n",
    "P_r = \\int_0^r \\int_0^{\\pi} \\int_{-\\pi}^{\\pi} \n",
    "|\\Psi_{nlm}(r,\\theta,\\phi)|^2 r^2 sin\\theta drd \\phi d\\theta\n",
    "$$\n",
    "\n",
    "<img src=\"../angulo_solido_diferencial-01.svg\" style=\"width:350px\">\n",
    "\n",
    "<div class=\"notes\">\n",
    "$\\Delta v$ in polar coordinates is :\n",
    "</div>\n"
   ]
  },
  {
   "cell_type": "markdown",
   "metadata": {
    "slideshow": {
     "slide_type": "slide"
    }
   },
   "source": [
    "## probabilities and the radial distribution function\n",
    "\n",
    "the radial distribution function describe the probability to find an electron in a shell of radius $r$. In general de probability is\n",
    "expressed as the product:\n",
    "\n",
    "$$\n",
    "P(\\Delta V) = \\rho_{1s} \\Delta V\n",
    "$$\n",
    "\n",
    "for a spherical shell $\\Delta V$ is given by\n",
    "\n",
    "$$\n",
    "\\Delta V = 4\\pi r^2 dr\n",
    "$$\n",
    "\n",
    "so we can write\n",
    "\n",
    "$$\n",
    "P(\\Delta V) \\approx R^2(r) r^2 dr\n",
    "$$\n",
    "\n",
    "of simple we can write the radial distribution function as:\n",
    "\n",
    "$$\n",
    "P(\\Delta V) = R^2(r) [\\int_0^{\\pi} \\int_0^{2\\pi} |\\Theta(\\theta)\\Phi(\\phi)|^2 sin \\theta d\\theta d\\phi] r^2 dr\n",
    "$$\n",
    "\n",
    "<div class=\"comments\">Calculate the maximum of that function for the orbital $1s$</div>\n",
    "\n"
   ]
  },
  {
   "cell_type": "markdown",
   "metadata": {
    "slideshow": {
     "slide_type": "slide"
    }
   },
   "source": [
    "\n",
    "## the radial distribution *function*\n",
    "\n",
    "<img src=\"../s-p.radial.svg\" style=\"width:350px\">\n"
   ]
  },
  {
   "cell_type": "markdown",
   "metadata": {
    "slideshow": {
     "slide_type": "slide"
    }
   },
   "source": [
    "## remarks\n",
    "\n",
    "the shell in which we have the maximum probability to find the electron in the ground state is\n",
    "located at 0.529 $\\AA$ from the center of the atom.\n",
    "\n",
    "<div class=\"comments\">\n",
    "Bohr model predicted that the electron spins around the nucleus at $a_0$ while\n",
    "the quantum model predict $a_0$ is the distance where it is more likely to find an electron in the ground state\n",
    "</div>\n"
   ]
  },
  {
   "cell_type": "markdown",
   "metadata": {
    "slideshow": {
     "slide_type": "slide"
    }
   },
   "source": [
    "## the angular part\n",
    "\n",
    "<img src=\"../polar_py.svg\" style=\"width:300px\"><img src=\"../angularFunctions.png\" style=\"width:350px;padding-left:50px\">\n"
   ]
  },
  {
   "cell_type": "markdown",
   "metadata": {
    "collapsed": false,
    "slideshow": {
     "slide_type": "slide"
    }
   },
   "source": [
    "## plotting polar functions in python"
   ]
  },
  {
   "cell_type": "code",
   "execution_count": 64,
   "metadata": {
    "collapsed": true,
    "slideshow": {
     "slide_type": "skip"
    }
   },
   "outputs": [],
   "source": [
    "%matplotlib inline\n",
    "matplotlib.rcParams['figure.figsize'] = (10, 6)"
   ]
  },
  {
   "cell_type": "code",
   "execution_count": 65,
   "metadata": {
    "collapsed": false,
    "slideshow": {
     "slide_type": "slide"
    }
   },
   "outputs": [
    {
     "data": {
      "image/png": "[encoded data removed]",
      "text/plain": [
       "<matplotlib.figure.Figure at 0x10c5e4550>"
      ]
     },
     "metadata": {},
     "output_type": "display_data"
    }
   ],
   "source": [
    "from numpy import *\n",
    "from matplotlib.pyplot import *\n",
    "\n",
    "\n",
    "rc('xtick', labelsize=7)\n",
    "rc('ytick', labelsize=7)\n",
    "\n",
    "phi = linspace(0, 2*pi, 200)\n",
    "polar(phi, 1-cos(phi))\n",
    "grid(True)\n",
    "savefig(\"plot_1.png\")\n"
   ]
  },
  {
   "cell_type": "code",
   "execution_count": 66,
   "metadata": {
    "collapsed": false,
    "slideshow": {
     "slide_type": "slide"
    }
   },
   "outputs": [
    {
     "data": {
      "image/png": "[encoded data removed]",
      "text/plain": [
       "<matplotlib.figure.Figure at 0x1096aaf28>"
      ]
     },
     "metadata": {},
     "output_type": "display_data"
    }
   ],
   "source": [
    "from numpy import *\n",
    "from matplotlib.pyplot import *\n",
    "\n",
    "rc('xtick', labelsize=7)\n",
    "rc('ytick', labelsize=7)\n",
    "\n",
    "phi = linspace(0, 2*pi, 200)\n",
    "\n",
    "f, ax = subplots(2, 3, subplot_kw=dict(projection='polar'))\n",
    "ax[0,0].plot(phi, sin(phi))\n",
    "ax[0,1].plot(phi, cos(phi))\n",
    "ax[1,0].plot(phi, abs( sin(phi) ))\n",
    "ax[1,1].plot(phi, abs( cos(phi) ))\n",
    "ax[1,0].plot(phi,  sin(phi)**2 )\n",
    "ax[1,1].plot(phi,  cos(phi)**2 )\n",
    "ax[0,2].plot(phi,  sin(phi)*cos(phi) )\n",
    "ax[1,2].plot(phi,  abs( cos(phi)*sin(phi) ))\n",
    "ax[0, 0].set_title('sin(phi)', fontsize=8)\n",
    "\n",
    "show()\n",
    "\n",
    "f.savefig(\"polarFunctions.png\", format='png', dpi=600)\n"
   ]
  },
  {
   "cell_type": "code",
   "execution_count": 67,
   "metadata": {
    "collapsed": false,
    "slideshow": {
     "slide_type": "slide"
    }
   },
   "outputs": [
    {
     "data": {
      "image/png": "[encoded data removed]",
      "text/plain": [
       "<matplotlib.figure.Figure at 0x1177067f0>"
      ]
     },
     "metadata": {},
     "output_type": "display_data"
    }
   ],
   "source": [
    "from mpl_toolkits.mplot3d import Axes3D\n",
    "\n",
    "step = 0.04\n",
    "maxval = 1.0\n",
    "fig = figure()\n",
    "ax = fig.add_subplot(111, projection='3d')\n",
    "\n",
    "# create supporting points in polar coordinates\n",
    "r = np.linspace(0, 1.25, 50)\n",
    "p = np.linspace(0, 2*np.pi, 50)\n",
    "R, P = np.meshgrid(r, p)\n",
    "# transform them to cartesian system\n",
    "X, Y = R*np.cos(P), R*np.sin(P)\n",
    "\n",
    "Z = ((R**2 - 1)**2)\n",
    "ax.plot_surface(X, Y, Z, rstride=1, cstride=1, cmap=cm.YlGnBu_r)\n",
    "ax.set_zlim3d(0, 1)\n",
    "ax.set_xlabel(r'$\\phi_\\mathrm{real}$')\n",
    "ax.set_ylabel(r'$\\phi_\\mathrm{im}$')\n",
    "ax.set_zlabel(r'$V(\\phi)$')\n",
    "show()"
   ]
  },
  {
   "cell_type": "markdown",
   "metadata": {
    "slideshow": {
     "slide_type": "slide"
    }
   },
   "source": [
    "# angular momentum"
   ]
  },
  {
   "cell_type": "markdown",
   "metadata": {
    "slideshow": {
     "slide_type": "slide"
    }
   },
   "source": [
    "The angular momentum is defined classically as:\n",
    "\n",
    "$$\n",
    "\\mathbf{L} = \\mathbf{r} \\times \\mathbf{p}\n",
    "$$\n",
    "\n",
    "Where $\\mathbf{L}$, $\\mathbf{r}$ and $\\mathbf{p}$ are vectors in $\\mathbb{R}^3$ so we can write\n",
    "\n",
    "$$\n",
    "\\mathbf{L} = (L_x, L_y, Lz)\n",
    "$$\n",
    "\n",
    "where $L_x$, $L_y$ and $Lz$ are the projections of the vector on the three cartesian axis.\n",
    "\n",
    "<img src=\"../angularMomentum.png\" width=\"200\">\n",
    "\n",
    "<center>from Levine p. 102</center>\n"
   ]
  },
  {
   "cell_type": "markdown",
   "metadata": {
    "slideshow": {
     "slide_type": "subslide"
    }
   },
   "source": [
    "## cross product\n",
    "$$\n",
    "\\mathbf{r} = \\mathbf{i}x + \\mathbf{j}y + \\mathbf{k}z\n",
    "$$\n",
    "$$\n",
    "\\mathbf{v} = \\frac{\\partial r}{\\partial t} = \\mathbf{i}\\frac{\\partial x}{\\partial t} + \\mathbf{j}\\frac{\\partial y}{\\partial t} + \\mathbf{k}\\frac{\\partial z}{\\partial t}\n",
    "$$\n",
    "\n",
    "Since \n",
    "\n",
    "$$\n",
    "\\mathbf{L} = \\mathbf{r} \\times \\mathbf{p}\n",
    "$$\n",
    "\n",
    "we can evaluate the cross product\n",
    "\n",
    "$$\n",
    "\\mathbf{L} = \\left|\\begin{array}{ccc} \\mathbf{i} & \\mathbf{j} & \\mathbf{k}\\\\ x&y&z \\\\ p_x & p_y & p_z \\end{array}\\right| = \\mathbf{i} \\left|\\begin{array}{cc} y & z \\\\ p_y & p_z \\end{array}\\right| -\\mathbf{i} \\left|\\begin{array}{cc} x & z \\\\ p_x & p_z \\end{array}\\right| +\n",
    "\\mathbf{k} \\left|\\begin{array}{cc} x & y \\\\ p_x & p_y \\end{array}\\right|\n",
    "$$\n",
    "\n",
    "$$\n",
    "L_x = yp_z - zp_y, L_y = zp_x - xp_z, L_z = xp_y - yp_x\n",
    "$$\n"
   ]
  },
  {
   "cell_type": "markdown",
   "metadata": {
    "slideshow": {
     "slide_type": "slide"
    }
   },
   "source": [
    "## angular momentum operators\n",
    "\n",
    "In order to find out the corresponding quantum operators we used the relations (given by Schrödinger):\n",
    "\n",
    "$$\n",
    "\\hat{x} = x, \\hat{p}_x = -i \\hbar \\frac{\\partial}{\\partial x}\n",
    "$$\n",
    "\n",
    "by substitution we readily find:\n",
    "\n",
    "$$\n",
    "\\hat{L}_x = -i\\hbar \\left(y \\frac{\\partial}{\\partial z} - z \\frac{\\partial}{\\partial y} \\right)\n",
    "$$\n",
    "$$\n",
    "\\hat{L}_y = -i\\hbar \\left(z \\frac{\\partial}{\\partial x} - x \\frac{\\partial}{\\partial z} \\right)\n",
    "$$\n",
    "$$\n",
    "\\hat{L}_z = -i\\hbar \\left(x \\frac{\\partial}{\\partial y} - y \\frac{\\partial}{\\partial x} \\right)\n",
    "$$\n",
    "\n",
    "by noting that\n",
    "\n",
    "$$\n",
    "y\\hat{p}_z = \\hat{p}_z y\n",
    "$$\n",
    "\n",
    "\n"
   ]
  },
  {
   "cell_type": "markdown",
   "metadata": {
    "slideshow": {
     "slide_type": "subslide"
    }
   },
   "source": [
    "## the magnitude operator\n",
    "From the 3 projections we can build the operator for the magnitud of the momentum\n",
    "\n",
    "$$\n",
    "\\hat{L}^2 = \\hat{L}_x^2+ \\hat{L}_y^2 + \\hat{L}_z^2\n",
    "$$"
   ]
  },
  {
   "cell_type": "markdown",
   "metadata": {
    "slideshow": {
     "slide_type": "slide"
    }
   },
   "source": [
    "## commutation rules\n",
    "\n",
    "Using \n",
    "$$\n",
    "\\hat{L}_x = -i\\hbar \\left(y \\frac{\\partial}{\\partial z} - z \\frac{\\partial}{\\partial y} \\right)\n",
    "$$\n",
    "$$\n",
    "\\hat{L}_y = -i\\hbar \\left(z \\frac{\\partial}{\\partial x} - x \\frac{\\partial}{\\partial z} \\right)\n",
    "$$\n",
    "\n",
    "we can compute \n",
    "\n",
    "$$\n",
    "[\\hat{L}_x,\\hat{L}_y]\n",
    "$$\n",
    "\n",
    "$$\n",
    "\\hat{L}_x\\hat{L}_y f = -\\hbar^2\\left( y \\frac{\\partial f}{\\partial x} +yz \\frac{\\partial^2 f}{\\partial z\\partial x} - yx \\frac{\\partial^2 f}{\\partial^2 z} - z^2 \\frac{\\partial^2 f}{\\partial y\\partial x} + zx \\frac{\\partial^2 f}{\\partial y\\partial z}\\right)\n",
    "$$\n",
    "\n",
    "\n",
    "$$\n",
    "\\hat{L}_y\\hat{L}_x f = -\\hbar^2\\left( zy \\frac{\\partial^2 f}{\\partial x\\partial z} - z^2 \\frac{\\partial^2 f}{\\partial x\\partial y} - xy \\frac{\\partial^2 f}{\\partial^2 z} + x \\frac{\\partial f}{\\partial y} + xz \\frac{\\partial^2 f}{\\partial z\\partial y}\\right)\n",
    "$$\n",
    "\n",
    "$$\n",
    "\\hat{L}_x\\hat{L}_y f - \\hat{L}_y\\hat{L}_x f = -\\hbar^2\\left(y \\frac{\\partial f}{\\partial x} - x \\frac{\\partial f}{\\partial y}  \\right)\n",
    "$$\n",
    "\n",
    "$$\n",
    "[\\hat{L}_x,\\hat{L}_y] = i\\hbar \\hat{L}_z\n",
    "$$\n",
    "\n",
    "Repeating this with all the operators we find:\n",
    "\n",
    "$$\n",
    "[\\hat{L}_y,\\hat{L}_z] = i\\hbar \\hat{L}_x\n",
    "$$\n",
    "\n",
    "$$\n",
    "[\\hat{L}_z,\\hat{L}_x] = i\\hbar \\hat{L}_y\n",
    "$$\n",
    "\n",
    "and\n",
    "\n",
    "$$\n",
    "[\\hat{L}^2,\\hat{L}_x] = [\\hat{L}^2,\\hat{L}_y] = [\\hat{L}^2,\\hat{L}_z] = 0\n",
    "$$\n",
    "\n"
   ]
  },
  {
   "cell_type": "markdown",
   "metadata": {},
   "source": [
    "## commutation rules\n",
    "\n",
    "<img src=\"../Vector_model_of_orbital_angular_momentum.svg\" width=\"300\">"
   ]
  },
  {
   "cell_type": "markdown",
   "metadata": {
    "slideshow": {
     "slide_type": "slide"
    }
   },
   "source": [
    "## the eignevalue equation\n",
    "\n",
    "In order to determine the stationary state and the magnitude of the operators we need to solve the eigenvalue equation. \n",
    "\n",
    "In cartesian coordinates we know it will be difficult to separate the variabes so we have to *express the operators of angular momentum in the polar system*\n",
    "\n",
    "$$\n",
    "\\hat{L}_x = i\\hbar\\left( sin\\phi \\frac{\\partial}{\\partial \\theta} + cot\\theta cos\\phi \\frac{\\partial}{\\partial \\phi} \\right)\n",
    "$$\n",
    "$$\n",
    "\\hat{L}_y = -i\\hbar\\left( cos\\phi \\frac{\\partial}{\\partial \\theta} - cot\\theta sin\\phi \\frac{\\partial}{\\partial \\phi} \\right)\n",
    "$$\n",
    "$$\n",
    "\\hat{L}_z = -i\\hbar\\frac{\\partial}{\\partial \\phi}\n",
    "$$\n",
    "$$\n",
    "\\hat{L}^2 = -i\\hbar\\left( \\frac{\\partial^2}{\\partial \\theta} + cot\\theta \\frac{\\partial}{\\partial \\theta} + \\frac{1}{sin^2\\phi}\\frac{\\partial^2}{\\partial \\phi} \\right)\n",
    "$$"
   ]
  },
  {
   "cell_type": "markdown",
   "metadata": {
    "slideshow": {
     "slide_type": "slide"
    }
   },
   "source": [
    "## the eigenvalue equation\n",
    "\n",
    "### the projection on z\n",
    "\n",
    "$$\n",
    "\\hat{L}_z Y(\\theta,\\phi) = b Y(\\theta,\\phi)\n",
    "$$\n",
    "$$\n",
    "\\hat{L}^2 Y(\\theta,\\phi) = c Y(\\theta,\\phi)\n",
    "$$\n",
    "\n",
    "We can factorize the wavefunction into\n",
    "\n",
    "$$\n",
    "Y(\\theta,\\phi) = \\Theta(\\theta) \\Phi(\\phi)\n",
    "$$\n",
    "\n",
    "and because $\\hat{L}_z$ only actuates on $\\phi$ we can write the equation for the projection in $z$ as:\n",
    "\n",
    "$$\n",
    "-i\\hbar\\frac{\\partial}{\\partial \\phi} Y(\\theta,\\phi) = b Y(\\theta,\\phi)\n",
    "$$\n",
    "\n",
    "We recognize this equation and know that a candidate eigenfunction is\n",
    "\n",
    "$$\n",
    "\\Phi(\\phi) = Ae^{ib\\phi/\\hbar}\n",
    "$$\n",
    "\n",
    "Using the border condition\n",
    "\n",
    "$$\n",
    "\\Phi(\\phi + 2\\pi) = \\Phi(\\phi)\n",
    "$$\n",
    "\n",
    "we find that $b=m\\hbar$ and $m=\\ldots -2, -1, 0, 1, \\ldots$\n",
    "\n",
    "So, after normalization\n",
    "\n",
    "$$\n",
    "\\Phi(\\phi) = \\frac{1}{\\sqrt{2\\pi}}e^{im\\phi}\n",
    "$$\n"
   ]
  },
  {
   "cell_type": "markdown",
   "metadata": {
    "slideshow": {
     "slide_type": "subslide"
    }
   },
   "source": [
    "### the module \n",
    "\n",
    "We should now use this last equation into the eigen equation for $\\hat{L}^2$\n",
    "\n",
    "$$\n",
    "-i\\hbar\\left( \\frac{\\partial^2}{\\partial \\theta} + cot\\theta \\frac{\\partial}{\\partial \\theta} + \\frac{1}{sin^2\\phi}\\frac{\\partial^2}{\\partial \\phi} \\right) \\left(\\Theta(\\theta)\\frac{1}{\\sqrt{2\\pi}}e^{im\\phi}\\right) = c \\left( \\Theta(\\theta) \\frac{1}{\\sqrt{2\\pi}}e^{im\\phi} \\right)\n",
    "$$\n",
    "\n",
    "Solving this equation we find:\n",
    "\n",
    "$$\n",
    "c = \\hbar^2(k+|m|)(k+|m|+1), k = 0,1,2,\\ldots\n",
    "$$\n",
    "\n",
    "Since $|m| = 0,1,2,\\ldots$, then $k+|m| = 0,1,2,\\ldots$\n",
    "\n",
    "we can define $l = k+|m|$ with $l = 0,1,2,\\ldots$ so\n",
    " \n",
    "$$\n",
    "c = \\hbar^2 l(l+1), l = 0,1,2,\\ldots\n",
    "$$\n",
    "\n",
    "and the module $|\\mathbf{L}|$ is $\\hbar \\sqrt{l(l+1)}$\n",
    "\n",
    "Since we defined $l = k+|m|$\n",
    "\n",
    "$$\n",
    "m = -l, -l-1,-l-2,\\ldots,-1,0,1,\\ldots,l-2,l-1,l\n",
    "$$\n",
    "\n",
    "\n"
   ]
  },
  {
   "cell_type": "markdown",
   "metadata": {
    "slideshow": {
     "slide_type": "subslide"
    }
   },
   "source": [
    "$$\n",
    "b = m\\hbar, m=0,\\pm 1, \\pm 2, \\ldots\n",
    "$$\n",
    "\n",
    "$$\n",
    "\\sqrt{c} = \\hbar \\sqrt{l(l+1)}, l = 0,1,2,\\ldots\n",
    "$$\n",
    "<img src=\"../angularMomentumEignenValues.png\" width=\"300\">\n",
    "\n",
    "\n",
    "$$\n",
    "Y_{0}^0(\\theta,\\phi) = \\frac{1}{\\sqrt{4\\pi}}\n",
    "$$\n",
    "\n",
    "so the eigenfunctions for the angular momentum are the spherial harmonics"
   ]
  },
  {
   "cell_type": "markdown",
   "metadata": {
    "slideshow": {
     "slide_type": "slide"
    }
   },
   "source": [
    "## degenerated states\n",
    "\n",
    "<img src=\"../angularMomentumDegeneratedStates.png\" width=\"500\">"
   ]
  },
  {
   "cell_type": "markdown",
   "metadata": {
    "slideshow": {
     "slide_type": "slide"
    }
   },
   "source": [
    "# spin and spin-orbits"
   ]
  },
  {
   "cell_type": "markdown",
   "metadata": {
    "slideshow": {
     "slide_type": "slide"
    }
   },
   "source": [
    "## the spin\n",
    "\n",
    "Remember the Stern ad Gerlach experiment?\n",
    "\n",
    "Another angular momentum exists: **THE SPIN**\n",
    "\n",
    "It has no \"classical\" equivalence, but it is still there and we can observe it. Since it behave like an angular momentum, we can define the following opertors in analogy to what we did for the orbital angular momentum.\n",
    "\n",
    "$$\n",
    "\\hat{S}^2 = \\hat{S}_x^2+ \\hat{S}_y^2 + \\hat{S}_z^2\n",
    "$$\n",
    "\n",
    "$$\n",
    "[\\hat{S}_x,\\hat{S}_y] = i\\hbar \\hat{S}_z\n",
    "$$\n",
    "\n",
    "$$\n",
    "[\\hat{S}_y,\\hat{S}_z] = i\\hbar \\hat{S}_x\n",
    "$$\n",
    "\n",
    "$$\n",
    "[\\hat{S}_z,\\hat{S}_x] = i\\hbar \\hat{S}_y\n",
    "$$\n",
    "\n",
    "and\n",
    "\n",
    "$$\n",
    "[\\hat{S}^2,\\hat{S}_x] = [\\hat{S}^2,\\hat{S}_y] = [\\hat{S}^2,\\hat{S}_z] = 0\n",
    "$$\n",
    "\n"
   ]
  },
  {
   "cell_type": "markdown",
   "metadata": {
    "slideshow": {
     "slide_type": "notes"
    }
   },
   "source": [
    "The commutations rules are very important. How can we remember them easily?\n",
    "\n",
    "As rotations in $\\mathbb{R}^3$!! (Lie Group)"
   ]
  },
  {
   "cell_type": "markdown",
   "metadata": {
    "slideshow": {
     "slide_type": "slide"
    }
   },
   "source": [
    "## eigen equation for the spin 1/2\n",
    "\n",
    "$$\n",
    "\\hat{S}_z \\alpha = \\hbar m_s =\\frac{1}{2}\\hbar \\alpha\n",
    "$$\n",
    "$$\n",
    "\\hat{S}_z \\beta = \\hbar m_s = -\\frac{1}{2}\\hbar \\beta\n",
    "$$\n",
    "\n",
    "where for $S=\\frac{1}{2}$, $m_s=-s,-s-1,\\ldots,0,1,\\ldots, s = -\\frac{1}{2}, \\frac{1}{2}$\n",
    "\n",
    "y \n",
    "\n",
    "$$\n",
    "\\hat{S}^2 \\alpha = \\hbar^2 s(s+1) =\\frac{1}{2}\\left(\\frac{3}{2}\\right)\\hbar^2 \\alpha\n",
    "$$\n",
    "\n",
    "$$\n",
    "\\hat{S}^2 \\beta = \\hbar^2 s(s+1) =\\frac{1}{2}\\left(\\frac{3}{2}\\right)\\hbar^2 \\beta\n",
    "$$\n"
   ]
  },
  {
   "cell_type": "markdown",
   "metadata": {
    "slideshow": {
     "slide_type": "slide"
    }
   },
   "source": [
    "## Pauli matrices\n"
   ]
  },
  {
   "cell_type": "code",
   "execution_count": 61,
   "metadata": {
    "collapsed": false,
    "slideshow": {
     "slide_type": "slide"
    }
   },
   "outputs": [
    {
     "name": "stdout",
     "output_type": "stream",
     "text": [
      "Sx:\n",
      "[[ 0.   0.5]\n",
      " [ 0.5  0. ]]\n",
      "norm of (Sx)^2:\n",
      "0.5\n"
     ]
    }
   ],
   "source": [
    "# we can define four Pauli matrices for the four Spin Operators\n",
    "Sx = .5* matrix('0 1;1 0')\n",
    "Sy = .5* matrix('0 0.-1.j;0.+1.j 0')\n",
    "Sz = .5* matrix('1 0;0 -1')\n",
    "Ssq = .25* matrix('3 0;0 3')\n",
    "print('Sx:')\n",
    "print(Sx)\n",
    "print('norm of (Sx)^2:')\n",
    "print(trace((Sx**2)))\n"
   ]
  },
  {
   "cell_type": "code",
   "execution_count": 62,
   "metadata": {
    "collapsed": false,
    "slideshow": {
     "slide_type": "slide"
    }
   },
   "outputs": [
    {
     "name": "stdout",
     "output_type": "stream",
     "text": [
      "the commutator [Sx,Sy]=\n",
      "[[ 0.+0.5j  0.+0.j ]\n",
      " [ 0.+0.j   0.-0.5j]]\n",
      "which is equal to i*Sz\n",
      "[[ 0.+0.5j  0.+0.j ]\n",
      " [ 0.+0.j   0.-0.5j]]\n",
      "the commutator [S^2,Sy]=\n",
      "[[ 0.+0.j  0.+0.j]\n",
      " [ 0.+0.j  0.+0.j]]\n"
     ]
    }
   ],
   "source": [
    "# we can play with these matrix to find out the commutation rules\n",
    "print('the commutator [Sx,Sy]=')\n",
    "print(Sx*Sy-Sy*Sx)\n",
    "print('which is equal to i*Sz')\n",
    "print(0.+1.j * Sz)\n",
    "print('the commutator [S^2,Sy]=')\n",
    "print(Ssq*Sy-Sy*Ssq)\n",
    "# as expected!"
   ]
  },
  {
   "cell_type": "code",
   "execution_count": 63,
   "metadata": {
    "collapsed": false
   },
   "outputs": [
    {
     "name": "stdout",
     "output_type": "stream",
     "text": [
      "[[ 0.5]\n",
      " [ 0. ]]\n",
      "[[ 0. ]\n",
      " [-0.5]]\n",
      "[[ 0.75]\n",
      " [ 0.  ]]\n",
      "[[ 0.  ]\n",
      " [ 0.75]]\n"
     ]
    }
   ],
   "source": [
    "alpha = matrix('1;0')\n",
    "beta = matrix('0;1')\n",
    "\n",
    "print(Sz*alpha)\n",
    "print(Sz*beta)\n",
    "print(Ssq*alpha)\n",
    "print(Ssq*beta)"
   ]
  },
  {
   "cell_type": "markdown",
   "metadata": {
    "slideshow": {
     "slide_type": "slide"
    }
   },
   "source": [
    "## spin-orbit coupling\n",
    "\n",
    "there are two angular momenta, thus two diplolar momenta\n",
    "\n",
    "$$\n",
    "J = |L+S|\n",
    "$$\n",
    "\n",
    "<img src=\"../LS_coupling.svg\" width=\"300\">\n",
    "\n"
   ]
  },
  {
   "cell_type": "markdown",
   "metadata": {
    "slideshow": {
     "slide_type": "slide"
    }
   },
   "source": [
    "## the $H_{S-O}$ *Hamiltonian*\n",
    "\n",
    "we need to include the S-O interaction term in the *Hamiltonian*\n",
    "\n",
    "$$\n",
    "\\hat{H} = \\hat{H}_{0}+\\hat{H}_{SO}\n",
    "$$\n",
    "\n",
    "$$\n",
    "\\hat{H}_{SO} = \\frac{\\kappa e^2 Z}{2m^2c^2}\\frac{LS}{r^3}\n",
    "$$\n",
    "\n",
    "The important part of that term is the product $LS$ that means that the magnitud of the interaction will depend on the orientation (dot product depends on the cosine)\n",
    "\n",
    "The **consequence** is that $m_l$ and $m_s$ are not any more good quantum number and we have to introduce $j$ and $m_j$ instead.\n",
    "\n",
    "The sum of the two angular momenta is:\n",
    "\n",
    "$$\n",
    "J=L+S, L+S-1, \\ldots, |L-S|\n",
    "$$\n",
    "\n",
    "and\n",
    "\n",
    "$$\n",
    "m_j = -J, -J+1, \\ldots, J\n",
    "$$"
   ]
  },
  {
   "cell_type": "markdown",
   "metadata": {
    "slideshow": {
     "slide_type": "slide"
    }
   },
   "source": [
    "## configuration...\n",
    "\n",
    "### spectroscopic terms, nivels & states\n",
    "\n",
    "Look at the configuration $1s^1$ for the hydrogen atom. There are only two ways to combine the angular momenta $L=0$ and $S=\\frac{1}{2}$:\n",
    "\n",
    "$$\n",
    "J = 0+\\frac{1}{2} = \\frac{1}{2}\n",
    "$$\n",
    "\n",
    "There is thus 1 levels:\n",
    "\n",
    "$$\n",
    "^{2s+1}L_j = ^2S_{\\frac{1}{2}}\n",
    "$$\n",
    "\n",
    "and $(2j+1)=2$ degenerate states with $m_j=-\\frac{1}{2},\\frac{1}{2}$\n",
    "\n",
    "If the configuration is $2p^1$, for an excited state, then we would have $L=1$ and $S=\\frac{1}{2}$. Thus \n",
    "\n",
    "$$\n",
    "J = 1+\\frac{1}{2}, 1+\\frac{1}{2}-1 = \\frac{3}{2},\\frac{1}{2}\n",
    "$$\n",
    "\n",
    "and the 2 levels are  $^2P_{\\frac{3}{2}}$ ($(2j+1)=4$ states), $^2P_{\\frac{1}{2}}$ ($(2j+1)=2$ states) with a total of 6 states.\n"
   ]
  },
  {
   "cell_type": "markdown",
   "metadata": {
    "slideshow": {
     "slide_type": "subslide"
    }
   },
   "source": [
    "another way to see this is to look for all the possible states.\n",
    "\n",
    "For example in the case of the configuration $1s^1$ the angular momentum $L$ has only one possible value $m_l=0$ and the spin has 2 possible values $m_s=-1/2,1/2$. How many different states can we build? 2\n",
    "\n",
    "|      | 0 |\n",
    "|------|---|\n",
    "| 1/2  | {0,1/2} |\n",
    "| -1/2 | {0,-1/2}|\n",
    "\n",
    "While for the $2p^1$\n",
    "\n",
    "we have 6 states\n",
    "\n",
    "|      | 1 | 0 | -1 |\n",
    "|------|---|---|----|\n",
    "| 1/2  |{1,1/2}|{0,1/2}|{-1,1/2}|\n",
    "| -1/2 |{1,-1/2}|{0,-1/2}|{-1,-1/2}|\n",
    "\n",
    "since the maximum value $m_j = m_l+m_s = 3/2$ we know that we have $J=3/2$ with four states ${3/2,1/2,-1/2,-3/2}$. If we remove these 4 values from the table we found two remaining ${1/2,-1/2}$ meaning we have another value $J=1/2$. So we have 2 levels $^2P_{\\frac{1}{2}}$ and $2^P_{\\frac{3}{2}}$\n"
   ]
  },
  {
   "cell_type": "markdown",
   "metadata": {
    "slideshow": {
     "slide_type": "slide"
    }
   },
   "source": [
    "## atomic spectrum \n",
    "\n",
    "<img src=\"../SOCoupling.png\" width=\"600\">\n",
    "<img src=\"../SODoublets.png\" width=\"600\">\n",
    "\n",
    "#### With the following selection rules\n",
    "\n",
    "$$\n",
    "\\Delta l=\\pm 1\n",
    "$$\n",
    "$$\n",
    "\\Delta j=0, \\pm 1\n",
    "$$\n"
   ]
  },
  {
   "cell_type": "markdown",
   "metadata": {
    "slideshow": {
     "slide_type": "slide"
    }
   },
   "source": [
    "## Zeeman effect\n",
    "<img src=\"../zeeman.png\" width=\"500\">"
   ]
  },
  {
   "cell_type": "markdown",
   "metadata": {
    "slideshow": {
     "slide_type": "slide"
    }
   },
   "source": [
    "# polyelectronic atoms"
   ]
  },
  {
   "cell_type": "markdown",
   "metadata": {
    "slideshow": {
     "slide_type": "slide"
    }
   },
   "source": [
    "## the helium atom $(Z=2)$\n",
    "\n",
    "we can continue our exploration and try do find the *Hamiltonian* for a more complex system: the atom of Helium\n",
    "\n",
    "<center><img src=\"../referentialHeAtom.svg\" width=\"300\"></center>\n",
    "\n",
    "$$\n",
    "\\hat{H}=K_{nuc}+K_{elec1}+K_{elec2}+V_{Ne_1}+V_{Ne_2}+V_{e_1e_2}\n",
    "$$\n",
    "\n",
    "$$\n",
    "\\hat{H}=-\\frac{1}{2M}\\nabla^2_R-\\frac{1}{2}\\nabla^2_{r_1}-\\frac{1}{2}\\nabla^2_{r_2}\n",
    "-\\frac{2}{|r_1-R|}-\\frac{2}{|r_2-R|}+\\frac{1}{|r_1-r_2|}\n",
    "$$\n",
    "\n"
   ]
  },
  {
   "cell_type": "markdown",
   "metadata": {
    "slideshow": {
     "slide_type": "slide"
    }
   },
   "source": [
    "### the proper coordinate system\n",
    "\n",
    "We first write down the wave function with its degree of freedom\n",
    "\n",
    "$$\n",
    "\\Psi(X_N, Y_N ,Z_N ,X_1 ,Y_1 ,Z_1 ,X_2 ,Y_2 ,Z_2)\n",
    "$$\n",
    "\n",
    "We consider the center of mass as origin for our system. In that case our function recast to:\n",
    "\n",
    "$$\n",
    "\\varPsi(x_{1}, y_{1},z_{1},x_{2},y_{2},z_{2})\n",
    "$$\n",
    "\n",
    "In atomic units and in the coordinates of the center of mass the *Hamiltonian* is:\n",
    "$$\n",
    "\\hat{\\mathcal{H}}=-\\frac{1}{2}\\nabla_1^2-\\frac{1}{2}\\nabla_2^2-\\frac{2}{\\sqrt{x_1^2+y_1^2+z_1^2}}-\\frac{2}{\\sqrt{x_2^2+y_2^2+z_2^2}}\n",
    "+\\frac{1}{\\sqrt{(x_1-x_2)^2+(y_1-y_2)^2+(z_1-z_2)^2}}\n",
    "$$\n",
    "\n",
    "Remember... the cartesian system is not really good for spherical symmetries\n",
    "$$\n",
    "\\varPsi(x_{1},y_{1}, z_{1}, x_{2}, y_{2}, z_{2})\\equiv\\varPsi(r_1, \\theta_1, \\phi_1, r_2, \\theta_2, \\phi_2)\n",
    "$$"
   ]
  },
  {
   "cell_type": "markdown",
   "metadata": {
    "slideshow": {
     "slide_type": "slide"
    }
   },
   "source": [
    "\n",
    "### the Schrödinger equation\n",
    "\n",
    "$$\n",
    "\\varPsi(\\vec{r}_1,\\vec{r}_2)\n",
    "$$\n",
    "\n",
    "$$\n",
    "\\hat{\\mathcal{H}}=-\\frac{1}{2}\\nabla_1^2-\\frac{1}{2}\\nabla_2^2-\\frac{2}{\\vec{r}_1}-\\frac{2}{\\vec{r}_2}+\\frac{1}{r_{12}}\n",
    "$$\n",
    "\n",
    "$$\n",
    "\\hat{\\mathcal{H}}\\varPsi(\\vec{r}_1,\\vec{r}_2)=E_e\\varPsi(\\vec{r}_1,\\vec{r}_2)\n",
    "$$\n",
    "\n",
    "$r^{-1}_{12}$ makes the separation of variable impossible!\n",
    "\n"
   ]
  },
  {
   "cell_type": "markdown",
   "metadata": {
    "slideshow": {
     "slide_type": "slide"
    }
   },
   "source": [
    "\n",
    "### first approximation \n",
    "\n",
    "as a first approximation we can simply drop the repulsion term. In this case we can write our *Hamiltonian* as the sum:\n",
    "\n",
    "$$\n",
    "\\hat{H}=\\hat{h}(\\vec{r}_1)+\\hat{h}(\\vec{r}_2)\n",
    "$$\n",
    "$$\n",
    "\\hat{h}(\\vec{r}_i)=-\\frac{1}{2}\\nabla_i^2-\\frac{2}{\\vec{r}_i}\n",
    "$$\n",
    "\n",
    "And the equation to be solved is:\n",
    "\n",
    "$$\n",
    "\\hat{H}\\psi(\\vec{r}_1,\\vec{r}_2)=W\\psi(\\vec{r}_1,\\vec{r}_2)\n",
    "$$\n",
    "\n",
    "We only have to assume $\\psi(\\vec{r}_1,\\vec{r}_2)=\\phi_1(\\vec{r}_1)\\phi_2(\\vec{r}_2)$ in order to proceed with the separation of variables.\n",
    "\n"
   ]
  },
  {
   "cell_type": "markdown",
   "metadata": {
    "slideshow": {
     "slide_type": "slide"
    }
   },
   "source": [
    "\n",
    "### the separation of variables\n",
    "\n",
    "$$\n",
    "\\hat{H}\\psi(\\vec{r}_1,\\vec{r}_2)=W\\phi_1(\\vec{r}_1)\\phi_2(\\vec{r}_2)\n",
    "$$\n",
    "$$\n",
    "\\Bigl[\\hat{h}(\\vec{r}_1)+\\hat{h}(\\vec{r}_2)\\Bigr]\\phi_1(\\vec{r}_1)\\phi_2(\\vec{r}_2)=W\\phi_1(\\vec{r}_1)\\phi_2(\\vec{r}_2)\n",
    "$$\n",
    "\n",
    "$$\n",
    "\\hat{h}(\\vec{r}_1)\\phi_1(\\vec{r}_1)=\\epsilon_1\\phi_1(\\vec{r}_1)\n",
    "$$\n",
    "$$\n",
    "\\hat{h}(\\vec{r}_2)\\phi_2(\\vec{r}_2)=\\epsilon_2\\phi_2(\\vec{r}_2)\n",
    "$$\n",
    "\n",
    "$$\n",
    "W=\\epsilon_1+\\epsilon_2\n",
    "$$"
   ]
  },
  {
   "cell_type": "markdown",
   "metadata": {
    "slideshow": {
     "slide_type": "slide"
    }
   },
   "source": [
    "Ignoring the repulsion term we can factor the wave function, that is we consider the total wavefunction as the product of two *monoelectronic* functions, or 2 *orbitals*. Since we already know theses functions we can readily solve the problem:\n",
    "\n",
    "$$\n",
    "\\phi_i(\\vec{r}_i)\\in \\{ 1s(\\vec{r}_i), 2s(\\vec{r}_i), 2p_x(\\vec{r}_i), 2p_y(\\vec{r}_i), 2p_z(\\vec{r}_i), 3s(\\vec{r}_i), \\ldots \\}\n",
    "$$\n",
    "\n",
    "So we have to find two functions that give the lowest possible energy:\n",
    "\n",
    "$$\n",
    "\\psi(\\vec{r}_1,\\vec{r}_2)=\\phi_1(\\vec{r}_1)\\phi_2(\\vec{r}_2)=1s_1(\\vec{r}_1)1s_2(\\vec{r}_2)\n",
    "$$\n",
    "\n",
    "and the energy (a.u.)\n",
    "\n",
    "$$\n",
    "\\epsilon_i=\\frac{-Z^2}{2n^2}\n",
    "$$"
   ]
  },
  {
   "cell_type": "markdown",
   "metadata": {},
   "source": []
  },
  {
   "cell_type": "markdown",
   "metadata": {},
   "source": []
  },
  {
   "cell_type": "markdown",
   "metadata": {},
   "source": []
  },
  {
   "cell_type": "markdown",
   "metadata": {},
   "source": []
  },
  {
   "cell_type": "markdown",
   "metadata": {},
   "source": []
  },
  {
   "cell_type": "markdown",
   "metadata": {},
   "source": []
  },
  {
   "cell_type": "markdown",
   "metadata": {},
   "source": []
  },
  {
   "cell_type": "markdown",
   "metadata": {},
   "source": []
  },
  {
   "cell_type": "markdown",
   "metadata": {},
   "source": []
  },
  {
   "cell_type": "markdown",
   "metadata": {
    "slideshow": {
     "slide_type": "slide"
    }
   },
   "source": [
    "## photoelectronic spectroscopy\n",
    "\n",
    " - X-ray Photoelectron Spectroscopy (XPS\n",
    " - Electron Spectroscopy for Chemical Analysis (ESCA)\n",
    " - Ultraviole Photoelectron Spectroscopy (UPS)\n",
    " - Photoemission Spectroscopy (PES)\n",
    " \n",
    " <a href=\"http://mmrc.caltech.edu/SS_XPS/XPS_PPT/XPS_Slides.pdf\"><img src=\"../PESSpectrometer.png\" width=\"500\"></a>\n",
    "\n",
    "#### PES is an application of the photoelectric effect\n"
   ]
  },
  {
   "cell_type": "markdown",
   "metadata": {
    "slideshow": {
     "slide_type": "subslide"
    }
   },
   "source": [
    "## PES spectrometer\n",
    "\n",
    "<a href=\"http://mmrc.caltech.edu/SS_XPS/XPS_PPT/XPS_Slides.pdf\"><img src=\"../PESSchema.png\" width=\"400\"></a>"
   ]
  },
  {
   "cell_type": "markdown",
   "metadata": {
    "slideshow": {
     "slide_type": "subslide"
    }
   },
   "source": [
    "## Koopman's theorem\n",
    "\n",
    "The koopman's theorem states that the **binding energy (BE)** is equal to \n",
    "\n",
    "$$\n",
    "BE = E_{final}(n-1) - E_{initial}(n)\n",
    "$$\n",
    "\n",
    "So BE can be computed within the Hartree Fock theory assuming that\n",
    " - no orbital relaxation occur\n",
    " - electronic correlation effects are weak\n",
    "\n",
    "In other word that K's theorem says is that the wavefunctions of the neutral atom are valid to describe the ion.\n",
    "\n",
    "<img src=\"../koopman.png\" width=\"300\">"
   ]
  },
  {
   "cell_type": "markdown",
   "metadata": {
    "slideshow": {
     "slide_type": "subslide"
    }
   },
   "source": [
    "## the energy of the orbitals\n",
    "\n",
    "<img src=\"../PES_EO.png\" width=\"600\">"
   ]
  },
  {
   "cell_type": "markdown",
   "metadata": {
    "slideshow": {
     "slide_type": "subslide"
    }
   },
   "source": [
    "## PES applications\n",
    "\n",
    "<a href=\"http://mmrc.caltech.edu/SS_XPS/XPS_PPT/XPS_Slides.pdf\"><img src=\"../PES_oxide.png\" width=\"500\"></a>\n"
   ]
  },
  {
   "cell_type": "markdown",
   "metadata": {
    "slideshow": {
     "slide_type": "subslide"
    }
   },
   "source": [
    "## PES applications\n",
    "\n",
    "<a href=\"http://mmrc.caltech.edu/SS_XPS/XPS_PPT/XPS_Slides.pdf\"><img src=\"../PES_surfaceComposition.png\" width=\"400\"></a>"
   ]
  },
  {
   "cell_type": "markdown",
   "metadata": {
    "slideshow": {
     "slide_type": "subslide"
    }
   },
   "source": [
    "## PES applications\n",
    "\n",
    "### chemical shifts\n",
    "\n",
    "<a href=\"http://mmrc.caltech.edu/SS_XPS/XPS_PPT/XPS_Slides.pdf\"><img src=\"../PES_CS1.png\" width=\"400\"></a><a href=\"http://mmrc.caltech.edu/SS_XPS/XPS_PPT/XPS_Slides.pdf\"><img src=\"../PES_CS2.png\" width=\"400\"></a>"
   ]
  },
  {
   "cell_type": "markdown",
   "metadata": {
    "slideshow": {
     "slide_type": "slide"
    }
   },
   "source": []
  },
  {
   "cell_type": "markdown",
   "metadata": {},
   "source": [
    "<img src=\"../2.png\" width=\"500\">"
   ]
  },
  {
   "cell_type": "markdown",
   "metadata": {},
   "source": [
    "<img src=\"../1.png\" width=\"500\">"
   ]
  },
  {
   "cell_type": "markdown",
   "metadata": {},
   "source": []
  },
  {
   "cell_type": "code",
   "execution_count": null,
   "metadata": {
    "collapsed": true,
    "slideshow": {
     "slide_type": "slide"
    }
   },
   "outputs": [],
   "source": [
    "import matplotlib.pyplot as plt\n",
    "plt.plot([1,2,3,4,5,6]*2)\n",
    "plt.ylabel('some numbers')\n",
    "plt.show()"
   ]
  },
  {
   "cell_type": "code",
   "execution_count": null,
   "metadata": {
    "collapsed": true
   },
   "outputs": [],
   "source": []
  },
  {
   "cell_type": "code",
   "execution_count": null,
   "metadata": {
    "collapsed": true
   },
   "outputs": [],
   "source": []
  },
  {
   "cell_type": "code",
   "execution_count": null,
   "metadata": {
    "collapsed": false,
    "slideshow": {
     "slide_type": "slide"
    }
   },
   "outputs": [],
   "source": [
    "pylab inline"
   ]
  },
  {
   "cell_type": "code",
   "execution_count": null,
   "metadata": {
    "collapsed": false,
    "slideshow": {
     "slide_type": "subslide"
    }
   },
   "outputs": [],
   "source": [
    "x = linspace(0, 3*pi, 500)\n",
    "plot(x, sin(x**2))\n",
    "title('A simple chirp');"
   ]
  },
  {
   "cell_type": "code",
   "execution_count": null,
   "metadata": {
    "collapsed": false,
    "slideshow": {
     "slide_type": "subslide"
    }
   },
   "outputs": [],
   "source": [
    "import time, sys\n",
    "for i in range(8):\n",
    "    print(i)\n",
    "    time.sleep(0.5)"
   ]
  },
  {
   "cell_type": "code",
   "execution_count": null,
   "metadata": {
    "collapsed": true,
    "slideshow": {
     "slide_type": "slide"
    }
   },
   "outputs": [],
   "source": []
  }
 ],
 "metadata": {
  "celltoolbar": "Slideshow",
  "kernelspec": {
   "display_name": "Python 3",
   "language": "python",
   "name": "python3"
  },
  "language_info": {
   "codemirror_mode": {
    "name": "ipython",
    "version": 3
   },
   "file_extension": ".py",
   "mimetype": "text/x-python",
   "name": "python",
   "nbconvert_exporter": "python",
   "pygments_lexer": "ipython3",
   "version": "3.5.2"
  }
 },
 "nbformat": 4,
 "nbformat_minor": 0
}
