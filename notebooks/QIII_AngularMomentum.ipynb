{
 "cells": [
  {
   "cell_type": "markdown",
   "metadata": {
    "slideshow": {
     "slide_type": "slide"
    }
   },
   "source": [
    "# QIII\n",
    "\n",
    "**Julien Wist**<br>\n",
    "*Universidad del Valle*<br>\n",
    "*2016*\n"
   ]
  },
  {
   "cell_type": "markdown",
   "metadata": {
    "slideshow": {
     "slide_type": "slide"
    }
   },
   "source": [
    "# Angular Momentum"
   ]
  },
  {
   "cell_type": "markdown",
   "metadata": {
    "slideshow": {
     "slide_type": "slide"
    }
   },
   "source": [
    "The angular momentum is defined classically as:\n",
    "\n",
    "$$\n",
    "\\mathbf{L} = \\mathbf{r} \\times \\mathbf{p}\n",
    "$$\n",
    "\n",
    "Where $\\mathbf{L}$, $\\mathbf{r}$ and $\\mathbf{p}$ are vectors in $\\mathbb{R}^3$ so we can write\n",
    "\n",
    "$$\n",
    "\\mathbf{L} = (L_x, L_y, Lz)\n",
    "$$\n",
    "\n",
    "where $L_x$, $L_y$ and $Lz$ are the projections of the vector on the three cartesian axis.\n",
    "\n",
    "<img src=\"../img/angularMomentum.png\" width=\"200\">\n",
    "\n",
    "<center>from Levine p. 102</center>\n"
   ]
  },
  {
   "cell_type": "markdown",
   "metadata": {
    "slideshow": {
     "slide_type": "subslide"
    }
   },
   "source": [
    "## cross product\n",
    "$$\n",
    "\\mathbf{r} = \\mathbf{i}x + \\mathbf{j}y + \\mathbf{k}z\n",
    "$$\n",
    "$$\n",
    "\\mathbf{v} = \\frac{\\partial r}{\\partial t} = \\mathbf{i}\\frac{\\partial x}{\\partial t} + \\mathbf{j}\\frac{\\partial y}{\\partial t} + \\mathbf{k}\\frac{\\partial z}{\\partial t}\n",
    "$$\n",
    "\n",
    "Since \n",
    "\n",
    "$$\n",
    "\\mathbf{L} = \\mathbf{r} \\times \\mathbf{p}\n",
    "$$\n",
    "\n",
    "we can evaluate the cross product\n",
    "\n",
    "$$\n",
    "\\mathbf{L} = \\left|\\begin{array}{ccc} \\mathbf{i} & \\mathbf{j} & \\mathbf{k}\\\\ x&y&z \\\\ p_x & p_y & p_z \\end{array}\\right| = \\mathbf{i} \\left|\\begin{array}{cc} y & z \\\\ p_y & p_z \\end{array}\\right| -\\mathbf{i} \\left|\\begin{array}{cc} x & z \\\\ p_x & p_z \\end{array}\\right| +\n",
    "\\mathbf{k} \\left|\\begin{array}{cc} x & y \\\\ p_x & p_y \\end{array}\\right|\n",
    "$$\n",
    "\n",
    "$$\n",
    "L_x = yp_z - zp_y, L_y = zp_x - xp_z, L_z = xp_y - yp_x\n",
    "$$\n"
   ]
  },
  {
   "cell_type": "markdown",
   "metadata": {
    "slideshow": {
     "slide_type": "slide"
    }
   },
   "source": [
    "## angular momentum operators\n",
    "\n",
    "In order to find out the corresponding quantum operators we used the relations (given by Schrödinger):\n",
    "\n",
    "$$\n",
    "\\hat{x} = x, \\hat{p}_x = -i \\hbar \\frac{\\partial}{\\partial x}\n",
    "$$\n",
    "\n",
    "by substitution we readily find:\n",
    "\n",
    "$$\n",
    "\\hat{L}_x = -i\\hbar \\left(y \\frac{\\partial}{\\partial z} - z \\frac{\\partial}{\\partial y} \\right)\n",
    "$$\n",
    "$$\n",
    "\\hat{L}_y = -i\\hbar \\left(z \\frac{\\partial}{\\partial x} - x \\frac{\\partial}{\\partial z} \\right)\n",
    "$$\n",
    "$$\n",
    "\\hat{L}_z = -i\\hbar \\left(x \\frac{\\partial}{\\partial y} - y \\frac{\\partial}{\\partial x} \\right)\n",
    "$$\n",
    "\n",
    "by noting that\n",
    "\n",
    "$$\n",
    "y\\hat{p}_z = \\hat{p}_z y\n",
    "$$\n",
    "\n",
    "\n"
   ]
  },
  {
   "cell_type": "markdown",
   "metadata": {
    "slideshow": {
     "slide_type": "subslide"
    }
   },
   "source": [
    "## the magnitude operator\n",
    "From the 3 projections we can build the operator for the magnitud of the momentum\n",
    "\n",
    "$$\n",
    "\\hat{L}^2 = \\hat{L}_x^2+ \\hat{L}_y^2 + \\hat{L}_z^2\n",
    "$$"
   ]
  },
  {
   "cell_type": "markdown",
   "metadata": {
    "slideshow": {
     "slide_type": "slide"
    }
   },
   "source": [
    "## commutation rules\n",
    "\n",
    "Using \n",
    "$$\n",
    "\\hat{L}_x = -i\\hbar \\left(y \\frac{\\partial}{\\partial z} - z \\frac{\\partial}{\\partial y} \\right)\n",
    "$$\n",
    "$$\n",
    "\\hat{L}_y = -i\\hbar \\left(z \\frac{\\partial}{\\partial x} - x \\frac{\\partial}{\\partial z} \\right)\n",
    "$$\n",
    "\n",
    "we can compute \n",
    "\n",
    "$$\n",
    "[\\hat{L}_x,\\hat{L}_y]\n",
    "$$\n",
    "\n",
    "$$\n",
    "\\hat{L}_x\\hat{L}_y f = -\\hbar^2\\left( y \\frac{\\partial f}{\\partial x} +yz \\frac{\\partial^2 f}{\\partial z\\partial x} - yx \\frac{\\partial^2 f}{\\partial^2 z} - z^2 \\frac{\\partial^2 f}{\\partial y\\partial x} + zx \\frac{\\partial^2 f}{\\partial y\\partial z}\\right)\n",
    "$$\n",
    "\n",
    "\n",
    "$$\n",
    "\\hat{L}_y\\hat{L}_x f = -\\hbar^2\\left( zy \\frac{\\partial^2 f}{\\partial x\\partial z} - z^2 \\frac{\\partial^2 f}{\\partial x\\partial y} - xy \\frac{\\partial^2 f}{\\partial^2 z} + x \\frac{\\partial f}{\\partial y} + xz \\frac{\\partial^2 f}{\\partial z\\partial y}\\right)\n",
    "$$\n",
    "\n",
    "$$\n",
    "\\hat{L}_x\\hat{L}_y f - \\hat{L}_y\\hat{L}_x f = -\\hbar^2\\left(y \\frac{\\partial f}{\\partial x} - x \\frac{\\partial f}{\\partial y}  \\right)\n",
    "$$\n",
    "\n",
    "$$\n",
    "[\\hat{L}_x,\\hat{L}_y] = -i\\hbar \\hat{L}_z\n",
    "$$\n",
    "\n",
    "Repeating this with all the operators we find:\n",
    "\n",
    "$$\n",
    "[\\hat{L}_y,\\hat{L}_z] = -i\\hbar \\hat{L}_x\n",
    "$$\n",
    "\n",
    "$$\n",
    "[\\hat{L}_z,\\hat{L}_x] = -i\\hbar \\hat{L}_y\n",
    "$$\n",
    "\n",
    "and\n",
    "\n",
    "$$\n",
    "[\\hat{L}^2,\\hat{L}_x] = [\\hat{L}^2,\\hat{L}_y] = [\\hat{L}^2,\\hat{L}_z] = 0\n",
    "$$\n",
    "\n"
   ]
  },
  {
   "cell_type": "markdown",
   "metadata": {},
   "source": [
    "## commutation rules\n",
    "\n",
    "<img src=\"../img/Vector_model_of_orbital_angular_momentum.svg\" width=\"300\">"
   ]
  },
  {
   "cell_type": "markdown",
   "metadata": {
    "slideshow": {
     "slide_type": "slide"
    }
   },
   "source": [
    "## the eignevalue equation\n",
    "\n",
    "In order to determine the stationary state and the magnitude of the operators we need to solve the eigenvalue equation. \n",
    "\n",
    "In cartesian coordinates we know it will be difficult to separate the variabes so we have to *express the operators of angular momentum in the polar system*\n",
    "\n",
    "$$\n",
    "\\hat{L}_x = i\\hbar\\left( sin\\phi \\frac{\\partial}{\\partial \\theta} + cot\\theta cos\\phi \\frac{\\partial}{\\partial \\phi} \\right)\n",
    "$$\n",
    "$$\n",
    "\\hat{L}_y = -i\\hbar\\left( cos\\phi \\frac{\\partial}{\\partial \\theta} - cot\\theta sin\\phi \\frac{\\partial}{\\partial \\phi} \\right)\n",
    "$$\n",
    "$$\n",
    "\\hat{L}_z = -i\\hbar\\frac{\\partial}{\\partial \\phi}\n",
    "$$\n",
    "$$\n",
    "\\hat{L}^2 = -i\\hbar\\left( \\frac{\\partial^2}{\\partial \\theta} + cot\\theta \\frac{\\partial}{\\partial \\theta} + \\frac{1}{sin^2\\phi}\\frac{\\partial^2}{\\partial \\phi} \\right)\n",
    "$$"
   ]
  },
  {
   "cell_type": "markdown",
   "metadata": {
    "slideshow": {
     "slide_type": "slide"
    }
   },
   "source": [
    "## the eigenvalue equation\n",
    "\n",
    "### the projection on z\n",
    "\n",
    "$$\n",
    "\\hat{L}_z Y(\\theta,\\phi) = b Y(\\theta,\\phi)\n",
    "$$\n",
    "$$\n",
    "\\hat{L}^2 Y(\\theta,\\phi) = c Y(\\theta,\\phi)\n",
    "$$\n",
    "\n",
    "We can factorize the wavefunction into\n",
    "\n",
    "$$\n",
    "Y(\\theta,\\phi) = \\Theta(\\theta) \\Phi(\\phi)\n",
    "$$\n",
    "\n",
    "and because $\\hat{L}_z$ only actuates on $\\phi$ we can write the equation for the projection in $z$ as:\n",
    "\n",
    "$$\n",
    "-i\\hbar\\frac{\\partial}{\\partial \\phi} Y(\\theta,\\phi) = b Y(\\theta,\\phi)\n",
    "$$\n",
    "\n",
    "We recognize this equation and know that a candidate eigenfunction is\n",
    "\n",
    "$$\n",
    "\\Phi(\\phi) = Ae^{ib\\phi/\\hbar}\n",
    "$$\n",
    "\n",
    "Using the border condition\n",
    "\n",
    "$$\n",
    "\\Phi(\\phi + 2\\pi) = \\Phi(\\phi)\n",
    "$$\n",
    "\n",
    "we find that $b=m\\hbar$ and $m=\\ldots -2, -1, 0, 1, \\ldots$\n",
    "\n",
    "So, after normalization\n",
    "\n",
    "$$\n",
    "\\Phi(\\phi) = \\frac{1}{\\sqrt{2\\pi}}e^{im\\phi}\n",
    "$$\n"
   ]
  },
  {
   "cell_type": "markdown",
   "metadata": {
    "slideshow": {
     "slide_type": "subslide"
    }
   },
   "source": [
    "### the module \n",
    "\n",
    "We should now use this last equation into the eigen equation for $\\hat{L}^2$\n",
    "\n",
    "$$\n",
    "-i\\hbar\\left( \\frac{\\partial^2}{\\partial \\theta} + cot\\theta \\frac{\\partial}{\\partial \\theta} + \\frac{1}{sin^2\\phi}\\frac{\\partial^2}{\\partial \\phi} \\right) \\left(\\frac{1}{\\sqrt{2\\pi}}e^{im\\phi}\\right) = c \\left(  \\frac{1}{\\sqrt{2\\pi}}e^{im\\phi} \\right)\n",
    "$$\n",
    "\n",
    "Solving this equation we find:\n",
    "\n",
    "$$\n",
    "c = \\hbar^2(k+|m|)(k+|m|+1), k = 0,1,2,\\ldots\n",
    "$$\n",
    "\n",
    "Since $|m| = 0,1,2,\\ldots$, then $k+|m| = 0,1,2,\\ldots$\n",
    "\n",
    "we can define $l = k+|m|$ with $l = 0,1,2,\\ldots$ so\n",
    " \n",
    "$$\n",
    "c = \\hbar^2 l(l+1), l = 0,1,2,\\ldots\n",
    "$$\n",
    "\n",
    "and the module $|\\mathbf{L}|$ is $\\hbar \\sqrt{l(l+1)}$\n",
    "\n",
    "Since we defined $l = k+|m|$\n",
    "\n",
    "$$\n",
    "m = -l, -l-1,-l-2,\\ldots,-1,0,1,\\ldots,l-2,l-1,l\n",
    "$$\n",
    "\n",
    "\n"
   ]
  },
  {
   "cell_type": "markdown",
   "metadata": {
    "slideshow": {
     "slide_type": "subslide"
    }
   },
   "source": [
    "$$\n",
    "b = m\\hbar, m=0,\\pm 1, \\pm 2, \\ldots\n",
    "$$\n",
    "\n",
    "$$\n",
    "\\sqrt{c} = \\hbar \\sqrt{l(l+1)}, l = 0,1,2,\\ldots\n",
    "$$\n",
    "<img src=\"../img/angularMomentumEignenValues.png\" width=\"300\">\n",
    "\n",
    "\n",
    "$$\n",
    "Y_{0}^0(\\theta,\\phi) = \\frac{1}{\\sqrt{4\\pi}}\n",
    "$$\n",
    "\n",
    "so the eigenfunctions for the angular momentum are the spherial harmonics"
   ]
  },
  {
   "cell_type": "markdown",
   "metadata": {
    "slideshow": {
     "slide_type": "slide"
    }
   },
   "source": [
    "## degenerated states\n",
    "\n",
    "<img src=\"../img/angularMomentumDegeneratedStates.png\" width=\"500\">"
   ]
  },
  {
   "cell_type": "markdown",
   "metadata": {
    "slideshow": {
     "slide_type": "slide"
    }
   },
   "source": [
    "# spin and spin-orbits"
   ]
  },
  {
   "cell_type": "markdown",
   "metadata": {
    "slideshow": {
     "slide_type": "slide"
    }
   },
   "source": [
    "## the spin\n",
    "\n",
    "Remember the Stern ad Gerlach experiment?\n",
    "\n",
    "Another angular momentum exists: **THE SPIN**\n",
    "\n",
    "It has no \"classical\" equivalence, but it is still there and we can observe it. Since it behave like an angular momentum, we can define the following opertors in analogy to what we did for the orbital angular momentum.\n",
    "\n",
    "$$\n",
    "\\hat{S}^2 = \\hat{S}_x^2+ \\hat{S}_y^2 + \\hat{S}_z^2\n",
    "$$\n",
    "\n",
    "$$\n",
    "[\\hat{S}_x,\\hat{S}_y] = i\\hbar \\hat{S}_z\n",
    "$$\n",
    "\n",
    "$$\n",
    "[\\hat{S}_y,\\hat{S}_z] = i\\hbar \\hat{S}_x\n",
    "$$\n",
    "\n",
    "$$\n",
    "[\\hat{S}_z,\\hat{S}_x] = i\\hbar \\hat{S}_y\n",
    "$$\n",
    "\n",
    "and\n",
    "\n",
    "$$\n",
    "[\\hat{S}^2,\\hat{S}_x] = [\\hat{S}^2,\\hat{S}_y] = [\\hat{S}^2,\\hat{S}_z] = 0\n",
    "$$\n",
    "\n"
   ]
  },
  {
   "cell_type": "markdown",
   "metadata": {
    "slideshow": {
     "slide_type": "notes"
    }
   },
   "source": [
    "The commutations rules are very important. How can we remember them easily?\n",
    "\n",
    "As rotations in $\\mathbb{R}^3$!! (Lie Group)"
   ]
  },
  {
   "cell_type": "markdown",
   "metadata": {
    "slideshow": {
     "slide_type": "slide"
    }
   },
   "source": [
    "## eigen equation for the spin 1/2\n",
    "\n",
    "$$\n",
    "\\hat{S}_z \\alpha = \\hbar m_s =\\frac{1}{2}\\hbar \\alpha\n",
    "$$\n",
    "$$\n",
    "\\hat{S}_z \\beta = \\hbar m_s = -\\frac{1}{2}\\hbar \\beta\n",
    "$$\n",
    "\n",
    "where for $S=\\frac{1}{2}$, $m_s=-s,-s-1,\\ldots,0,1,\\ldots, s = -\\frac{1}{2}, \\frac{1}{2}$\n",
    "\n",
    "y \n",
    "\n",
    "$$\n",
    "\\hat{S}^2 \\alpha = \\hbar^2 s(s+1) =\\frac{1}{2}\\left(\\frac{3}{2}\\right)\\hbar^2 \\alpha\n",
    "$$\n",
    "\n",
    "$$\n",
    "\\hat{S}^2 \\beta = \\hbar^2 s(s+1) =\\frac{1}{2}\\left(\\frac{3}{2}\\right)\\hbar^2 \\beta\n",
    "$$\n"
   ]
  },
  {
   "cell_type": "markdown",
   "metadata": {
    "slideshow": {
     "slide_type": "slide"
    }
   },
   "source": [
    "## Pauli matrices\n"
   ]
  },
  {
   "cell_type": "code",
   "execution_count": 103,
   "metadata": {
    "collapsed": false,
    "slideshow": {
     "slide_type": "slide"
    }
   },
   "outputs": [
    {
     "name": "stdout",
     "output_type": "stream",
     "text": [
      "Sx:\n",
      "[[ 0.   0.5]\n",
      " [ 0.5  0. ]]\n",
      "norm of (Sx)^2:\n",
      "0.5\n"
     ]
    }
   ],
   "source": [
    "from numpy import *\n",
    "from matplotlib.pyplot import *\n",
    "\n",
    "# we can define four Pauli matrices for the four Spin Operators\n",
    "Sx = .5* matrix('0 1;1 0')\n",
    "Sy = .5* matrix('0 0.-1.j;0.+1.j 0')\n",
    "Sz = .5* matrix('1 0;0 -1')\n",
    "Ssq = .25* matrix('3 0;0 3')\n",
    "print('Sx:')\n",
    "print(Sx)\n",
    "print('norm of (Sx)^2:')\n",
    "print(trace((Sx**2)))\n"
   ]
  },
  {
   "cell_type": "code",
   "execution_count": 3,
   "metadata": {
    "collapsed": false,
    "slideshow": {
     "slide_type": "slide"
    }
   },
   "outputs": [
    {
     "name": "stdout",
     "output_type": "stream",
     "text": [
      "the commutator [Sx,Sy]=\n",
      "[[ 0.+0.5j  0.+0.j ]\n",
      " [ 0.+0.j   0.-0.5j]]\n",
      "which is equal to i*Sz\n",
      "[[ 0.+0.5j  0.+0.j ]\n",
      " [ 0.+0.j   0.-0.5j]]\n",
      "the commutator [S^2,Sy]=\n",
      "[[ 0.+0.j  0.+0.j]\n",
      " [ 0.+0.j  0.+0.j]]\n"
     ]
    }
   ],
   "source": [
    "# we can play with these matrix to find out the commutation rules\n",
    "print('the commutator [Sx,Sy]=')\n",
    "print(Sx*Sy-Sy*Sx)\n",
    "print('which is equal to i*Sz')\n",
    "print(0.+1.j * Sz)\n",
    "print('the commutator [S^2,Sy]=')\n",
    "print(Ssq*Sy-Sy*Ssq)\n",
    "# as expected!"
   ]
  },
  {
   "cell_type": "code",
   "execution_count": 4,
   "metadata": {
    "collapsed": false
   },
   "outputs": [
    {
     "name": "stdout",
     "output_type": "stream",
     "text": [
      "[[ 0.5]\n",
      " [ 0. ]]\n",
      "[[ 0. ]\n",
      " [-0.5]]\n",
      "[[ 0.75]\n",
      " [ 0.  ]]\n",
      "[[ 0.  ]\n",
      " [ 0.75]]\n"
     ]
    }
   ],
   "source": [
    "alpha = matrix('1;0')\n",
    "beta = matrix('0;1')\n",
    "\n",
    "print(Sz*alpha)\n",
    "print(Sz*beta)\n",
    "print(Ssq*alpha)\n",
    "print(Ssq*beta)"
   ]
  },
  {
   "cell_type": "markdown",
   "metadata": {
    "slideshow": {
     "slide_type": "slide"
    }
   },
   "source": [
    "## spin-orbit coupling\n",
    "\n",
    "there are two angular momenta, thus two diplolar momenta\n",
    "\n",
    "$$\n",
    "J = |L+S|\n",
    "$$\n",
    "\n",
    "<img src=\"../img/LS_coupling.svg\" width=\"300\">\n",
    "\n"
   ]
  },
  {
   "cell_type": "markdown",
   "metadata": {
    "slideshow": {
     "slide_type": "slide"
    }
   },
   "source": [
    "## the $H_{S-O}$ *Hamiltonian*\n",
    "\n",
    "we need to include the S-O interaction term in the *Hamiltonian*\n",
    "\n",
    "$$\n",
    "\\hat{H} = \\hat{H}_{0}+\\hat{H}_{SO}\n",
    "$$\n",
    "\n",
    "$$\n",
    "\\hat{H}_{SO} = \\frac{\\kappa e^2 Z}{2m^2c^2}\\frac{LS}{r^3}\n",
    "$$\n",
    "\n",
    "The important part of that term is the product $LS$ that means that the magnitud of the interaction will depend on the orientation (dot product depends on the cosine)\n",
    "\n",
    "The **consequence** is that $m_l$ and $m_s$ are not any more good quantum number and we have to introduce $j$ and $m_j$ instead.\n",
    "\n",
    "The sum of the two angular momenta is:\n",
    "\n",
    "$$\n",
    "J=L+S, L+S-1, \\ldots, |L-S|\n",
    "$$\n",
    "\n",
    "and\n",
    "\n",
    "$$\n",
    "m_j = -J, -J+1, \\ldots, J\n",
    "$$"
   ]
  },
  {
   "cell_type": "markdown",
   "metadata": {
    "slideshow": {
     "slide_type": "slide"
    }
   },
   "source": [
    "## configuration...\n",
    "\n",
    "### spectroscopic terms, nivels & states\n",
    "\n",
    "Look at the configuration $1s^1$ for the hydrogen atom. There are only two ways to combine the angular momenta $L=0$ and $S=\\frac{1}{2}$:\n",
    "\n",
    "$$\n",
    "J = 0+\\frac{1}{2} = \\frac{1}{2}\n",
    "$$\n",
    "\n",
    "There is thus 1 levels:\n",
    "\n",
    "$$\n",
    "^{2s+1}L_j = ^2S_{\\frac{1}{2}}\n",
    "$$\n",
    "\n",
    "and $(2j+1)=2$ degenerate states with $m_j=-\\frac{1}{2},\\frac{1}{2}$\n",
    "\n",
    "If the configuration is $2p^1$, for an excited state, then we would have $L=1$ and $S=\\frac{1}{2}$. Thus \n",
    "\n",
    "$$\n",
    "J = 1+\\frac{1}{2}, 1+\\frac{1}{2}-1 = \\frac{3}{2},\\frac{1}{2}\n",
    "$$\n",
    "\n",
    "and the 2 levels are  $^2P_{\\frac{3}{2}}$ ($(2j+1)=4$ states), $^2P_{\\frac{1}{2}}$ ($(2j+1)=2$ states) with a total of 6 states.\n"
   ]
  },
  {
   "cell_type": "markdown",
   "metadata": {
    "slideshow": {
     "slide_type": "subslide"
    }
   },
   "source": [
    "another way to see this is to look for all the possible states.\n",
    "\n",
    "For example in the case of the configuration $1s^1$ the angular momentum $L$ has only one possible value $m_l=0$ and the spin has 2 possible values $m_s=-1/2,1/2$. How many different states can we build? 2\n",
    "\n",
    "|      | 0 |\n",
    "|------|---|\n",
    "| 1/2  | {0,1/2} |\n",
    "| -1/2 | {0,-1/2}|\n",
    "\n",
    "While for the $2p^1$\n",
    "\n",
    "we have 6 states\n",
    "\n",
    "|      | 1 | 0 | -1 |\n",
    "|------|---|---|----|\n",
    "| 1/2  |{1,1/2}|{0,1/2}|{-1,1/2}|\n",
    "| -1/2 |{1,-1/2}|{0,-1/2}|{-1,-1/2}|\n",
    "\n",
    "since the maximum value $m_j = m_l+m_s = 3/2$ we know that we have $J=3/2$ with four states ${3/2,1/2,-1/2,-3/2}$. If we remove these 4 values from the table we found two remaining ${1/2,-1/2}$ meaning we have another value $J=1/2$. So we have 2 levels $^2P_{\\frac{1}{2}}$ and $2^P_{\\frac{3}{2}}$\n"
   ]
  },
  {
   "cell_type": "markdown",
   "metadata": {
    "slideshow": {
     "slide_type": "slide"
    }
   },
   "source": [
    "## selection rules\n",
    "\n",
    "<img src=\"../img/SOCoupling.png\" width=\"600\">\n",
    "<img src=\"../img/SODoublets.png\" width=\"600\">\n",
    "\n",
    "#### With the following selection rules\n",
    "\n",
    "$$\n",
    "\\Delta l=\\pm 1\n",
    "$$\n",
    "$$\n",
    "\\Delta j=0, \\pm 1\n",
    "$$\n",
    "$$\n",
    "\\Delta m_j=0, \\pm 1\n",
    "$$\n"
   ]
  },
  {
   "cell_type": "markdown",
   "metadata": {
    "slideshow": {
     "slide_type": "slide"
    }
   },
   "source": [
    "## Zeeman effect\n",
    "<img src=\"../img/zeeman.png\" width=\"500\">"
   ]
  },
  {
   "cell_type": "code",
   "execution_count": null,
   "metadata": {
    "collapsed": true,
    "slideshow": {
     "slide_type": "slide"
    }
   },
   "outputs": [],
   "source": []
  }
 ],
 "metadata": {
  "celltoolbar": "Slideshow",
  "kernelspec": {
   "display_name": "Python 3",
   "language": "python",
   "name": "python3"
  },
  "language_info": {
   "codemirror_mode": {
    "name": "ipython",
    "version": 3
   },
   "file_extension": ".py",
   "mimetype": "text/x-python",
   "name": "python",
   "nbconvert_exporter": "python",
   "pygments_lexer": "ipython3",
   "version": "3.5.2"
  }
 },
 "nbformat": 4,
 "nbformat_minor": 0
}
