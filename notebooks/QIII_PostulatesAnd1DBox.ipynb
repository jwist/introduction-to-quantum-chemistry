{
 "cells": [
  {
   "cell_type": "markdown",
   "metadata": {
    "slideshow": {
     "slide_type": "slide"
    }
   },
   "source": [
    "# QIII\n",
    "\n",
    "**Julien Wist**<br>\n",
    "*Universidad del Valle*<br>\n",
    "*2016*"
   ]
  },
  {
   "cell_type": "code",
   "execution_count": 6,
   "metadata": {
    "collapsed": false
   },
   "outputs": [
    {
     "name": "stdout",
     "output_type": "stream",
     "text": [
      "3\n"
     ]
    }
   ],
   "source": [
    "a=3\n",
    "print(a)\n"
   ]
  },
  {
   "cell_type": "markdown",
   "metadata": {
    "slideshow": {
     "slide_type": "slide"
    }
   },
   "source": [
    "# postulates and 1D box"
   ]
  },
  {
   "cell_type": "markdown",
   "metadata": {
    "slideshow": {
     "slide_type": "slide"
    }
   },
   "source": [
    "## Expected values:\n",
    "\n",
    "The expected value is the value we obtain when repeating several time a measurement. \n",
    "If we measure the length of a table several time, the expected value is simply the average \n",
    "of the measurements. In the case of a random measurement, a dice, then the theory of probability\n",
    "should provide with a model to find out the result\n",
    "\n",
    "For a dice this would be:\n",
    "$$ \n",
    "E_x=1\\frac{1}{6}+2\\frac{1}{6}+3\\frac{1}{6}+...=\\frac{1}{6}+\\frac{2}{6}+\\frac{3}{6}+...\n",
    "$$\n",
    "\n"
   ]
  },
  {
   "cell_type": "code",
   "execution_count": 8,
   "metadata": {
    "collapsed": false,
    "slideshow": {
     "slide_type": "slide"
    }
   },
   "outputs": [
    {
     "name": "stdout",
     "output_type": "stream",
     "text": [
      "the expected value is: 3.5\n"
     ]
    }
   ],
   "source": [
    "## check with python !\n",
    "## import numpy package for numerical calculations\n",
    "from numpy import *\n",
    "## importa matplotlib package for ploting functions\n",
    "from matplotlib.pyplot import *\n",
    "\n",
    "E = (1/6)*(1+2+3+4+5+6)\n",
    "print(\"the expected value is: \"+str(E))"
   ]
  },
  {
   "cell_type": "markdown",
   "metadata": {
    "slideshow": {
     "slide_type": "slide"
    }
   },
   "source": [
    "## Expected values\n",
    "\n",
    "In the case we have continuous measurement we can write:\n",
    "$$\n",
    "E(x) = \\int_{-\\infty}^\\infty xf(x)dx\n",
    "$$\n",
    "\n",
    "For discrete measurement we need to recast it as:\n",
    "$$\n",
    "E(x) = \\sum_{i=1}^\\infty x_ip_i\\\n",
    "$$\n",
    "\n",
    "This equation might be used to find out the mass of an object with inhomogeneous density, or \n",
    "the temperature of an object that is connected to two heat sources that have different temperatures $T_1$ and $T_2$.\n"
   ]
  },
  {
   "cell_type": "markdown",
   "metadata": {
    "slideshow": {
     "slide_type": "slide"
    }
   },
   "source": [
    "## a simple example - a coin\n",
    "\n",
    "<img src=\"../img/congo-soccer-big.jpg\" width=\"200\" >\n",
    "\n",
    "Can we find differente representation for the expected values of head and tail?\n",
    "\n",
    "We can associate a value for both sides of the coin: 1 and -1.\n",
    "Then a solution is trivial: $$ E=-1\\frac{1}{2} + 1\\frac{1}{2} = 0 $$\n"
   ]
  },
  {
   "cell_type": "markdown",
   "metadata": {
    "slideshow": {
     "slide_type": "slide"
    }
   },
   "source": [
    "## initial and final state\n",
    "we can assign the following mathematical object to both initial state \"head\" and \"tail\":\n",
    "\n",
    "$$\n",
    "z_p=\\left( \\begin{array}{c} 1 \\\\ 0 \\end{array} \\right)\n",
    "$$\n",
    "\n",
    "$$\n",
    "z_m = \\left( \\begin{array}{c} 0 \\\\ 1 \\end{array} \\right)\n",
    "$$\n",
    "\n"
   ]
  },
  {
   "cell_type": "markdown",
   "metadata": {
    "slideshow": {
     "slide_type": "slide"
    }
   },
   "source": [
    "## Stern and Gerlach\n",
    "\n",
    "<img src=\"../img/Stern-Gerlach_experiment_svg.svg\" width=\"600\">"
   ]
  },
  {
   "cell_type": "markdown",
   "metadata": {
    "slideshow": {
     "slide_type": "slide"
    }
   },
   "source": [
    "## Stern and Gerlach\n",
    "\n",
    "<img src=\"../img/Sg-seq.1.svg\" width=\"600\">"
   ]
  },
  {
   "cell_type": "markdown",
   "metadata": {
    "slideshow": {
     "slide_type": "subslide"
    }
   },
   "source": [
    "## Stern and Gerlach\n",
    "\n",
    "<img src=\"../img/Sg-seq.2.svg\" width=\"600\">"
   ]
  },
  {
   "cell_type": "markdown",
   "metadata": {
    "slideshow": {
     "slide_type": "subslide"
    }
   },
   "source": [
    "## Stern and Gerlach\n",
    "\n",
    "<img src=\"../img/Sg-seq.3.svg\" width=\"600\">"
   ]
  },
  {
   "cell_type": "markdown",
   "metadata": {
    "slideshow": {
     "slide_type": "subslide"
    }
   },
   "source": [
    "## Stern and Gerlach\n",
    "\n",
    "<img src=\"../img/Sg-seq.4.svg\" width=\"600\">"
   ]
  },
  {
   "cell_type": "markdown",
   "metadata": {
    "slideshow": {
     "slide_type": "subslide"
    }
   },
   "source": [
    "## Stern and Gerlach\n",
    "\n",
    "<img src=\"../img/Sg-seq.5.svg\" width=\"600\">"
   ]
  },
  {
   "cell_type": "markdown",
   "metadata": {
    "slideshow": {
     "slide_type": "subslide"
    }
   },
   "source": [
    "## Stern and Gerlach\n",
    "\n",
    "<img src=\"../img/Sg-seq.6.svg\" width=\"600\">"
   ]
  },
  {
   "cell_type": "markdown",
   "metadata": {
    "slideshow": {
     "slide_type": "subslide"
    }
   },
   "source": [
    "## Stern and Gerlach\n",
    "\n",
    "<img src=\"../img/Sg-seq.7.svg\" width=\"600\">"
   ]
  },
  {
   "cell_type": "markdown",
   "metadata": {
    "slideshow": {
     "slide_type": "slide"
    }
   },
   "source": [
    "# S-G model"
   ]
  },
  {
   "cell_type": "markdown",
   "metadata": {
    "slideshow": {
     "slide_type": "slide"
    }
   },
   "source": [
    "## can we use these objects to predict the outcome of the S-G experiment? \n",
    "\n",
    "We know that the outcome should be $z_p$ if the initial state is $z_p$ and the outcome is $z_m$ if the initial state is $z_m$. \n",
    "\n",
    "We also know from the experiment that if the initial state is not $z_p$ or $z_m$ but a superposition of them, then the outcome might be either $z_p$ or $z_m$ with a certain probability which depends on the superposition.\n",
    "\n",
    "Think again of the \"head and tail\" experiment. If the coin is oriented in the head position before droping it, the we can assume that the probability to find it in the head orientation is 1. The same argument apply for the tail orientation. Now, if you oriente the coin vertically, that is neither in the tail or head orientation, you expect to have 0.5 probability to observe it in the head orientation and 0.5 in the tail position."
   ]
  },
  {
   "cell_type": "markdown",
   "metadata": {
    "slideshow": {
     "slide_type": "slide"
    }
   },
   "source": [
    "## superposition of states\n",
    "\n",
    "Let's construct a superposition of $z_p$ and $z_m$ as:\n",
    "\n",
    "$$\n",
    "x_{p} = \\frac{1}{\\sqrt{2}}(z_p + z_m)= \\frac{1}{\\sqrt{2}}\\left( \\begin{array}{c} 1 \\\\ 1 \\end{array} \\right)\n",
    "$$\n",
    "\n",
    "$$\n",
    "x_{m} = \\frac{1}{\\sqrt{2}}(z_p - z_m)= \\frac{1}{\\sqrt{2}}\\left( \\begin{array}{c} 1 \\\\ -1 \\end{array} \\right)\n",
    "$$\n",
    "\n",
    "You can imagine vectors in the 2D space, where $z_p$ and $z_m$ are the basis vector $i$ and $j$, while $x_p$ is a vector oriented at 45 degree between them. \n",
    "The factor $\\frac{1}{\\sqrt{2}}$ is only there to ensure the length of the vector is the same.\n"
   ]
  },
  {
   "cell_type": "markdown",
   "metadata": {
    "slideshow": {
     "slide_type": "slide"
    }
   },
   "source": [
    "## probability\n",
    "\n",
    "What is the probability $p_{p,p}$ of observing the final state $z_p$ if the initial state is $z_p$?\n",
    "\n",
    "How to obtain a scalar from 2 vectors?\n",
    "\n",
    "$$\n",
    "p_{p,p} = \\left(\\begin{array}{c} 1 \\\\ 0 \\end{array} \\right)\\left(\\begin{array}{c} 1 \\\\ 0 \\end{array} \\right)=1\n",
    "$$\n",
    "\n",
    "$$\n",
    "p_{m,m} = \\left(\\begin{array}{c} 0 \\\\ 1 \\end{array} \\right)\\left(\\begin{array}{c} 0 \\\\ 1 \\end{array} \\right)=1\n",
    "$$\n",
    "\n",
    "This looks good!"
   ]
  },
  {
   "cell_type": "markdown",
   "metadata": {
    "slideshow": {
     "slide_type": "slide"
    }
   },
   "source": [
    "Check what happens if the initial state is $x_p$\n",
    "\n",
    "$$\n",
    "p_{p,x_p} = \\left(\\begin{array}{c} 1 \\\\\\\\ 0 \\end{array} \\right) \\frac{1}{\\sqrt{2}} \\left(\\begin{array}{c} 1 \\\\\\\\ 1 \\end{array} \\right)=\\frac{1}{\\sqrt{2}}\n",
    "$$\n",
    "\n",
    "This looks wrong!"
   ]
  },
  {
   "cell_type": "markdown",
   "metadata": {
    "slideshow": {
     "slide_type": "slide"
    }
   },
   "source": [
    "## Check this:\n",
    "\n",
    "$$\n",
    "p_{p,p} = \\Big |\\left(\\begin{array}{cc} 1 & 0 \\end{array} \\right)\\left(\\begin{array}{cc} 1 \\\\ 0 \\end{array} \\right)\\Big |^2=1\n",
    "$$\n",
    "\n",
    "$$\n",
    "p_{p,p} = \\Big |\\left(\\begin{array}{cc} 0 & 1 \\end{array} \\right)\\left(\\begin{array}{c} 0 \\\\ 1 \\end{array} \\right)\\Big |^2=1\n",
    "$$\n",
    "\n",
    "$$\n",
    "p_{p,p_p} = \\Big |\\left(\\begin{array}{cc} 1 & 0 \\end{array} \\right) \\frac{1}{\\sqrt{2}} \\left(\\begin{array}{c} 1 \\\\ 1 \\end{array} \\right)\\Big |^2=\\frac{1}{2}\n",
    "$$\n"
   ]
  },
  {
   "cell_type": "markdown",
   "metadata": {
    "slideshow": {
     "slide_type": "slide"
    }
   },
   "source": [
    "and\n",
    "\n",
    "$$\n",
    "p_{p,p_m} = \\Big |\\left(\\begin{array}{cc} 1 & 0 \\end{array} \\right) \\frac{1}{\\sqrt{2}} \\left(\\begin{array}{c} 1 \\\\\\\\ -1 \\end{array} \\right)\\Big |^2=\\frac{1}{2}\n",
    "$$\n",
    "\n",
    "We just have to be sure that it works for $p_{x_p,x_p}$\n",
    "\n",
    "$$\n",
    "p_{x_p,x_p} = \\Big |\\frac{1}{\\sqrt{2}}\\left(\\begin{array}{cc} 1 & 1 \\end{array} \\right) \\frac{1}{\\sqrt{2}} \\left(\\begin{array}{c} 1 \\\\\\\\ 1 \\end{array} \\right)\\Big |^2= 1\n",
    "$$"
   ]
  },
  {
   "cell_type": "markdown",
   "metadata": {
    "slideshow": {
     "slide_type": "slide"
    }
   },
   "source": [
    "## measurement\n",
    "\n",
    "How can we describe the measurement in the z-axis or the measurement in the x-axis?\n",
    "\n"
   ]
  },
  {
   "cell_type": "markdown",
   "metadata": {
    "slideshow": {
     "slide_type": "slide"
    }
   },
   "source": [
    "## Postulate\n",
    "\n",
    "We saw using our simple model for \"tail\" and \"head\" and our model for the S-G experiment\n",
    "that we can use mathematical object that behaves similarly as our system of interest. Therefore\n",
    "we can use these objects as a **representation** of the **system**.\n",
    "\n",
    "1. *The system is defined as a portion of the reality (nature)*\n",
    "2. *The model is a representation (mathematical or not) of the nature*\n"
   ]
  },
  {
   "cell_type": "markdown",
   "metadata": {
    "slideshow": {
     "slide_type": "slide"
    }
   },
   "source": [
    "## Postulates\n",
    "\n",
    "In order to model the S-G experiment we agreed that:\n",
    "\n",
    "P1. We can describe the state of the system using a function (or a vector)\n"
   ]
  },
  {
   "cell_type": "markdown",
   "metadata": {
    "slideshow": {
     "slide_type": "slide"
    }
   },
   "source": [
    "P2. We can use an operator (or a matrix) to represent the measurement. The measurement affects (or not)\n",
    "the state of the system. **this is a quantum effect**\n",
    "\n"
   ]
  },
  {
   "cell_type": "markdown",
   "metadata": {
    "slideshow": {
     "slide_type": "slide"
    }
   },
   "source": [
    "P3. Under certain circumstances, the measure does't affect the state of the system. In that case\n",
    "the system is in a so called **stationary state** (eigenstate). Schrödinger postulate that\n",
    "the energy of the system is $H\\Psi = E\\Psi$\n"
   ]
  },
  {
   "cell_type": "markdown",
   "metadata": {
    "slideshow": {
     "slide_type": "slide"
    }
   },
   "source": [
    "P4. In most cases, we can only predict the probability of the outcome (interference pattern)... that is the \n",
    "expected value. Schrödinger proposed to define it as:\n",
    "\n",
    "$$\n",
    "\\langle \\hat{O} \\rangle = \\frac{\\int_{-\\infty}^{\\infty} \\Psi^*(R) \\hat{O} \\Psi(R)}{\\int_{-\\infty}^{\\infty} \\Psi^*(R)\\Psi(R)}\n",
    "$$"
   ]
  },
  {
   "cell_type": "markdown",
   "metadata": {
    "slideshow": {
     "slide_type": "slide"
    }
   },
   "source": [
    "## Some mathematical considerations\n",
    "\n",
    "Because mathematical object represent \"real physical\" object, not all functions are allowed to represent\n",
    "the state of the system. And not all operators are acceptable neither.\n",
    "\n",
    " - continuous functions\n",
    " - finite functions\n",
    " - linear operators\n",
    " \n",
    "$$ \\hat{O}\\alpha f(x) = \\alpha\\hat{O} f(x) $$\n",
    "$$ \\hat{O}(f(x)+g(x)) = \\hat{O}f(x)+\\hat{O}g(x) $$\n",
    " \n"
   ]
  },
  {
   "cell_type": "markdown",
   "metadata": {
    "slideshow": {
     "slide_type": "slide"
    }
   },
   "source": [
    "## Example - Particle in a 1D Box\n",
    " \n",
    "In order to test the idea of Schrödinger we should test the postulate to the simplest system. A single\n",
    "electron in a 1D Box. Then, it will be easy to extend the method to solve a real problem, such as the \n",
    "atom of hydrogen.\n",
    " \n",
    "System: 1 electron\n",
    " - charge: -e\n",
    " - spin: $S=\\frac{1}{2}$\n",
    " - mass: $m_e$\n",
    "\n",
    "Only one degree of freedom, $x$, thus $\\Psi(x)$ defines the state of the system and $\\hat{H}$ is the Hamiltonian\n",
    "that describes the energy of the particle."
   ]
  },
  {
   "cell_type": "markdown",
   "metadata": {
    "slideshow": {
     "slide_type": "subslide"
    }
   },
   "source": [
    "## example - particle in a 1D Box\n",
    "\n",
    "In order to build the Hamiltonian we need an additional rule given by Schrödinger:\n",
    "\n",
    "$$\n",
    "\\hat{p_x}=-i\\hbar\\frac{\\partial}{\\partial x}\n",
    "$$\n",
    "\n",
    "Then we can substitute this operator into the classical relation for the energy. But first\n",
    "we have to find out what contribution to the energy we should introduce.\n",
    "\n",
    "\n"
   ]
  },
  {
   "cell_type": "markdown",
   "metadata": {
    "slideshow": {
     "slide_type": "slide"
    }
   },
   "source": [
    "If no potencial energy is present, then only kinetic energy should be taken into account. \n",
    "Replacing the operator $\\hat{p_x}$ into \n",
    "\n",
    "$$E_{c}=\\frac{mv^2}{2} = \\frac{p^2}{2m}$$\n",
    "\n",
    "gives us our quantum operator for energy:\n",
    "\n",
    "$$\n",
    "\\hat{H} = \\frac{-\\hbar^2}{2m_e}\\frac{\\partial^2}{\\partial x^2}\n",
    "$$\n"
   ]
  },
  {
   "cell_type": "markdown",
   "metadata": {
    "slideshow": {
     "slide_type": "slide"
    }
   },
   "source": [
    "## the Schrödinger equation\n",
    "\n",
    "We can then make use of the third postulate to find out the energy of our system. We have\n",
    "to solve the SE that is to find the eigenfunction of the Hamiltonian. There are several methods to find\n",
    "the eigenfunctions of an operator, but for this particular $\\hat{H}$ it is easy to propose some eigen functions.\n",
    "\n",
    "Right?\n"
   ]
  },
  {
   "cell_type": "markdown",
   "metadata": {
    "slideshow": {
     "slide_type": "subslide"
    }
   },
   "source": [
    "## the Schrödinger equation\n",
    "\n",
    "We can show that the following functions ( a family of functions )  are eigenfunctions of $\\hat{H}$\n",
    "\n",
    "$$\n",
    "\\Psi(x) = A sin(kx) + B cos(kx)\n",
    "$$\n",
    "\n",
    "by applying the operator on it (deriving two times) and we obtain\n",
    "\n",
    "$$\n",
    "\\Psi''(x) = -k^2 \\Psi(x)\n",
    "$$"
   ]
  },
  {
   "cell_type": "markdown",
   "metadata": {
    "slideshow": {
     "slide_type": "subslide"
    }
   },
   "source": [
    "## the Schrödinger equation\n",
    "\n",
    "Although $\\Psi(x)$ is a good candidate, we must ensure a few more things. For instance we\n",
    "have to ensure that the function is continuous over the whole space. This implies that:\n",
    "\n",
    " - $\\Psi(0) = 0$\n",
    " - $\\Psi(a) = 0$\n",
    " \n",
    "and thus \n",
    "\n",
    "- $B=0$\n",
    "- $ka = n\\pi$\n",
    "\n"
   ]
  },
  {
   "cell_type": "markdown",
   "metadata": {
    "slideshow": {
     "slide_type": "slide"
    }
   },
   "source": [
    "So we can write $\\Psi(x) = A sin(n\\pi x / a)$\n",
    "\n",
    "Finally we can require that \n",
    "\n",
    "$$\n",
    "\\int_{0}^a\\Psi^*(x)\\Psi(x)dx = 1\n",
    "$$\n",
    "\n",
    "and thus $A=\\sqrt{2/a}$ and our wave function is\n",
    "\n",
    "$$\n",
    "\\Psi(x) = \\sqrt{\\frac{2}{a}} sin\\left(\\frac{n\\pi x}{a}\\right)\n",
    "$$"
   ]
  },
  {
   "cell_type": "markdown",
   "metadata": {
    "slideshow": {
     "slide_type": "slide"
    }
   },
   "source": [
    "## Energy is quantized!\n",
    "\n",
    "Finding the energy is done by applying the Hamiltonian to the wave function.\n",
    "\n",
    "We find that \n",
    "\n",
    "$$\n",
    "\\frac{-\\hbar^2}{2m}\\frac{\\partial^2}{\\partial x^2}\\sqrt{\\frac{2}{a}} sin(\\frac{n\\pi x}{a})\n",
    "= \\frac{-\\hbar^2}{2m}\\frac{n^2\\pi^2}{a^2}\\sqrt{\\frac{2}{a}} sin(\\frac{n\\pi x}{a})\n",
    "$$\n",
    "\n",
    "\n"
   ]
  },
  {
   "cell_type": "markdown",
   "metadata": {
    "slideshow": {
     "slide_type": "slide"
    }
   },
   "source": [
    "and thus \n",
    "\n",
    "$$\n",
    "E = \\frac{-\\hbar^2}{2m}\\frac{n^2\\pi^2}{a^2} = \\frac{-h^2 n^2}{8 m a^2}\n",
    "$$\n",
    "\n",
    "<center>\n",
    "<img src=\"../img/energyLevels.svg\" width=\"100\">\n",
    "</center>"
   ]
  },
  {
   "cell_type": "markdown",
   "metadata": {
    "slideshow": {
     "slide_type": "slide"
    }
   },
   "source": [
    "## n, the quantum number\n",
    "\n",
    "- Why do we chose the quantum number to be $n=1,2,3, \\ldots$?\n",
    "- n appears first when we applied the boundary condition $\\Psi(a)=\\Psi(0)=0$\n",
    "- Would n exists for a free particle?\n"
   ]
  }
 ],
 "metadata": {
  "celltoolbar": "Slideshow",
  "kernelspec": {
   "display_name": "Python 3",
   "language": "python",
   "name": "python3"
  },
  "language_info": {
   "codemirror_mode": {
    "name": "ipython",
    "version": 3
   },
   "file_extension": ".py",
   "mimetype": "text/x-python",
   "name": "python",
   "nbconvert_exporter": "python",
   "pygments_lexer": "ipython3",
   "version": "3.5.2"
  }
 },
 "nbformat": 4,
 "nbformat_minor": 0
}
