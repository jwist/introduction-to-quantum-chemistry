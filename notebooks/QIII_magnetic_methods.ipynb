{
 "cells": [
  {
   "cell_type": "markdown",
   "metadata": {
    "slideshow": {
     "slide_type": "slide"
    }
   },
   "source": [
    "# QIII\n",
    "\n",
    "**Julien Wist**<br>\n",
    "*Universidad del Valle*<br>\n",
    "*2016*"
   ]
  },
  {
   "cell_type": "markdown",
   "metadata": {},
   "source": [
    "# magnetic methods"
   ]
  },
  {
   "cell_type": "markdown",
   "metadata": {},
   "source": [
    "## Nuclear magnetic resonance"
   ]
  },
  {
   "cell_type": "markdown",
   "metadata": {
    "collapsed": true
   },
   "source": [
    "<center><img src=\"../img/field_strength.png\" width=\"500\"></center>"
   ]
  },
  {
   "cell_type": "markdown",
   "metadata": {
    "collapsed": true
   },
   "source": [
    "<center><img src=\"../img/magnets2.png\" width=\"600\"></center>"
   ]
  },
  {
   "cell_type": "markdown",
   "metadata": {},
   "source": [
    "<center><img src=\"../img/magnets1.png\" width=\"500\"></center>"
   ]
  },
  {
   "cell_type": "markdown",
   "metadata": {},
   "source": [
    "<center><img src=\"../img/magnets4.png\" width=\"500\"></center>"
   ]
  },
  {
   "cell_type": "markdown",
   "metadata": {},
   "source": [
    "<center><img src=\"../img/nmr_spec.png\" width=\"300\"></center>"
   ]
  },
  {
   "cell_type": "markdown",
   "metadata": {},
   "source": [
    "<center><img src=\"../img/nmr_coil2.png\" width=\"200\"></center>"
   ]
  },
  {
   "cell_type": "markdown",
   "metadata": {},
   "source": [
    "<center><img src=\"../img/pp_hnco.png\" width=\"800\"></center>"
   ]
  },
  {
   "cell_type": "markdown",
   "metadata": {},
   "source": [
    "<center><img src=\"../img/pp_hnca.png\" width=\"800\"></center>"
   ]
  },
  {
   "cell_type": "markdown",
   "metadata": {
    "collapsed": true
   },
   "source": [
    "### Conformation of the loop of residues 166–176 in PrPC from different species and corresponding NMR spectra\n",
    "\n",
    "\n",
    "<center><img src=\"../img/prot_hnca.jpg\" width=\"600\"></center>\n",
    "\n",
    "<a href=\"http://www.pnas.org/content/102/3/646/F2.expansion.html\">Alvar D. Gossert et al. PNAS 2005;102:646-650</a>\n",
    "\n",
    "\n",
    "Conformation of the loop of residues 166–176 in PrPC from different species and corresponding NMR spectra. (A) Polypeptide backbone of ePrP (121–231) represented by a spline function through the Cα positions. The radius of the gray cylindrical rod is proportional to the mean global backbone displacement per residue, as evaluated after superposition for best fit of the atoms N, Cα, and C′ of the residues 125–228 in the bundle of 20 energy-minimized conformers used to represent the NMR structure (Fig. 1 A). The region comprising residues 166–175 is highlighted in red. (B) Same as A for mPrP[S170N,N174T], with the residues 166–175 in blue. (C) Same as A for mPrP[N174T]. For residues 166–175, the cylindrical rod is yellow; where no backbone resonances could be observed, the cylindrical rod is drawn as a broken line. (D) Same as C for wild-type mPrP, with residues 166–175 in green. (E) 3D HNCA spectrum of ePrP(121–231). Strips are displayed for the residues 166–176, with sequential and intraresidual Cα–Cα connectivities indicated with red lines. The strip containing Phe-175 has been drawn with lower contour levels to show the weak sequential signal. (F) Same presentation as in E for mPrP(121–231), with the observed sequential and intraresidual Cα–Cα connectivities indicated with green lines.\n"
   ]
  },
  {
   "cell_type": "markdown",
   "metadata": {
    "collapsed": true
   },
   "source": [
    "\n",
    "<center><img src=\"../img/prot_spectra.jpg\" width=\"600\"></center>\n",
    "\n",
    "\n",
    "<a href\"http://www.nature.com/nmeth/journal/v9/n12/fig_tab/nmeth.2248_F1.html\">Membrane-protein structure determination by solid-state NMR spectroscopy of microcrystals\n",
    "Shakeel Ahmad Shahid,\tBenjamin Bardiaux,\tW Trent Franks,\tLudwig Krabben,\tMichael Habeck,\tBarth-Jan van Rossum\t& Dirk Linke\n",
    "Nature Methods 9, 1212–1217 (2012) doi:10.1038/nmeth.2248</a>"
   ]
  },
  {
   "cell_type": "markdown",
   "metadata": {},
   "source": [
    "\n",
    "<center><img src=\"../img/prot1.jpg\" width=\"600\"></center>\n",
    "\n",
    "<a href=\"http://www.nature.com/nmeth/journal/v9/n12/fig_tab/nmeth.2248_F4.html\">(i) Trimeric autotransporters are inserted into the outer membrane (OM) via the β-barrel assembly machinery (BAM) complex, assisted by periplasmic chaperones. (ii) A hairpin intermediate is formed by the flexible ASSA region (in red), and the autotransport proceeds through the pore, driven by the sequential folding of the exported domains (iii). In a final step, the pore is occluded when the final coiled-coil structure settles in (iv).</a>\n"
   ]
  },
  {
   "cell_type": "markdown",
   "metadata": {},
   "source": [
    "## magnetic resonance imaging"
   ]
  },
  {
   "cell_type": "markdown",
   "metadata": {},
   "source": [
    "<center><img src=\"../img/magnetom-scanner.jpg\" width=\"600\"></center>"
   ]
  },
  {
   "cell_type": "markdown",
   "metadata": {},
   "source": [
    "<center><img src=\"../img/magnetom-scanner2.png\" width=\"600\"></center>"
   ]
  },
  {
   "cell_type": "markdown",
   "metadata": {
    "collapsed": true
   },
   "source": [
    "<center><img src=\"../img/slice-selection3.png\" width=\"400\"></center>"
   ]
  },
  {
   "cell_type": "markdown",
   "metadata": {},
   "source": [
    "<center><img src=\"../img/slice-selection2.png\" width=\"400\"></center>"
   ]
  },
  {
   "cell_type": "markdown",
   "metadata": {},
   "source": [
    "<center><img src=\"../img/back-projection4.png\" width=\"600\"></center>"
   ]
  },
  {
   "cell_type": "markdown",
   "metadata": {},
   "source": [
    "<center><img src=\"../img/mri1.png\" width=\"500\"></center>\n",
    "<center><img src=\"../img/mri2.png\" width=\"500\"></center>"
   ]
  },
  {
   "cell_type": "markdown",
   "metadata": {},
   "source": [
    "<center><img src=\"../img/mri3.png\" width=\"600\"></center>"
   ]
  },
  {
   "cell_type": "markdown",
   "metadata": {
    "collapsed": true
   },
   "source": [
    "## electronic paramagnetic resonance\n"
   ]
  },
  {
   "cell_type": "markdown",
   "metadata": {},
   "source": [
    "## dynamic nuclear polarization\n",
    "\n",
    "slides from Bob Griffin"
   ]
  },
  {
   "cell_type": "markdown",
   "metadata": {},
   "source": [
    "<center><img src=\"../img/dnp5.png\" width=\"800\"></center>"
   ]
  },
  {
   "cell_type": "markdown",
   "metadata": {},
   "source": [
    "<center><img src=\"../img/dnp2.gif\" width=\"300\"></center>\n",
    "<center><img src=\"../img/dnp3.png\" width=\"500\"></center>"
   ]
  },
  {
   "cell_type": "markdown",
   "metadata": {},
   "source": [
    "<center><img src=\"../img/dnp7.png\" width=\"800\"></center>"
   ]
  },
  {
   "cell_type": "markdown",
   "metadata": {},
   "source": [
    "<center><img src=\"../img/dnp6.png\" width=\"800\"></center>"
   ]
  },
  {
   "cell_type": "code",
   "execution_count": null,
   "metadata": {
    "collapsed": true
   },
   "outputs": [],
   "source": []
  }
 ],
 "metadata": {
  "celltoolbar": "Edit Metadata",
  "kernelspec": {
   "display_name": "Python 3",
   "language": "python",
   "name": "python3"
  },
  "language_info": {
   "codemirror_mode": {
    "name": "ipython",
    "version": 3
   },
   "file_extension": ".py",
   "mimetype": "text/x-python",
   "name": "python",
   "nbconvert_exporter": "python",
   "pygments_lexer": "ipython3",
   "version": "3.5.2"
  }
 },
 "nbformat": 4,
 "nbformat_minor": 0
}
