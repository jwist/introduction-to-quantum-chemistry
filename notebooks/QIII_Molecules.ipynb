{
 "cells": [
  {
   "cell_type": "markdown",
   "metadata": {
    "slideshow": {
     "slide_type": "slide"
    }
   },
   "source": [
    "# QIII\n",
    "\n",
    "**Julien Wist**<br>\n",
    "*Universidad del Valle*<br>\n",
    "*2016*\n"
   ]
  },
  {
   "cell_type": "markdown",
   "metadata": {
    "slideshow": {
     "slide_type": "slide"
    }
   },
   "source": [
    "# molecules"
   ]
  },
  {
   "cell_type": "markdown",
   "metadata": {
    "slideshow": {
     "slide_type": "slide"
    }
   },
   "source": [
    "Recalling our discussion about the water molecules system, we can write the wave function of any molecule as:\n",
    "\n",
    "\\begin{gather}\n",
    "\\Psi(\\vec{R}_1,\\vec{R}_2,\\ldots,\\vec{R}_M,\\vec{r}_1,\\vec{r}_2,\\ldots,\\vec{r}_N)\n",
    "\\end{gather}\n",
    "\n",
    "and its *Hamiltonian* as:\n",
    "\n",
    "$$\n",
    "\\hat{\\mathcal{H}}=\\hat{\\mathcal{K}}_N+\\hat{\\mathcal{K}}_e+\\hat{\\mathcal{V}}_{Ne}+\\hat{\\mathcal{V}}_{ee}+\\hat{\\mathcal{V}}_{NN}\n",
    "$$\n",
    "\n"
   ]
  },
  {
   "cell_type": "markdown",
   "metadata": {
    "slideshow": {
     "slide_type": "slide"
    }
   },
   "source": [
    "which takes the expanded form:\n",
    "\n",
    "\\begin{gather}\n",
    "\\hat{\\mathcal{H}}=-\\sum_{I=1}^{M}\\frac{1}{2M_I}\\nabla_I^2-\\frac{1}{2}\\sum_{i=1}^{N}\\nabla_i^2 -\\sum_{I=1}^{M}\\sum_{i=1}^{N}\\frac{Z_I}{|\\vec{R}_I-\\vec{r}_i|} \n",
    "+\\sum_{J>I}^{M}\\sum_{I=1}^{M-1}\\frac{Z_IZ_J}{|\\vec{R}_I-\\vec{R}_J|}+\\sum_{j>i}^{N}\\sum_{i=1}^{N-1}\\frac{1}{|\\vec{r}_i-\\vec{r}_j|}.\n",
    "\\end{gather}\n",
    "\n",
    "Now, the Schrödinger equation for this system is:\n",
    "\n",
    "$$\n",
    "\\hat{\\mathcal{H}}\\Psi(\\mathbf{R,r})=\\mathcal{E}_{mol}\\Psi(\\mathbf{R,r})\n",
    "$$\n",
    "\n",
    "\n",
    "where $\\mathcal{E}_{mol}$ is the internal energy of the molecule if we use the *internal Hamiltonian*, i.e., it doesn't account for translational and rotational and vibrational motions of the molecule.\n"
   ]
  },
  {
   "cell_type": "markdown",
   "metadata": {
    "slideshow": {
     "slide_type": "slide"
    }
   },
   "source": [
    "## The Born-Oppenheimer approximation\n",
    "\n",
    "\\begin{equation}\n",
    "\\begin{split}\n",
    "\\hat{\\mathcal{H}}^{BO}&=-\\frac{1}{2}\\sum_{i=1}^{N}\\nabla_i^2 -\\sum_{I=1}^{M}\\sum_{i=1}^{N}\\frac{Z_I}{|\\vec{R}_I-\\vec{r}_i|} \\\\\n",
    "&+\\sum_{J>I}^{M}\\sum_{I=1}^{M-1}\\frac{Z_IZ_J}{|\\vec{R}_I-\\vec{R}_J|}+\\sum_{j>i}^{N}\\sum_{i=1}^{N-1}\\frac{1}{|\\vec{r}_i-\\vec{r}_j|}.\n",
    "\\end{split}\n",
    "\\end{equation}\n",
    "\n"
   ]
  },
  {
   "cell_type": "markdown",
   "metadata": {
    "slideshow": {
     "slide_type": "slide"
    }
   },
   "source": [
    "$\\hat{\\mathcal{H}}^{BO}$ only depends on the internal variable if we omit to consider the **nuclear repulsion term**\n",
    "\n",
    "\\begin{gather}\n",
    "\\hat{\\mathcal{H}}_e=-\\frac{1}{2}\\sum_{i=1}^{N}\\nabla_i^2 -\\sum_{I=1}^{M}\\sum_{i=1}^{N}\\frac{Z_I}{|\\vec{R}_I-\\vec{r}_i|}+\\sum_{j>i}^{N}\\sum_{i=1}^{N-1}\\frac{1}{|\\vec{r}_i-\\vec{r}_j|}.\n",
    "\\end{gather}\n",
    "\n",
    "\n",
    "$$\n",
    "\\hat{\\mathcal{H}_e}\\psi_\\mathbf{R}(\\mathbf{r})=E_e(\\mathbf{R})\\psi_\\mathbf{R}(\\mathbf{r}).\n",
    "$$\n",
    "\n",
    "donde $\\psi_\\mathbf{R}(\\mathbf{r})$ is a wave function that is made to only depend on the electronic variables if the coordinates of the nucleii are kept constant.\n"
   ]
  },
  {
   "cell_type": "markdown",
   "metadata": {
    "slideshow": {
     "slide_type": "slide"
    }
   },
   "source": [
    "### separation of variables\n",
    "\n",
    "$$\n",
    "\\Psi(\\mathbf{R,r})\\approxeq \\Omega(\\mathbf{R})\\psi_\\mathbf{R}(\\mathbf{r})\n",
    "$$\n",
    "\n",
    "\n",
    "$$\n",
    "\\begin{split}\n",
    "\\hat{\\mathcal{H}}\\Omega(\\mathbf{R})\\psi_\\mathbf{R}(\\mathbf{r})&=E_{mol}\\Omega(\\mathbf{R})\\psi_\\mathbf{R}(\\mathbf{r})\\\\\n",
    "\\Bigl\\{\\hat{\\mathcal{K}}_N+\\hat{\\mathcal{K}}_e+\\hat{\\mathcal{V}}_{Ne}+\\hat{\\mathcal{V}}_{ee}+\\hat{\\mathcal{V}}_{NN})\\Bigr\\}\\Omega(\\mathbf{R})\\psi_\\mathbf{R}(\\mathbf{r})&=E_{mol}\\Omega(\\mathbf{R})\\psi_\\mathbf{R}(\\mathbf{r})\n",
    "\\end{split}\n",
    "$$\n",
    "\n",
    "\n",
    "\n",
    "$$\n",
    "\\begin{split}\n",
    "&\\Bigl\\{\\psi_\\mathbf{R}(\\mathbf{r})\\hat{\\mathcal{K}}_N\\Omega(\\mathbf{R})+\\Omega(\\mathbf{R})\\hat{\\mathcal{K}}_e\\psi_\\mathbf{R}(\\mathbf{r})+\\hat{\\mathcal{V}}_{Ne}\\Omega(\\mathbf{R})\\psi_\\mathbf{R}(\\mathbf{r})+\\\\\n",
    "&+\\hat{\\mathcal{V}}_{ee}\\Omega(\\mathbf{R})\\psi_\\mathbf{R}(\\mathbf{r})+\\hat{\\mathcal{V}}_{NN}\\Omega(\\mathbf{R})\\psi_\\mathbf{R}(\\mathbf{r})\\Bigr\\}=E_{mol}\\Omega(\\mathbf{R})\\psi_\\mathbf{R}(\\mathbf{r})\n",
    "\\end{split}\n",
    "$$\n",
    "\n",
    "\n"
   ]
  },
  {
   "cell_type": "markdown",
   "metadata": {
    "slideshow": {
     "slide_type": "slide"
    }
   },
   "source": [
    "$$\n",
    "\\begin{split}\n",
    "\\Bigl\\{\\frac{1}{\\Omega(\\mathbf{R})}\\hat{\\mathcal{K}}_N\\Omega(\\mathbf{R})&+\\frac{1}{\\psi_\\mathbf{R}(\\mathbf{r})}\\hat{\\mathcal{K}}_e\\psi_\\mathbf{R}(\\mathbf{r})+\\frac{1}{\\psi_\\mathbf{R}(\\mathbf{r})}\\hat{\\mathcal{V}}_{Ne}\\psi_\\mathbf{R}(\\mathbf{r})+\\\\\n",
    "&+\\frac{1}{\\psi_\\mathbf{R}(\\mathbf{r})}\\hat{\\mathcal{V}}_{ee}\\psi_\\mathbf{R}(\\mathbf{r})+\\frac{1}{\\Omega(\\mathbf{R})}\\hat{\\mathcal{V}}_{NN}\\Omega(\\mathbf{R})\\Bigr\\}=E_{mol}\n",
    "\\end{split}\n",
    "$$"
   ]
  },
  {
   "cell_type": "markdown",
   "metadata": {
    "slideshow": {
     "slide_type": "slide"
    }
   },
   "source": [
    "$$\n",
    "\\begin{split}\n",
    "\\frac{1}{\\Omega(\\mathbf{R})}\\hat{\\mathcal{K}}_N\\Omega(\\mathbf{R})+\\frac{1}{\\psi_\\mathbf{R}(\\mathbf{r})}\\Bigl[\\hat{\\mathcal{K}}_e&+\\hat{\\mathcal{V}}_{Ne}+\\hat{\\mathcal{V}}_{ee}\\Bigr]\\psi_\\mathbf{R}(\\mathbf{r})+\\\\\n",
    "&+\\frac{1}{\\Omega(\\mathbf{R})}\\hat{\\mathcal{V}}_{NN}\\Omega(\\mathbf{R})=E_{mol}\n",
    "\\end{split}\n",
    "$$\n",
    "\n",
    "\n",
    "$$\n",
    "\\hat{\\mathcal{H}}_e=\\Bigl[\\hat{\\mathcal{K}}_e+\\hat{\\mathcal{V}}_{Ne}+\\hat{\\mathcal{V}}_{ee}\\Bigr]=\\hat{\\mathcal{H}}^{BO}-\\hat{\\mathcal{V}}_{NN}\n",
    "$$\n",
    "\n",
    "\n",
    "\n"
   ]
  },
  {
   "cell_type": "markdown",
   "metadata": {
    "slideshow": {
     "slide_type": "slide"
    }
   },
   "source": [
    "$$\n",
    "\\frac{1}{\\Omega(\\mathbf{R})}\\hat{\\mathcal{K}}_N\\Omega(\\mathbf{R})+\\frac{1}{\\psi_\\mathbf{R}(\\mathbf{r})}\\hat{\\mathcal{H}}_e\\psi_\\mathbf{R}(\\mathbf{r})+\\frac{1}{\\Omega(\\mathbf{R})}\\hat{\\mathcal{V}}_{NN}\\Omega(\\mathbf{R})=E_{mol}\n",
    "$$\n",
    "\n",
    "\n",
    "$$\n",
    "\\frac{1}{\\Omega(\\mathbf{R})}\\hat{\\mathcal{K}}_N\\Omega(\\mathbf{R})+E_e(\\mathbf{R})+\\frac{1}{\\Omega(\\mathbf{R})}\\hat{\\mathcal{V}}_{NN}\\Omega(\\mathbf{R})=E_{mol}\n",
    "$$\n"
   ]
  },
  {
   "cell_type": "markdown",
   "metadata": {
    "slideshow": {
     "slide_type": "slide"
    }
   },
   "source": [
    "### Born-Oppenheimer energy\n",
    "\n",
    "if we multiply both sides by $\\Omega(\\mathbf{R})$\n",
    "\n",
    "$$\n",
    "\\hat{\\mathcal{K}}_N\\Omega(\\mathbf{R})+E_e(\\mathbf{R})\\Omega(\\mathbf{R})+\\hat{\\mathcal{V}}_{NN}\\Omega(\\mathbf{R})=E_{mol}\\Omega(\\mathbf{R})\\\\\n",
    "\\Bigl\\{\\hat{\\mathcal{K}}_N+E_e(\\mathbf{R})+\\hat{\\mathcal{V}}_{NN}\\Bigr\\}\\Omega(\\mathbf{R})=E_{mol}\\Omega(\\mathbf{R})\n",
    "$$\n",
    "\n"
   ]
  },
  {
   "cell_type": "markdown",
   "metadata": {
    "slideshow": {
     "slide_type": "slide"
    }
   },
   "source": [
    "Potential energy or energy of Born-Oppenheimer\n",
    "\n",
    "$$\n",
    "U(\\mathbf{R})=E_e(\\mathbf{R})+\\sum_{J>I}^{M}\\sum_{I=1}^{M-1}\\frac{Z_IZ_J}{|\\vec{R}_I-\\vec{R}_J|} \n",
    "$$"
   ]
  },
  {
   "cell_type": "markdown",
   "metadata": {
    "slideshow": {
     "slide_type": "slide"
    }
   },
   "source": [
    "$$\n",
    "\\hat{\\mathcal{H}}\\Psi(\\mathbf{R,r})=\\mathcal{E}_{mol}\\Psi(\\mathbf{R,r})\n",
    "$$\n",
    "\n",
    "Electronic part:\n",
    "\n",
    "$$\n",
    "\\hat{\\mathcal{H}_e}\\psi_\\mathbf{R}(\\mathbf{r})=E_e(\\mathbf{R})\\psi_\\mathbf{R}(\\mathbf{r})\\\n",
    "$$\n",
    "\n",
    "Nuclear part:\n",
    "\n",
    "$$\n",
    "\\Bigl\\{\\hat{\\mathcal{K}}_N+E_e(\\mathbf{R})+\\hat{\\mathcal{V}}_{NN}\\Bigr\\}\\Omega(\\mathbf{R})=E_{mol}\\Omega(\\mathbf{R})\n",
    "$$\n"
   ]
  },
  {
   "cell_type": "markdown",
   "metadata": {
    "slideshow": {
     "slide_type": "slide"
    }
   },
   "source": [
    "### the electronic equation\n",
    "\n",
    "$$\n",
    "\\hat{\\mathcal{H}_e}\\psi_\\mathbf{R}(\\mathbf{r})=E_e(\\mathbf{R})\\psi_\\mathbf{R}(\\mathbf{r})\\notag \\\\\n",
    "\\Bigl\\{-\\frac{1}{2}\\sum_{i=1}^{N}\\nabla_i^2 -\\sum_{I=1}^{M}\\sum_{i=1}^{N}\\frac{Z_I}{|\\vec{R}_I-\\vec{r}_i|}+\\sum_{i>j}^{N}\\sum_{i=1}^{N-1}\\frac{1}{|\\vec{r}_i-\\vec{r}_j|}\\Bigr\\}\\psi_\\mathbf{R}(\\mathbf{r})=\\\\\n",
    "E_e(\\mathbf{R})\\psi_\\mathbf{R}(\\mathbf{r})\n",
    "$$\n"
   ]
  },
  {
   "cell_type": "markdown",
   "metadata": {
    "slideshow": {
     "slide_type": "slide"
    }
   },
   "source": [
    "After replacing the repulsion term by the fock operator (that only depends on the coordinates of one electron)\n",
    "\n",
    "$$\n",
    "\\sum_{i>j}^{N}\\sum_{i=1}^{N-1}\\frac{1}{|\\vec{r}_i-\\vec{r}_j|}\\mapsto\\sum_{i}^{N}V^{ef}(\\vec{r}_i)\n",
    "$$\n",
    "\n",
    "We can write the wave function as a product of **mono-electronic orbitals**\n",
    "\n",
    "$$\n",
    "\\psi_\\mathbf{R}^{aprox}(\\mathbf{r})=\\varphi(\\vec{r}_1)\\varphi(\\vec{r}_2)\\dots \\varphi(\\vec{r}_N)=\\prod_{i=1}^N \\varphi(\\vec{r}_i)\n",
    "$$\n",
    "\n"
   ]
  },
  {
   "cell_type": "markdown",
   "metadata": {
    "slideshow": {
     "slide_type": "slide"
    }
   },
   "source": [
    "The schrödinger equation for the electronic part in the approximation of Born-Oppenheimer and the approximation of Hartree-Fock is:\n",
    "\n",
    "$$\n",
    "\\Bigl\\{\\sum_{i=1}^{N}h^{HF}(\\vec{r}_i)\\Bigr\\}\\prod_{i=1}^N \\varphi(\\vec{r}_i)=E_e^{HF}\\prod_{i=1}^N \\varphi(\\vec{r}_i)\n",
    "$$\n",
    "\n",
    "$$\n",
    "h^{HF}(\\vec{r}_i)=-\\frac{1}{2}\\nabla_i^2 -\\sum_{I=1}\\frac{Z_I}{|\\vec{R}_I-\\vec{r}_i|}+V^{ef}(\\vec{r}_i)\n",
    "$$\n",
    "\n",
    "$$\n",
    "\\Bigl\\{h^{HF}(\\vec{r}_i)\\varphi(\\vec{r}_i)=\\epsilon_i\\varphi(\\vec{r}_i)\\Bigr\\}_{i=1}^N\n",
    "$$"
   ]
  },
  {
   "cell_type": "markdown",
   "metadata": {
    "slideshow": {
     "slide_type": "slide"
    }
   },
   "source": [
    "#### the fock operator\n",
    "\n",
    "$$\\hat{F}[\\{\\phi_j\\}](1) = H^{core}(1)+\\sum_{j=1}^{N/2}[2\\hat{J_j}(1)-\\hat{K_j}(1)]$$\n",
    "\n",
    "$$H^{core} = -\\frac{1}{2}\\nabla_i^2 - \\sum_{\\alpha} \\frac{Z_{\\alpha}}{r_{1,\\alpha}}$$\n",
    "\n",
    "$$\\hat{F}(1)\\phi_1 = \\epsilon_1 \\phi_1$$"
   ]
  },
  {
   "cell_type": "markdown",
   "metadata": {
    "slideshow": {
     "slide_type": "slide"
    }
   },
   "source": [
    "mono-electronic wave function and spin wave function\n",
    "\n",
    "$$\\chi_k(i)=\\varphi_k(\\vec{r}_i)\\alpha(\\omega_i)$$\n",
    "$$\\chi_{k+1}(i)=\\varphi_k(\\vec{r}_i)\\beta(\\omega_i)$$\n",
    "\n",
    "and the anti-symmetric spin-orbits\n",
    "\n",
    "$$|\\chi_1(1)\\chi_2(2)\\dots\\chi_N(N)>$$ "
   ]
  },
  {
   "cell_type": "markdown",
   "metadata": {
    "slideshow": {
     "slide_type": "slide"
    }
   },
   "source": [
    "## $H_2^+$\n",
    "\n",
    "$$\n",
    "\\hat{\\mathcal{H}}=-\\frac{1}{2M_A}\\nabla_A^2-\\frac{1}{2M_B}\\nabla_B^2-\\frac{1}{2}\\nabla_e^2-\\frac{Z_A}{|\\vec{R}_A-\\vec{r}_e|}-\\frac{Z_B}{|\\vec{R}_B-\\vec{r}_e|}+\\frac{Z_AZ_B}{|\\vec{R}_A-\\vec{R}_B|}.\n",
    "$$\n",
    "\n",
    "$$\n",
    "\\Bigl\\{-\\frac{1}{2}\\nabla_e^2-\\frac{Z_A}{|\\vec{R}_A-\\vec{r}_e|}-\\frac{Z_B}{|\\vec{R}_B-\\vec{r}_e|}\\Bigr\\}\\psi_\\mathbf{R}(\\vec{r}_e)=E_e(\\mathbf{R})\\psi_\\mathbf{R}(\\vec{r}_e),\\\\\n",
    "\\Bigl\\{-\\frac{1}{2M_A}\\nabla_A^2-\\frac{1}{2M_B}\\nabla_B^2+E_e(\\mathbf{R})+\\frac{Z_AZ_B}{|\\vec{R}_A-\\vec{R}_B|}\\Bigr\\}\\Omega(\\vec{R}_A,\\vec{R}_B)\\notag \\\\\n",
    "\t\t=E_{mol}\\Omega(\\vec{R}_A,\\vec{R}_B)\n",
    "$$\n",
    "\n"
   ]
  },
  {
   "cell_type": "markdown",
   "metadata": {
    "slideshow": {
     "slide_type": "slide"
    }
   },
   "source": [
    "## OM-CLOA for $H_2^{+}$\n",
    "\n",
    "$$\n",
    "\\psi_\\mathbf{R}^{aprox}(\\vec{r})=C_A1s_A(\\vec{r})+C_B1s_B(\\vec{r})\n",
    "$$\n",
    "\n",
    "$$\n",
    "\\bigl< E_e \\bigr> =\\frac{\\bigl<\\psi_\\mathbf{R}^{aprox}(\\vec{r})|\\hat{\\mathcal{H}_e}|\\psi_\\mathbf{R}^{aprox}(\\vec{r})\\bigr>}{\\bigl<\\psi_\\mathbf{R}^{aprox}(\\vec{r})|\\psi_\\mathbf{R}^{aprox}(\\vec{r})\\bigr>}\n",
    "$$\n",
    "\n",
    "\n"
   ]
  },
  {
   "cell_type": "markdown",
   "metadata": {
    "slideshow": {
     "slide_type": "slide"
    }
   },
   "source": [
    "$$\n",
    "C_A^2\\bigl<1s_A(\\vec{r})|\\hat{\\mathcal{H}_e}|1s_A(\\vec{r})\\bigr>+C_AC_B\\bigl<1s_A(\\vec{r})|\\hat{\\mathcal{H}_e}|1s_B(\\vec{r})\\bigr>+\\notag \\\\\n",
    "+C_BC_A\\bigl<1s_B(\\vec{r})|\\hat{\\mathcal{H}_e}|1s_A(\\vec{r})\\bigr>+C_B^2\\bigl<1s_B(\\vec{r})|\\hat{\\mathcal{H}_e}|1s_B(\\vec{r})\\bigr>\n",
    "$$\n",
    "\n",
    "$$\n",
    "C_A^2\\bigl<1s_A(\\vec{r})|1s_A(\\vec{r})\\bigr>+C_AC_B\\bigl<1s_A(\\vec{r})|1s_B(\\vec{r})\\bigr>+\\notag \\\\\n",
    "C_BC_A\\bigl<1s_B(\\vec{r})|1s_A(\\vec{r})\\bigr>+C_B^2\\bigl<1s_B(\\vec{r})|1s_B(\\vec{r})\\bigr>\n",
    "$$\n"
   ]
  },
  {
   "cell_type": "markdown",
   "metadata": {
    "slideshow": {
     "slide_type": "slide"
    }
   },
   "source": [
    "$$\n",
    "\\bigl<1s_A(\\vec{r})|\\hat{\\mathcal{H}_e}|1s_A(\\vec{r})\\bigr> \\equiv \\bigl<1s_B(\\vec{r})|\\hat{\\mathcal{H}_e}|1s_B(\\vec{r})\\bigr>=H_{AA}\n",
    "$$\n",
    "\n",
    "the same argument applies for second and third integrals\n",
    "\n",
    "$$\n",
    "\\bigl<1s_A(\\vec{r})|\\hat{\\mathcal{H}_e}|1s_B(\\vec{r})\\bigr> \\equiv \\bigl<1s_B(\\vec{r})|\\hat{\\mathcal{H}_e}|1s_A(\\vec{r})\\bigr>=H_{AB}\n",
    "$$\n",
    "\n",
    "$$\n",
    "\\bigl<1s_A(\\vec{r})|1s_B(\\vec{r})\\bigr> \\equiv \\bigl<1s_B(\\vec{r})|1s_A(\\vec{r})\\bigr>=S_{AB}\n",
    "$$\n"
   ]
  },
  {
   "cell_type": "markdown",
   "metadata": {
    "slideshow": {
     "slide_type": "slide"
    }
   },
   "source": [
    "\n",
    "\n",
    "$$\n",
    "\\bigl< E_e \\bigr> =\\frac {C_A^2H_{AA}+C_B^2H_{AA}+2C_AC_BH_{AB}}{C_A^2+C_B^2+2C_AC_BS_{AB}}\n",
    "$$\n",
    "\n",
    "$$\n",
    "\\frac{\\partial < E > }{\\partial C_A}=0 \\qquad \\text{and} \\qquad \\frac{\\partial< E >}{\\partial C_B}=0\n",
    "$$"
   ]
  },
  {
   "cell_type": "markdown",
   "metadata": {
    "slideshow": {
     "slide_type": "slide"
    }
   },
   "source": [
    "$$\n",
    "\\left(2C_A+2C_BS_{AB}\\right)\\bigl< E_e \\bigr> =2C_AH_{AA}+2C_BH_{AB} \n",
    "$$\n",
    "$$\n",
    "\\left(2C_B+2C_AS_{AB}\\right)\\bigl< E_e \\bigr> =2C_BH_{AA}+2C_AH_{AB}\n",
    "$$\n",
    "\n",
    "$$\n",
    "\\left(\\bigl< E_e \\bigr> -H_{AA}\\right)C_A+(S_{AB}\\bigl< E \\bigr> -H_{AB})C_B=0 \\notag \\\\\n",
    "\\left(S_{AB} \\bigl< E_e \\bigr> -H_{AB}\\right)C_A+\\left(\\bigl< E_e \\bigr> -H_{AA}\\right)C_B=0\n",
    "$$\n"
   ]
  },
  {
   "cell_type": "markdown",
   "metadata": {
    "slideshow": {
     "slide_type": "slide"
    }
   },
   "source": [
    "$$\n",
    "\\begin{vmatrix}\n",
    "\\bigl< E_e \\bigr> -H_{AA}     & S_{AB}\\bigl< E_e \\bigr> -H_{AB}\\\\\n",
    "S_{AB}\\bigl< E_e \\bigr> -H_{AB} & \\bigl< E_e \\bigr> -H_{AA}\n",
    "\\end{vmatrix}=0\n",
    "$$\n",
    "\n",
    "\n",
    "\n",
    "$$\n",
    "\\bigl(\\bigl< E_e \\bigr> -H_{AA}\\bigr)^2-\\bigl(S_{AB}\\bigl< E_e \\bigr> -H_{AB}\\bigr)^2=0\\notag \n",
    "$$\n",
    "\n"
   ]
  },
  {
   "cell_type": "markdown",
   "metadata": {
    "slideshow": {
     "slide_type": "slide"
    }
   },
   "source": [
    "## The energy of the basal and first excited state of $H_2^+$\n",
    "\n",
    "$$\n",
    "\\bigl< E_e \\bigr> -H_{AA}=\\pm(S_{AB}\\bigl< E_e \\bigr> -H_{AB})\n",
    "\\bigl< E_e \\bigr> =\n",
    "\\begin{cases}\n",
    "E_{exc}=\\dfrac{H_{AA}-H_{AB}}{1-S_{AB}}\\\\\n",
    "\\\\\n",
    "E_{basal}=\\dfrac{H_{AA}+H_{AB}}{1+S_{AB}}\\\\\n",
    "\\end{cases}\n",
    "$$\n",
    "\n",
    "The first one corresponds to the excited state, while the second one corresponds to the basal state, whenever $S_{AB}$ is positive, and $H_{AA}$ and $H_{AB}$ are negative"
   ]
  },
  {
   "cell_type": "markdown",
   "metadata": {
    "slideshow": {
     "slide_type": "slide"
    }
   },
   "source": [
    "\n",
    "## Molecular orbitals \n",
    "\n",
    "After replacing the expression of energy into one of the two equations of the system, we find that\n",
    "\n",
    "$$\n",
    "\\psi_{R}^{basal}(\\vec{r})=C_A\\bigl(1s_A(\\vec r)+1s_B(\\vec r)\\bigr)\\\\\n",
    "\\psi_{R}^{exitado}(\\vec{r})=C_A\\bigl(1s_A(\\vec r)-1s_B(\\vec r)\\bigr)  \n",
    "$$\n",
    "\n"
   ]
  },
  {
   "cell_type": "markdown",
   "metadata": {
    "slideshow": {
     "slide_type": "slide"
    }
   },
   "source": [
    "We can then normalize those freshly found **molecular orbitals** by requesting the denominator in the variational equation to be equal to 1.\n",
    "\n",
    "$$\n",
    "C_A^2+C_B^2+2C_AC_BS_{AB}=2C_A^2+2C_A^2S_{AB}=2C_A^2(1+S_{AB})=1\n",
    "$$\n",
    "\n",
    "This gives:\n",
    "\n",
    "$$\n",
    "C_A=\\sqrt{\\frac{1}{2(1+S_{AB})}}\n",
    "$$\n",
    "\n"
   ]
  },
  {
   "cell_type": "markdown",
   "metadata": {
    "slideshow": {
     "slide_type": "slide"
    }
   },
   "source": [
    "Assuming $k=1$ (variational parameter) in the mono-electronic $1s=S_{AB}$, $H_{AA}$ y $H_{AB}$\n",
    "\n",
    "$$\n",
    "\\begin{split}\n",
    "S_{AB}&=e^{-R}\\bigl(1+R+\\frac{1}{3}R^2\\bigr)\\\\\n",
    "H_{AB}&=-\\frac{1}{2}S_{AB}-(1+R)e^{-R}\\\\\n",
    "H_{AA}&=-\\frac{1}{2}-\\frac{1}{R}+e^{-2R}\\Bigl(1+\\frac{1}{R}\\Bigr)\n",
    "\\end{split}\n",
    "$$\n"
   ]
  },
  {
   "cell_type": "code",
   "execution_count": 148,
   "metadata": {
    "collapsed": false,
    "slideshow": {
     "slide_type": "slide"
    }
   },
   "outputs": [],
   "source": [
    "import numpy as np\n",
    "import matplotlib.pyplot as mpl\n",
    "\n",
    "%matplotlib inline\n",
    "mpl.matplotlib.rcParams['figure.figsize'] = (10, 6)"
   ]
  },
  {
   "cell_type": "code",
   "execution_count": 149,
   "metadata": {
    "collapsed": false,
    "slideshow": {
     "slide_type": "slide"
    }
   },
   "outputs": [],
   "source": [
    "\n",
    "mpl.rc('xtick', labelsize=7)\n",
    "mpl.rc('ytick', labelsize=7)\n",
    "\n",
    "mpl.rc('lines', linewidth=4)\n",
    "                   \n",
    "N = 100\n",
    "R = np.linspace(0, 10, N, endpoint=False) + 0.1 # to avoid division by 0\n",
    "\n",
    "\n"
   ]
  },
  {
   "cell_type": "code",
   "execution_count": 150,
   "metadata": {
    "collapsed": true,
    "slideshow": {
     "slide_type": "slide"
    }
   },
   "outputs": [],
   "source": [
    "S_AB = np.exp(-R)*( 1 + R + 1/3*pow(R,2) )\n",
    "H_AB = -0.5*S_AB - (1 + R)*np.exp(-R)\n",
    "H_AA = -0.5 - 1/R + np.exp(-2*R)*( 1 + 1/R )\n",
    "\n",
    "E0 = (H_AA + H_AB) / (1 + S_AB)\n",
    "E1 = (H_AA - H_AB) / (1 - S_AB)\n",
    "\n"
   ]
  },
  {
   "cell_type": "code",
   "execution_count": 151,
   "metadata": {
    "collapsed": false,
    "slideshow": {
     "slide_type": "slide"
    }
   },
   "outputs": [
    {
     "data": {
      "image/png": "[encoded data removed]",
      "text/plain": [
       "<matplotlib.figure.Figure at 0x11ec8d208>"
      ]
     },
     "metadata": {},
     "output_type": "display_data"
    }
   ],
   "source": [
    "ax = mpl.gca()\n",
    "ax.grid(True)\n",
    "ax.set_title('$S_{AB}$, $H_{AB}$, $H_{AA}$')\n",
    "ax.plot(R,S_AB)\n",
    "ax.plot(R,H_AB)\n",
    "ax.plot(R,H_AA)\n",
    "\n",
    "mpl.show()\n",
    "\n"
   ]
  },
  {
   "cell_type": "code",
   "execution_count": 152,
   "metadata": {
    "collapsed": false,
    "slideshow": {
     "slide_type": "slide"
    }
   },
   "outputs": [
    {
     "data": {
      "image/png": "[encoded data removed]",
      "text/plain": [
       "<matplotlib.figure.Figure at 0x10a8d1dd8>"
      ]
     },
     "metadata": {},
     "output_type": "display_data"
    }
   ],
   "source": [
    "ax = mpl.gca()\n",
    "\n",
    "ax.grid(True)\n",
    "ax.set_title('$E_{R,basal}$, $E_{R,exc}$')\n",
    "ax.plot(R,E0)\n",
    "ax.plot(R,E1)\n",
    "\n",
    "mpl.show()\n",
    "\n",
    "\n"
   ]
  },
  {
   "cell_type": "code",
   "execution_count": 153,
   "metadata": {
    "collapsed": false,
    "slideshow": {
     "slide_type": "slide"
    }
   },
   "outputs": [
    {
     "data": {
      "image/png": "[encoded data removed]",
      "text/plain": [
       "<matplotlib.figure.Figure at 0x109f60a20>"
      ]
     },
     "metadata": {},
     "output_type": "display_data"
    }
   ],
   "source": [
    "\n",
    "#mpl.rcParams.update({'font.size': 15})\n",
    "\n",
    "f = mpl.gcf()\n",
    "ax = mpl.gca()\n",
    "\n",
    "ax.grid(True)\n",
    "ax.set_xlim([0,7])\n",
    "ax.set_ylim([-.6,0])\n",
    "\n",
    "ax.annotate('$\\sigma_g1s$', xy=(2.3, -.56), xycoords='data',\n",
    "                xytext=(.45, 0.35), textcoords='axes fraction', fontsize=25,\n",
    "                arrowprops=dict(facecolor='black', shrink=0.1),\n",
    "                horizontalalignment='right', verticalalignment='top',\n",
    "                )\n",
    "ax.annotate('$\\sigma_u^*1s$', xy=(4, -.46), xycoords='data',\n",
    "                xytext=(.8, 0.65), textcoords='axes fraction', fontsize=25,\n",
    "                arrowprops=dict(facecolor='black', shrink=0.1),\n",
    "                horizontalalignment='right', verticalalignment='top',\n",
    "                )\n",
    "\n",
    "\n",
    "ax.set_title('$U(R)_{basal}$, $U(R)_{exc}$',fontsize=15)\n",
    "ax.plot(R,E0 +1/R)\n",
    "ax.plot(R,E1 + 1/R)\n",
    "ax.set_xlabel('Internuclear distance [a.u]',fontsize=15)\n",
    "ax.set_ylabel('U(R)',fontsize=15)\n",
    "\n",
    "mpl.show()                  \n",
    "\n",
    "f.savefig(\"H2p.png\", format='png', dpi=600)\n"
   ]
  },
  {
   "cell_type": "markdown",
   "metadata": {
    "slideshow": {
     "slide_type": "slide"
    }
   },
   "source": [
    "The blue curve is the basal state and it has a minimum at aprox 2.3 meaning $H_2^+$ is stable and that it has an average bond distance of 2.3 a.u.\n",
    "\n",
    "<center><img src=\"./H2p.png\" width=\"600\"></center>\n",
    "\n",
    "The green curve shows that the excited state is not a binding state (anti-binding), therefore the **\"*\"** to indicate anti-binding"
   ]
  },
  {
   "cell_type": "markdown",
   "metadata": {
    "slideshow": {
     "slide_type": "slide"
    }
   },
   "source": [
    "|        | 0        | 1     | 2        | 3 | 4 |\n",
    "|--------|----------|-------|----------|---|---|\n",
    "| letter | $\\sigma$ | $\\pi$ | $\\delta$ |  $\\phi$ | $\\gamma$   |"
   ]
  },
  {
   "cell_type": "markdown",
   "metadata": {
    "collapsed": true,
    "slideshow": {
     "slide_type": "slide"
    }
   },
   "source": [
    "<center><img src=\"https://github.com/jwist/introduction-to-quantum-chemistry/raw/master/img/diatomic.png\" width=\"500\"></center>"
   ]
  },
  {
   "cell_type": "markdown",
   "metadata": {
    "slideshow": {
     "slide_type": "slide"
    }
   },
   "source": [
    "\n",
    "### H<sub>2</sub>\n",
    "<center><img src=\"https://github.com/jwist/introduction-to-quantum-chemistry/raw/master/img/H2moDiagramCR.jpg\" width=\"300\"></center>"
   ]
  },
  {
   "cell_type": "markdown",
   "metadata": {
    "slideshow": {
     "slide_type": "slide"
    }
   },
   "source": [
    "### O<sub>2</sub>\n",
    "<center><img src=\"https://github.com/jwist/introduction-to-quantum-chemistry/raw/master/img/O2moDiagramCR.jpg\" width=\"300\"></center>"
   ]
  },
  {
   "cell_type": "markdown",
   "metadata": {
    "slideshow": {
     "slide_type": "notes"
    }
   },
   "source": [
    "Mixing arises when the energy gap between the 2s and 2p orbitals is not very large. This leads to a mixing of the two orbitals that end in a repulsion. This repulsion causes a large enough shift in energy that the 2s σ* energy is lowered and the 2p σ energy is raised considerably. This is only a trend with the early elements, after oxygen the mixing ceases. The underlying cause for the mixing is the similarity in energies of the 2s and 2p orbitals in tandem with the same symmetry(gerade/ungerade). The early elements have such a low effective nuclear charge that they become prone to mixing. Oxygen is the first diatomic where the energy difference between the 2s and 2p orbitals is significant enough to neglect mixing. Next, we look at the N2 molecular orbital diagram and observe mixing of this nature. (wikipedia)"
   ]
  },
  {
   "cell_type": "markdown",
   "metadata": {
    "slideshow": {
     "slide_type": "slide"
    }
   },
   "source": [
    "### N<sub>2</sub>\n",
    "<center><img src=\"https://github.com/jwist/introduction-to-quantum-chemistry/raw/master/img/N2moDiagramCR.jpg\" width=\"300\"></center>"
   ]
  },
  {
   "cell_type": "markdown",
   "metadata": {
    "slideshow": {
     "slide_type": "notes"
    }
   },
   "source": [
    "Nitric oxide is a heteronuclear molecule that exhibits mixing. The construction of its MO diagram is the same as for the homonuclear molecules. It has a bond order of 2.5 and is a paramagnetic molecule. The energy differences of the 2s orbitals are different enough that each produces its own non-bonding σ orbitals. Notice this is a good example of making the ionized NO+ stabilize the bond and generate a triple bond, also changing the magnetic property to diamagnetic. (wikipedia)"
   ]
  },
  {
   "cell_type": "markdown",
   "metadata": {
    "slideshow": {
     "slide_type": "slide"
    }
   },
   "source": [
    "### NO\n",
    "<center><img src=\"https://github.com/jwist/introduction-to-quantum-chemistry/raw/master/img/NOmoDiagramCR.jpg\" width=\"300\"></center>"
   ]
  },
  {
   "cell_type": "raw",
   "metadata": {
    "slideshow": {
     "slide_type": "notes"
    }
   },
   "source": [
    "Hydrofluoric acid is another example of a heteronuclear molecule. It is slightly different in that the π orbital is non-bonding, as well as the 2s σ. From the hydrogen, its valence 1s electron interacts with the 2p electrons of fluorine. This molecule is diamagnetic and has a bond order of one. (wikipedia)"
   ]
  },
  {
   "cell_type": "markdown",
   "metadata": {
    "slideshow": {
     "slide_type": "slide"
    }
   },
   "source": [
    "### HF\n",
    "<center><img src=\"https://github.com/jwist/introduction-to-quantum-chemistry/raw/master/img/HFmoDiagramCR.jpg\" width=\"300\"></center>"
   ]
  },
  {
   "cell_type": "markdown",
   "metadata": {
    "slideshow": {
     "slide_type": "slide"
    }
   },
   "source": [
    "## Orbital hybrids"
   ]
  },
  {
   "cell_type": "markdown",
   "metadata": {
    "slideshow": {
     "slide_type": "slide"
    }
   },
   "source": [
    "The **valence bound theory (VBT)** is invoked to explain the tetragonal geometry of methane. The problem is that the valence electrons of carbon are not pointing in the tegragonal direction and therfore cannot be used to explain the 4 bonds with hydrogens. Linus Pauling introduced the idea of hybrid orbitals as a **mathematical construction** to ensure that electron density will point in the correct direction. Because it is believed that the overlap of orbitals (electronic density) is what explains the bonding.\n",
    "\n",
    "<center><img src=\"https://github.com/jwist/introduction-to-quantum-chemistry/raw/master/img/methane1.png\" width=\"350\"></center>"
   ]
  },
  {
   "cell_type": "code",
   "execution_count": 142,
   "metadata": {
    "collapsed": false,
    "slideshow": {
     "slide_type": "slide"
    }
   },
   "outputs": [
    {
     "data": {
      "image/png": "[encoded data removed]",
      "text/plain": [
       "<matplotlib.figure.Figure at 0x119973780>"
      ]
     },
     "metadata": {},
     "output_type": "display_data"
    }
   ],
   "source": [
    "#from numpy import *\n",
    "#from matplotlib.pyplot import *\n",
    "\n",
    "mpl.rc('xtick', labelsize=7)\n",
    "mpl.rc('ytick', labelsize=7)\n",
    "\n",
    "phi = np.linspace(0, 2*np.pi, 200)\n",
    "\n",
    "theta = np.pi/4\n",
    "px = np.sqrt(3/(8*np.pi)) * (np.sin(theta) * np.cos(phi));\n",
    "py = np.sqrt(3/(8*np.pi)) * (np.sin(theta) * np.sin(phi));\n",
    "s = np.sqrt(.25/np.pi)\n",
    "\n",
    "f, ax = mpl.subplots(1, 3, subplot_kw=dict(projection='polar'))\n",
    "ax[0].plot(phi, abs(.25*s + (1/np.sqrt(3))*px + (np.sqrt(2)/np.sqrt(3))*py) )\n",
    "ax[1].plot(phi, abs(.25*s + (1/np.sqrt(3))*px - (np.sqrt(2)/np.sqrt(3))*py) )\n",
    "ax[2].plot(phi, abs(.25*s - px ) ) \n",
    "ax[0].set_title('sin(phi)', fontsize=8)\n",
    "\n",
    "mpl.show()"
   ]
  },
  {
   "cell_type": "markdown",
   "metadata": {
    "slideshow": {
     "slide_type": "slide"
    }
   },
   "source": [
    "**Molecular Orbitals (MO)** can constructed from non-hybridized combination of atomic orbitals:\n",
    "\n",
    "<center><img src=\"https://github.com/jwist/introduction-to-quantum-chemistry/raw/master/img/methane2.png\" width=\"500\"></center>\n",
    "\n",
    "Only group orbitals with the same symmetry as the atomic orbital of the center atom should be considered. The overlap integral vanishes otherwise."
   ]
  },
  {
   "cell_type": "markdown",
   "metadata": {
    "slideshow": {
     "slide_type": "slide"
    }
   },
   "source": [
    "From the above combination we can construct the following molecular orbtinal diagram. 10 AO are mixed to give 10 MO. The 4 bounding MO are populated with the 8 electrons while the 4 anti-bounding MOs are empty.\n",
    "\n",
    "<center><img src=\"https://github.com/jwist/introduction-to-quantum-chemistry/raw/master/img/methane3.png\" width=\"350\"></center>"
   ]
  },
  {
   "cell_type": "markdown",
   "metadata": {
    "slideshow": {
     "slide_type": "slide"
    }
   },
   "source": [
    " - This MO diagram clearly shows that the 8 electrons in methanes are **not equivalent** as predicted by VBT or VSEPR (Valence Shell Electron Pair Repulsion) models.\n",
    " - MO theory predict four identical bounds\n",
    " - none of these models correctly predict the geometry (VSEPR might be the only exception)\n",
    " - **the four bound energy are identical although the 8 electrons have different energies!!!**"
   ]
  },
  {
   "cell_type": "markdown",
   "metadata": {
    "slideshow": {
     "slide_type": "slide"
    }
   },
   "source": [
    "Ionization energy of methane\n",
    "<center><img src=\"https://github.com/jwist/introduction-to-quantum-chemistry/raw/master/img/methane4.png\" width=\"350\"></center>\n",
    "\n",
    "http://www.users.csbsju.edu/~frioux/h2bond/MethaneMOBonding.pdf"
   ]
  },
  {
   "cell_type": "markdown",
   "metadata": {
    "slideshow": {
     "slide_type": "slide"
    }
   },
   "source": [
    "Gillespie, R. (2004). Teaching molecular geometry with the VSEPR model. Journal of Chemical Education, 81(3), 298. doi:10.1021/ed081p298\n",
    "\n",
    "Grushow, A. (2011). Is It Time To Retire the Hybrid Atomic Orbital? Journal of Chemical Education, 88(7), 860–862. doi:10.1021/ed100155c"
   ]
  },
  {
   "cell_type": "markdown",
   "metadata": {
    "slideshow": {
     "slide_type": "slide"
    }
   },
   "source": [
    "## valence bound theory\n",
    "\n"
   ]
  },
  {
   "cell_type": "markdown",
   "metadata": {
    "slideshow": {
     "slide_type": "slide"
    }
   },
   "source": [
    "<center><img src=\"https://github.com/jwist/introduction-to-quantum-chemistry/raw/master/img/Ar.png\" width=\"600\"></center>\n",
    "<center><img src=\"https://github.com/jwist/introduction-to-quantum-chemistry/raw/master/img/Fe.png\" width=\"600\"></center>\n",
    "<center><img src=\"https://github.com/jwist/introduction-to-quantum-chemistry/raw/master/img/Co.png\" width=\"600\"></center>\n",
    "<center><img src=\"https://github.com/jwist/introduction-to-quantum-chemistry/raw/master/img/Ni.png\" width=\"600\"></center>\n",
    "<center><img src=\"https://github.com/jwist/introduction-to-quantum-chemistry/raw/master/img/Cu.png\" width=\"600\"></center>\n",
    "\n",
    "http://ptable.com/#Orbital"
   ]
  },
  {
   "cell_type": "markdown",
   "metadata": {
    "slideshow": {
     "slide_type": "slide"
    }
   },
   "source": [
    "Werner (1893) defines \n",
    " - primary valence ($Co^{3+}=3$)\n",
    " - secondary valence ($Co^{3+}=6$)\n",
    " \n",
    "the latter corresponds to the number of ligands\n",
    " \n",
    " - Inner shell complex ($3d^24s4p^3$) $Co(NH_3)_6^{3+}$ ($Co^{3+}=[Ar]3d^6$)\n",
    " - Outter shell complex ($4s4p^34d^2$) ($Ni^{2+}=[Ar]3d^8$)\n",
    " \n",
    "The latter is not closed-shell and thus it is no possible to **predict** the number of ligands without experimental data\n",
    " \n"
   ]
  },
  {
   "cell_type": "markdown",
   "metadata": {
    "slideshow": {
     "slide_type": "slide"
    }
   },
   "source": [
    "This simple VBT model doesn't explains the different colors observed for the following complexes: \n",
    " \n",
    " - $[Co(NH_3)_6]^{3+}[Cl^-]_3$  is orange\n",
    " - $[Co(NH_3)_5(H_2O)]^{3+}[Cl^-]_3$  is red\n",
    " - $[Co(NH_3)_5(Cl^-)]^{2+}[Cl^-]_2$  is purple\n",
    " - $[Co(NH_3)_4(Cl^-)_2]^{+}[Cl^-]$  is green"
   ]
  },
  {
   "cell_type": "markdown",
   "metadata": {
    "slideshow": {
     "slide_type": "slide"
    }
   },
   "source": [
    "## Crystal field theory (CFT)"
   ]
  },
  {
   "cell_type": "markdown",
   "metadata": {
    "slideshow": {
     "slide_type": "slide"
    }
   },
   "source": [
    "<center><img src=\"https://github.com/jwist/introduction-to-quantum-chemistry/raw/master/img/dorbitals.png\" width=\"400\"></center>\n",
    "\n",
    "The electronic configuration of $Co^{3+}$ is <a href=\"http://www.ptable.com/#Orbital\">$[Ar]3d^64s^04p^0$</a>. It is possible to construct 6 $d^2sp^3$ orbitals. Which *d-orbitals* to **choose** to construct 6 hybrids orbital in octahedral symmetry?"
   ]
  },
  {
   "cell_type": "markdown",
   "metadata": {
    "slideshow": {
     "slide_type": "slide"
    }
   },
   "source": [
    "<center><img src=\"https://github.com/jwist/introduction-to-quantum-chemistry/raw/master/img/octa.png\" width=\"400\"></center>\n",
    "\n",
    "<center><img src=\"https://github.com/jwist/introduction-to-quantum-chemistry/raw/master/img/tetra.png\" width=\"400\"></center>\n"
   ]
  },
  {
   "cell_type": "markdown",
   "metadata": {
    "slideshow": {
     "slide_type": "slide"
    }
   },
   "source": [
    "### spectroscopic series\n",
    "\n",
    "#### metal effects\n",
    "$$\n",
    "Pt^{4+} > Ir^{3+} > Rh^{3+} > Co^{3+} > Cr^{3+} > Fe^{3+} > Fe^{2+} > Co^{2+} > Ni^{2+} > Mn^{2+}\n",
    "$$\n",
    "\n",
    "ions to the left-hand side generate higher crystal field (higher $\\Delta_0$)\n",
    "\n",
    "#### Ligand effects\n",
    "$$\n",
    "CO \\sim CN^-> NO^{2-} > NH_3 > NCS^- > H2O > OH^- > F^- > SCN^-\\sim Cl^- > Br^-\n",
    "$$\n",
    "\n",
    "ligand to the left-hand side generate higher crystal field (higher $\\Delta_0$)"
   ]
  },
  {
   "cell_type": "markdown",
   "metadata": {
    "slideshow": {
     "slide_type": "slide"
    }
   },
   "source": [
    "## Ligand field theory \n",
    "\n"
   ]
  },
  {
   "cell_type": "markdown",
   "metadata": {
    "slideshow": {
     "slide_type": "slide"
    }
   },
   "source": [
    "<center><img src=\"https://github.com/jwist/introduction-to-quantum-chemistry/raw/master/img/grporbitals.jpg\" width=\"400\"></center>\n",
    "\n",
    "Only the group orbitals with the same symmetry group as the metal orbital are evaluated. This is because the overlap intergral in the variational theory vanishes when this conditions is not fulfilled."
   ]
  },
  {
   "cell_type": "markdown",
   "metadata": {
    "slideshow": {
     "slide_type": "slide"
    }
   },
   "source": [
    "<center><img src=\"https://github.com/jwist/introduction-to-quantum-chemistry/raw/master/img/sigma-bonding.png\" width=\"300\"></center>\n",
    "\n",
    "$Ti^{3+}[Ar]d^1$ + $6H_2O(12 e^-)$ \n",
    "<center><img src=\"https://github.com/jwist/introduction-to-quantum-chemistry/raw/master/img/Ti.png\" width=\"600\"></center>\n"
   ]
  },
  {
   "cell_type": "markdown",
   "metadata": {
    "slideshow": {
     "slide_type": "slide"
    }
   },
   "source": [
    "\n",
    "### high spin\n",
    "\n",
    "<center><img src=\"https://github.com/jwist/introduction-to-quantum-chemistry/raw/master/img/CFT-High_Spin.svg\" width=\"400\"></center>\n",
    "\n",
    "### low spin\n",
    "\n",
    "<center><img src=\"https://github.com/jwist/introduction-to-quantum-chemistry/raw/master/img/CFT-Low_Spin.svg\" width=\"400\"></center>"
   ]
  },
  {
   "cell_type": "markdown",
   "metadata": {
    "slideshow": {
     "slide_type": "slide"
    }
   },
   "source": [
    "<center><img src=\"https://github.com/jwist/introduction-to-quantum-chemistry/raw/master/img/pi-bonding3.png\" width=\"500\"></center>\n",
    "<center><img src=\"https://github.com/jwist/introduction-to-quantum-chemistry/raw/master/img/pi-bonding4.png\" width=\"500\"></center>\n"
   ]
  },
  {
   "cell_type": "code",
   "execution_count": null,
   "metadata": {
    "collapsed": true
   },
   "outputs": [],
   "source": []
  }
 ],
 "metadata": {
  "celltoolbar": "Slideshow",
  "kernelspec": {
   "display_name": "Python 3",
   "language": "python",
   "name": "python3"
  },
  "language_info": {
   "codemirror_mode": {
    "name": "ipython",
    "version": 3
   },
   "file_extension": ".py",
   "mimetype": "text/x-python",
   "name": "python",
   "nbconvert_exporter": "python",
   "pygments_lexer": "ipython3",
   "version": "3.5.2"
  }
 },
 "nbformat": 4,
 "nbformat_minor": 0
}
